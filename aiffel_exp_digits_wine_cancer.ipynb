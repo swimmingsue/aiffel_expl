{
 "cells": [
  {
   "cell_type": "code",
   "execution_count": 69,
   "id": "75b1b0f0",
   "metadata": {},
   "outputs": [],
   "source": [
    "from sklearn.datasets import load_digits\n",
    "from sklearn.model_selection import train_test_split\n",
    "from sklearn.metrics import classification_report"
   ]
  },
  {
   "cell_type": "code",
   "execution_count": 70,
   "id": "5dd6f557",
   "metadata": {},
   "outputs": [
    {
     "data": {
      "text/plain": [
       "dict_keys(['data', 'target', 'frame', 'feature_names', 'target_names', 'images', 'DESCR'])"
      ]
     },
     "execution_count": 70,
     "metadata": {},
     "output_type": "execute_result"
    }
   ],
   "source": [
    "digits = load_digits()\n",
    "digits.keys()\n"
   ]
  },
  {
   "cell_type": "code",
   "execution_count": 71,
   "id": "7325d1a5",
   "metadata": {},
   "outputs": [
    {
     "data": {
      "text/plain": [
       "['DESCR', 'data', 'feature_names', 'frame', 'images', 'target', 'target_names']"
      ]
     },
     "execution_count": 71,
     "metadata": {},
     "output_type": "execute_result"
    }
   ],
   "source": [
    "dir(digits)"
   ]
  },
  {
   "cell_type": "code",
   "execution_count": 72,
   "id": "38bb0ea4",
   "metadata": {},
   "outputs": [],
   "source": [
    "digits_label = digits.target\n",
    "digits_data = digits.data"
   ]
  },
  {
   "cell_type": "code",
   "execution_count": 73,
   "id": "95347d06",
   "metadata": {},
   "outputs": [
    {
     "data": {
      "text/plain": [
       "array([0, 1, 2, 3, 4, 5, 6, 7, 8, 9])"
      ]
     },
     "execution_count": 73,
     "metadata": {},
     "output_type": "execute_result"
    }
   ],
   "source": [
    "digits.target_names"
   ]
  },
  {
   "cell_type": "code",
   "execution_count": 74,
   "id": "80796491",
   "metadata": {
    "scrolled": true
   },
   "outputs": [
    {
     "data": {
      "text/plain": [
       "\".. _digits_dataset:\\n\\nOptical recognition of handwritten digits dataset\\n--------------------------------------------------\\n\\n**Data Set Characteristics:**\\n\\n    :Number of Instances: 1797\\n    :Number of Attributes: 64\\n    :Attribute Information: 8x8 image of integer pixels in the range 0..16.\\n    :Missing Attribute Values: None\\n    :Creator: E. Alpaydin (alpaydin '@' boun.edu.tr)\\n    :Date: July; 1998\\n\\nThis is a copy of the test set of the UCI ML hand-written digits datasets\\nhttps://archive.ics.uci.edu/ml/datasets/Optical+Recognition+of+Handwritten+Digits\\n\\nThe data set contains images of hand-written digits: 10 classes where\\neach class refers to a digit.\\n\\nPreprocessing programs made available by NIST were used to extract\\nnormalized bitmaps of handwritten digits from a preprinted form. From a\\ntotal of 43 people, 30 contributed to the training set and different 13\\nto the test set. 32x32 bitmaps are divided into nonoverlapping blocks of\\n4x4 and the number of on pixels are counted in each block. This generates\\nan input matrix of 8x8 where each element is an integer in the range\\n0..16. This reduces dimensionality and gives invariance to small\\ndistortions.\\n\\nFor info on NIST preprocessing routines, see M. D. Garris, J. L. Blue, G.\\nT. Candela, D. L. Dimmick, J. Geist, P. J. Grother, S. A. Janet, and C.\\nL. Wilson, NIST Form-Based Handprint Recognition System, NISTIR 5469,\\n1994.\\n\\n.. topic:: References\\n\\n  - C. Kaynak (1995) Methods of Combining Multiple Classifiers and Their\\n    Applications to Handwritten Digit Recognition, MSc Thesis, Institute of\\n    Graduate Studies in Science and Engineering, Bogazici University.\\n  - E. Alpaydin, C. Kaynak (1998) Cascading Classifiers, Kybernetika.\\n  - Ken Tang and Ponnuthurai N. Suganthan and Xi Yao and A. Kai Qin.\\n    Linear dimensionalityreduction using relevance weighted LDA. School of\\n    Electrical and Electronic Engineering Nanyang Technological University.\\n    2005.\\n  - Claudio Gentile. A New Approximate Maximal Margin Classification\\n    Algorithm. NIPS. 2000.\\n\""
      ]
     },
     "execution_count": 74,
     "metadata": {},
     "output_type": "execute_result"
    }
   ],
   "source": [
    "digits.DESCR"
   ]
  },
  {
   "cell_type": "code",
   "execution_count": 75,
   "id": "39dce763",
   "metadata": {},
   "outputs": [],
   "source": [
    "X_train, X_test, y_train, y_test = train_test_split(digits_data, digits_label, test_size = 0.2, random_state = 31)"
   ]
  },
  {
   "cell_type": "code",
   "execution_count": 76,
   "id": "b50a1262",
   "metadata": {},
   "outputs": [],
   "source": [
    "from sklearn.tree import DecisionTreeClassifier\n",
    "from sklearn.ensemble import RandomForestClassifier\n",
    "from sklearn import svm\n",
    "from sklearn.linear_model import SGDClassifier\n",
    "from sklearn.linear_model import LogisticRegression"
   ]
  },
  {
   "cell_type": "code",
   "execution_count": 77,
   "id": "de2ef0c8",
   "metadata": {},
   "outputs": [
    {
     "name": "stdout",
     "output_type": "stream",
     "text": [
      "1437 360\n"
     ]
    }
   ],
   "source": [
    "print(len(X_train), len(X_test) )"
   ]
  },
  {
   "cell_type": "markdown",
   "id": "c17a3f8d",
   "metadata": {},
   "source": [
    "의사결정나무"
   ]
  },
  {
   "cell_type": "code",
   "execution_count": 78,
   "id": "dbe88a4e",
   "metadata": {},
   "outputs": [
    {
     "data": {
      "text/plain": [
       "array([8, 9, 4, 2, 9, 2, 0, 3, 6, 0, 6, 6, 3, 1, 6, 7, 0, 4, 9, 8, 1, 8,\n",
       "       6, 8, 1, 0, 7, 0, 0, 7, 3, 1, 8, 6, 6, 7, 4, 0, 0, 9, 0, 1, 4, 8,\n",
       "       7, 5, 2, 7, 9, 5, 8, 6, 3, 9, 1, 8, 3, 7, 4, 4, 4, 0, 8, 4, 2, 0,\n",
       "       0, 8, 2, 9, 4, 9, 8, 1, 4, 1, 7, 5, 5, 6, 0, 7, 7, 3, 5, 5, 2, 8,\n",
       "       3, 8, 0, 2, 3, 1, 6, 9, 0, 4, 0, 4, 6, 3, 7, 5, 4, 0, 3, 8, 8, 5,\n",
       "       0, 4, 7, 1, 4, 1, 9, 6, 3, 4, 7, 9, 7, 0, 2, 9, 5, 5, 6, 9, 8, 5,\n",
       "       9, 9, 1, 3, 1, 4, 8, 2, 7, 0, 2, 5, 0, 9, 9, 2, 5, 0, 0, 3, 7, 0,\n",
       "       8, 2, 2, 6, 4, 0, 1, 7, 9, 4, 7, 0, 1, 6, 7, 9, 1, 5, 4, 0, 2, 1,\n",
       "       9, 4, 2, 8, 9, 1, 2, 8, 5, 7, 1, 2, 4, 3, 3, 8, 3, 7, 2, 1, 0, 2,\n",
       "       4, 8, 8, 4, 2, 0, 8, 4, 3, 9, 3, 4, 2, 5, 3, 6, 7, 2, 0, 8, 4, 7,\n",
       "       1, 0, 4, 0, 4, 6, 3, 7, 2, 9, 8, 0, 4, 5, 2, 7, 1, 2, 1, 9, 5, 9,\n",
       "       8, 8, 9, 5, 9, 1, 3, 5, 3, 8, 2, 6, 7, 7, 0, 0, 3, 1, 4, 0, 0, 6,\n",
       "       4, 0, 3, 8, 4, 0, 2, 9, 9, 1, 6, 6, 3, 4, 9, 5, 2, 1, 2, 7, 2, 3,\n",
       "       0, 8, 4, 5, 7, 6, 4, 4, 0, 9, 5, 5, 2, 8, 8, 3, 8, 0, 6, 3, 8, 4,\n",
       "       8, 4, 2, 9, 8, 4, 8, 3, 1, 2, 8, 7, 2, 3, 3, 7, 3, 3, 7, 8, 7, 5,\n",
       "       4, 0, 0, 2, 2, 9, 1, 3, 0, 4, 3, 7, 1, 7, 4, 1, 2, 9, 4, 0, 5, 5,\n",
       "       1, 5, 8, 9, 3, 8, 3, 3])"
      ]
     },
     "execution_count": 78,
     "metadata": {},
     "output_type": "execute_result"
    }
   ],
   "source": [
    "decision_tree = DecisionTreeClassifier(random_state=32)\n",
    "decision_tree.fit(X_train, y_train)\n",
    "y_pred = decision_tree.predict(X_test)\n",
    "y_pred"
   ]
  },
  {
   "cell_type": "code",
   "execution_count": 79,
   "id": "8fd99245",
   "metadata": {
    "scrolled": false
   },
   "outputs": [
    {
     "data": {
      "text/plain": [
       "0.8527777777777777"
      ]
     },
     "execution_count": 79,
     "metadata": {},
     "output_type": "execute_result"
    }
   ],
   "source": [
    "from sklearn.metrics import accuracy_score\n",
    "accuracy = accuracy_score(y_test, y_pred)\n",
    "accuracy"
   ]
  },
  {
   "cell_type": "markdown",
   "id": "b12dbd0b",
   "metadata": {},
   "source": [
    "랜덤포레스트"
   ]
  },
  {
   "cell_type": "code",
   "execution_count": 80,
   "id": "2b0ce936",
   "metadata": {},
   "outputs": [
    {
     "data": {
      "text/plain": [
       "array([8, 8, 5, 2, 9, 2, 0, 3, 6, 0, 6, 6, 0, 6, 6, 7, 0, 4, 3, 8, 1, 8,\n",
       "       6, 8, 1, 0, 7, 4, 0, 7, 3, 1, 8, 6, 6, 7, 4, 0, 0, 9, 0, 1, 1, 8,\n",
       "       7, 5, 2, 7, 1, 5, 4, 6, 3, 3, 1, 9, 3, 7, 4, 4, 4, 0, 8, 4, 1, 0,\n",
       "       0, 8, 2, 2, 4, 9, 1, 1, 4, 1, 7, 5, 5, 6, 0, 7, 7, 3, 5, 5, 2, 8,\n",
       "       3, 8, 0, 2, 3, 1, 6, 1, 0, 4, 0, 4, 6, 3, 7, 5, 4, 0, 3, 8, 8, 5,\n",
       "       0, 4, 7, 1, 8, 1, 9, 6, 3, 7, 7, 9, 7, 0, 2, 9, 5, 5, 6, 9, 8, 5,\n",
       "       3, 9, 1, 3, 1, 4, 1, 2, 7, 0, 2, 5, 0, 9, 9, 2, 5, 0, 0, 3, 7, 0,\n",
       "       8, 2, 2, 6, 4, 0, 1, 7, 9, 4, 7, 0, 1, 6, 2, 9, 1, 5, 4, 0, 2, 1,\n",
       "       9, 7, 2, 8, 9, 1, 2, 3, 5, 7, 1, 2, 4, 3, 3, 8, 3, 7, 2, 1, 0, 2,\n",
       "       1, 1, 4, 8, 2, 0, 8, 4, 3, 9, 1, 4, 2, 2, 3, 6, 7, 8, 0, 8, 6, 7,\n",
       "       1, 0, 4, 0, 4, 6, 3, 7, 2, 9, 8, 0, 4, 5, 2, 7, 1, 2, 1, 4, 9, 9,\n",
       "       8, 5, 3, 4, 9, 1, 2, 5, 3, 1, 2, 6, 7, 7, 0, 0, 5, 1, 4, 0, 0, 6,\n",
       "       4, 0, 3, 8, 4, 0, 1, 9, 3, 1, 6, 6, 3, 4, 9, 5, 2, 2, 2, 7, 1, 8,\n",
       "       0, 8, 4, 5, 7, 6, 4, 7, 0, 9, 5, 5, 2, 8, 9, 3, 8, 0, 6, 2, 8, 4,\n",
       "       8, 4, 2, 9, 8, 4, 8, 3, 1, 9, 2, 7, 2, 6, 9, 7, 3, 3, 7, 8, 7, 5,\n",
       "       1, 0, 0, 2, 2, 9, 1, 3, 0, 4, 8, 7, 1, 7, 4, 1, 2, 9, 4, 0, 5, 5,\n",
       "       1, 5, 3, 9, 7, 8, 3, 5])"
      ]
     },
     "execution_count": 80,
     "metadata": {},
     "output_type": "execute_result"
    }
   ],
   "source": [
    "random_forest = RandomForestClassifier(random_state=32)\n",
    "random_forest.fit(X_train, y_train)\n",
    "y_pred = random_forest.predict(X_test)\n",
    "y_pred"
   ]
  },
  {
   "cell_type": "code",
   "execution_count": 81,
   "id": "188a4409",
   "metadata": {},
   "outputs": [
    {
     "data": {
      "text/plain": [
       "0.975"
      ]
     },
     "execution_count": 81,
     "metadata": {},
     "output_type": "execute_result"
    }
   ],
   "source": [
    "accuracy = accuracy_score(y_test, y_pred)\n",
    "accuracy"
   ]
  },
  {
   "cell_type": "code",
   "execution_count": 82,
   "id": "3b1dad23",
   "metadata": {},
   "outputs": [
    {
     "data": {
      "text/plain": [
       "array([8, 9, 5, 2, 9, 2, 0, 3, 6, 0, 6, 6, 0, 6, 6, 7, 0, 4, 3, 8, 1, 8,\n",
       "       6, 8, 1, 0, 7, 4, 0, 7, 3, 1, 8, 6, 6, 7, 4, 0, 0, 9, 0, 8, 1, 8,\n",
       "       7, 5, 2, 7, 1, 5, 4, 6, 3, 3, 1, 9, 3, 7, 4, 4, 4, 0, 8, 4, 1, 0,\n",
       "       0, 8, 2, 2, 4, 9, 1, 1, 4, 1, 7, 5, 5, 6, 0, 7, 7, 3, 5, 5, 2, 8,\n",
       "       3, 8, 0, 2, 3, 1, 6, 1, 0, 4, 0, 4, 6, 3, 7, 5, 4, 0, 3, 8, 8, 5,\n",
       "       0, 4, 7, 1, 8, 1, 9, 6, 3, 7, 7, 9, 7, 0, 2, 9, 5, 5, 6, 9, 8, 5,\n",
       "       3, 9, 1, 3, 1, 4, 1, 2, 7, 0, 2, 5, 0, 9, 9, 2, 5, 0, 0, 3, 7, 0,\n",
       "       8, 2, 2, 6, 4, 0, 1, 7, 9, 4, 7, 0, 1, 6, 2, 9, 1, 5, 4, 0, 2, 1,\n",
       "       9, 7, 2, 8, 9, 1, 2, 3, 5, 7, 1, 2, 4, 3, 3, 8, 3, 7, 2, 1, 0, 2,\n",
       "       6, 1, 4, 8, 2, 0, 8, 4, 3, 9, 1, 4, 2, 2, 3, 6, 7, 8, 0, 8, 6, 7,\n",
       "       1, 0, 4, 0, 4, 6, 3, 7, 2, 9, 8, 0, 4, 5, 2, 7, 1, 2, 1, 4, 9, 9,\n",
       "       8, 5, 3, 5, 9, 1, 2, 5, 3, 1, 2, 6, 7, 7, 0, 0, 5, 1, 4, 0, 0, 6,\n",
       "       4, 0, 3, 8, 4, 0, 1, 9, 3, 1, 6, 6, 3, 4, 9, 5, 2, 2, 2, 7, 1, 8,\n",
       "       0, 8, 4, 5, 7, 6, 4, 8, 0, 9, 5, 5, 2, 8, 9, 3, 8, 0, 6, 2, 8, 4,\n",
       "       8, 4, 2, 9, 8, 4, 8, 3, 1, 9, 2, 7, 2, 6, 8, 7, 3, 3, 7, 8, 7, 5,\n",
       "       1, 0, 0, 2, 2, 9, 1, 3, 0, 4, 8, 7, 1, 7, 4, 1, 2, 9, 4, 0, 5, 5,\n",
       "       1, 5, 3, 9, 7, 8, 3, 8])"
      ]
     },
     "execution_count": 82,
     "metadata": {},
     "output_type": "execute_result"
    }
   ],
   "source": [
    "#SVM \n",
    "svm_model = svm.SVC(random_state=32)\n",
    "svm_model.fit(X_train, y_train)\n",
    "y_pred = svm_model.predict(X_test)\n",
    "y_pred"
   ]
  },
  {
   "cell_type": "code",
   "execution_count": 83,
   "id": "1c8947cf",
   "metadata": {},
   "outputs": [
    {
     "data": {
      "text/plain": [
       "0.9861111111111112"
      ]
     },
     "execution_count": 83,
     "metadata": {},
     "output_type": "execute_result"
    }
   ],
   "source": [
    "accuracy = accuracy_score(y_test, y_pred)\n",
    "accuracy"
   ]
  },
  {
   "cell_type": "code",
   "execution_count": 84,
   "id": "de6516e0",
   "metadata": {},
   "outputs": [
    {
     "data": {
      "text/plain": [
       "array([2, 8, 5, 2, 9, 2, 0, 3, 6, 0, 6, 6, 0, 6, 6, 7, 0, 4, 3, 8, 1, 8,\n",
       "       6, 8, 1, 0, 7, 4, 0, 7, 3, 1, 8, 6, 6, 7, 4, 0, 0, 9, 0, 8, 1, 8,\n",
       "       7, 5, 2, 7, 3, 5, 4, 6, 3, 3, 1, 9, 3, 7, 4, 4, 4, 0, 3, 4, 1, 0,\n",
       "       0, 3, 2, 2, 4, 9, 1, 1, 4, 1, 7, 5, 5, 6, 0, 7, 7, 3, 5, 5, 2, 9,\n",
       "       3, 9, 0, 2, 3, 1, 6, 1, 0, 4, 0, 4, 6, 3, 7, 5, 4, 0, 3, 8, 8, 5,\n",
       "       0, 4, 7, 1, 9, 1, 9, 6, 3, 7, 7, 3, 7, 0, 2, 9, 5, 5, 6, 9, 3, 5,\n",
       "       3, 3, 1, 3, 1, 4, 1, 2, 7, 0, 2, 5, 0, 9, 9, 3, 5, 0, 0, 3, 7, 0,\n",
       "       8, 2, 2, 6, 4, 0, 1, 7, 9, 4, 7, 0, 1, 6, 2, 9, 1, 5, 4, 0, 2, 1,\n",
       "       9, 7, 2, 3, 9, 1, 2, 3, 5, 7, 1, 2, 4, 3, 3, 8, 3, 7, 2, 1, 0, 2,\n",
       "       6, 1, 4, 8, 2, 0, 8, 4, 3, 1, 1, 4, 2, 2, 3, 6, 7, 8, 0, 3, 6, 7,\n",
       "       1, 0, 4, 0, 4, 6, 3, 7, 2, 9, 1, 0, 4, 5, 2, 7, 1, 2, 1, 4, 9, 9,\n",
       "       8, 5, 3, 5, 9, 1, 2, 5, 3, 1, 2, 6, 7, 7, 0, 0, 5, 1, 4, 0, 0, 6,\n",
       "       4, 0, 3, 3, 4, 0, 1, 9, 3, 1, 6, 6, 3, 0, 9, 5, 2, 2, 2, 7, 1, 3,\n",
       "       0, 8, 4, 5, 7, 6, 4, 1, 0, 9, 5, 5, 2, 8, 9, 3, 8, 0, 6, 2, 8, 4,\n",
       "       5, 4, 2, 9, 8, 4, 8, 3, 1, 9, 2, 7, 2, 6, 5, 7, 3, 3, 7, 8, 7, 5,\n",
       "       1, 0, 0, 2, 2, 3, 1, 3, 0, 4, 3, 7, 1, 7, 4, 1, 2, 9, 4, 0, 5, 5,\n",
       "       1, 5, 3, 9, 7, 3, 3, 5])"
      ]
     },
     "execution_count": 84,
     "metadata": {},
     "output_type": "execute_result"
    }
   ],
   "source": [
    "sgd_model = SGDClassifier(random_state = 32)\n",
    "sgd_model.fit(X_train, y_train)\n",
    "y_pred = sgd_model.predict(X_test)\n",
    "y_pred"
   ]
  },
  {
   "cell_type": "code",
   "execution_count": 85,
   "id": "07b726b5",
   "metadata": {},
   "outputs": [
    {
     "data": {
      "text/plain": [
       "0.9305555555555556"
      ]
     },
     "execution_count": 85,
     "metadata": {},
     "output_type": "execute_result"
    }
   ],
   "source": [
    "accuracy = accuracy_score(y_test, y_pred)\n",
    "accuracy"
   ]
  },
  {
   "cell_type": "code",
   "execution_count": 86,
   "id": "7d59f522",
   "metadata": {},
   "outputs": [
    {
     "data": {
      "text/plain": [
       "array([2, 8, 5, 2, 9, 2, 0, 3, 6, 0, 6, 6, 0, 6, 6, 7, 0, 4, 3, 8, 1, 8,\n",
       "       6, 8, 1, 0, 7, 4, 0, 7, 3, 1, 8, 6, 6, 7, 4, 0, 0, 9, 0, 8, 1, 8,\n",
       "       7, 5, 2, 7, 3, 5, 4, 6, 3, 3, 1, 9, 3, 7, 4, 4, 4, 0, 8, 4, 1, 0,\n",
       "       0, 8, 2, 2, 4, 9, 1, 1, 4, 1, 7, 5, 5, 6, 0, 7, 7, 3, 5, 5, 2, 9,\n",
       "       3, 8, 0, 2, 3, 1, 6, 1, 0, 4, 0, 4, 6, 3, 7, 5, 4, 0, 3, 8, 8, 5,\n",
       "       0, 4, 7, 1, 9, 1, 9, 6, 3, 7, 7, 9, 7, 0, 2, 9, 5, 5, 6, 9, 8, 5,\n",
       "       3, 3, 1, 3, 1, 4, 1, 2, 7, 0, 2, 5, 0, 9, 9, 3, 5, 0, 0, 3, 7, 0,\n",
       "       8, 2, 2, 6, 4, 0, 1, 7, 9, 4, 7, 0, 1, 6, 2, 9, 1, 5, 4, 0, 2, 1,\n",
       "       9, 7, 2, 8, 9, 1, 2, 3, 5, 7, 8, 2, 4, 9, 3, 8, 3, 7, 2, 8, 0, 2,\n",
       "       6, 4, 4, 8, 2, 0, 8, 4, 3, 9, 1, 4, 2, 2, 3, 6, 7, 8, 0, 8, 1, 7,\n",
       "       1, 0, 4, 0, 4, 6, 3, 7, 2, 9, 8, 0, 4, 5, 2, 7, 1, 2, 1, 4, 9, 9,\n",
       "       8, 5, 3, 5, 9, 1, 2, 5, 3, 1, 2, 6, 7, 7, 0, 0, 5, 1, 4, 0, 0, 6,\n",
       "       4, 0, 3, 8, 4, 0, 1, 9, 3, 1, 6, 6, 3, 0, 9, 5, 2, 2, 2, 7, 1, 8,\n",
       "       0, 8, 4, 5, 7, 6, 4, 1, 0, 9, 5, 5, 2, 8, 9, 3, 8, 0, 6, 2, 8, 4,\n",
       "       8, 4, 2, 9, 8, 4, 8, 3, 1, 9, 2, 7, 2, 6, 8, 7, 3, 3, 7, 8, 7, 5,\n",
       "       1, 0, 0, 2, 2, 9, 1, 3, 0, 4, 8, 7, 1, 7, 4, 1, 2, 9, 4, 0, 5, 5,\n",
       "       1, 5, 3, 9, 7, 8, 3, 5])"
      ]
     },
     "execution_count": 86,
     "metadata": {},
     "output_type": "execute_result"
    }
   ],
   "source": [
    "logistic_model = LogisticRegression(random_state=32, solver= \"liblinear\")\n",
    "logistic_model.fit(X_train, y_train)\n",
    "y_pred = logistic_model.predict(X_test)\n",
    "y_pred"
   ]
  },
  {
   "cell_type": "code",
   "execution_count": 87,
   "id": "73f2c205",
   "metadata": {},
   "outputs": [
    {
     "data": {
      "text/plain": [
       "0.9611111111111111"
      ]
     },
     "execution_count": 87,
     "metadata": {},
     "output_type": "execute_result"
    }
   ],
   "source": [
    "accuracy = accuracy_score(y_test,y_pred)\n",
    "accuracy"
   ]
  },
  {
   "cell_type": "markdown",
   "id": "c3feaf3e",
   "metadata": {},
   "source": [
    "# 와인분류하기"
   ]
  },
  {
   "cell_type": "code",
   "execution_count": 88,
   "id": "76f880e1",
   "metadata": {},
   "outputs": [],
   "source": [
    "from sklearn.datasets import load_wine"
   ]
  },
  {
   "cell_type": "code",
   "execution_count": 89,
   "id": "fe263fe2",
   "metadata": {},
   "outputs": [
    {
     "data": {
      "text/plain": [
       "dict_keys(['data', 'target', 'frame', 'target_names', 'DESCR', 'feature_names'])"
      ]
     },
     "execution_count": 89,
     "metadata": {},
     "output_type": "execute_result"
    }
   ],
   "source": [
    "wine = load_wine()\n",
    "wine.keys()\n"
   ]
  },
  {
   "cell_type": "code",
   "execution_count": 90,
   "id": "fa98ab12",
   "metadata": {},
   "outputs": [
    {
     "data": {
      "text/plain": [
       "['DESCR', 'data', 'feature_names', 'frame', 'target', 'target_names']"
      ]
     },
     "execution_count": 90,
     "metadata": {},
     "output_type": "execute_result"
    }
   ],
   "source": [
    "dir(wine)"
   ]
  },
  {
   "cell_type": "code",
   "execution_count": 91,
   "id": "f0646750",
   "metadata": {},
   "outputs": [],
   "source": [
    "wine_label = digits.target\n",
    "wine_data = digits.data"
   ]
  },
  {
   "cell_type": "code",
   "execution_count": 92,
   "id": "514ebbda",
   "metadata": {},
   "outputs": [
    {
     "name": "stdout",
     "output_type": "stream",
     "text": [
      "['class_0' 'class_1' 'class_2']\n"
     ]
    },
    {
     "data": {
      "text/plain": [
       "['alcohol',\n",
       " 'malic_acid',\n",
       " 'ash',\n",
       " 'alcalinity_of_ash',\n",
       " 'magnesium',\n",
       " 'total_phenols',\n",
       " 'flavanoids',\n",
       " 'nonflavanoid_phenols',\n",
       " 'proanthocyanins',\n",
       " 'color_intensity',\n",
       " 'hue',\n",
       " 'od280/od315_of_diluted_wines',\n",
       " 'proline']"
      ]
     },
     "execution_count": 92,
     "metadata": {},
     "output_type": "execute_result"
    }
   ],
   "source": [
    "print(wine.target_names)\n",
    "wine.feature_names"
   ]
  },
  {
   "cell_type": "code",
   "execution_count": 93,
   "id": "dc392736",
   "metadata": {},
   "outputs": [
    {
     "data": {
      "text/plain": [
       "'.. _wine_dataset:\\n\\nWine recognition dataset\\n------------------------\\n\\n**Data Set Characteristics:**\\n\\n    :Number of Instances: 178 (50 in each of three classes)\\n    :Number of Attributes: 13 numeric, predictive attributes and the class\\n    :Attribute Information:\\n \\t\\t- Alcohol\\n \\t\\t- Malic acid\\n \\t\\t- Ash\\n\\t\\t- Alcalinity of ash  \\n \\t\\t- Magnesium\\n\\t\\t- Total phenols\\n \\t\\t- Flavanoids\\n \\t\\t- Nonflavanoid phenols\\n \\t\\t- Proanthocyanins\\n\\t\\t- Color intensity\\n \\t\\t- Hue\\n \\t\\t- OD280/OD315 of diluted wines\\n \\t\\t- Proline\\n\\n    - class:\\n            - class_0\\n            - class_1\\n            - class_2\\n\\t\\t\\n    :Summary Statistics:\\n    \\n    ============================= ==== ===== ======= =====\\n                                   Min   Max   Mean     SD\\n    ============================= ==== ===== ======= =====\\n    Alcohol:                      11.0  14.8    13.0   0.8\\n    Malic Acid:                   0.74  5.80    2.34  1.12\\n    Ash:                          1.36  3.23    2.36  0.27\\n    Alcalinity of Ash:            10.6  30.0    19.5   3.3\\n    Magnesium:                    70.0 162.0    99.7  14.3\\n    Total Phenols:                0.98  3.88    2.29  0.63\\n    Flavanoids:                   0.34  5.08    2.03  1.00\\n    Nonflavanoid Phenols:         0.13  0.66    0.36  0.12\\n    Proanthocyanins:              0.41  3.58    1.59  0.57\\n    Colour Intensity:              1.3  13.0     5.1   2.3\\n    Hue:                          0.48  1.71    0.96  0.23\\n    OD280/OD315 of diluted wines: 1.27  4.00    2.61  0.71\\n    Proline:                       278  1680     746   315\\n    ============================= ==== ===== ======= =====\\n\\n    :Missing Attribute Values: None\\n    :Class Distribution: class_0 (59), class_1 (71), class_2 (48)\\n    :Creator: R.A. Fisher\\n    :Donor: Michael Marshall (MARSHALL%PLU@io.arc.nasa.gov)\\n    :Date: July, 1988\\n\\nThis is a copy of UCI ML Wine recognition datasets.\\nhttps://archive.ics.uci.edu/ml/machine-learning-databases/wine/wine.data\\n\\nThe data is the results of a chemical analysis of wines grown in the same\\nregion in Italy by three different cultivators. There are thirteen different\\nmeasurements taken for different constituents found in the three types of\\nwine.\\n\\nOriginal Owners: \\n\\nForina, M. et al, PARVUS - \\nAn Extendible Package for Data Exploration, Classification and Correlation. \\nInstitute of Pharmaceutical and Food Analysis and Technologies,\\nVia Brigata Salerno, 16147 Genoa, Italy.\\n\\nCitation:\\n\\nLichman, M. (2013). UCI Machine Learning Repository\\n[https://archive.ics.uci.edu/ml]. Irvine, CA: University of California,\\nSchool of Information and Computer Science. \\n\\n.. topic:: References\\n\\n  (1) S. Aeberhard, D. Coomans and O. de Vel, \\n  Comparison of Classifiers in High Dimensional Settings, \\n  Tech. Rep. no. 92-02, (1992), Dept. of Computer Science and Dept. of  \\n  Mathematics and Statistics, James Cook University of North Queensland. \\n  (Also submitted to Technometrics). \\n\\n  The data was used with many others for comparing various \\n  classifiers. The classes are separable, though only RDA \\n  has achieved 100% correct classification. \\n  (RDA : 100%, QDA 99.4%, LDA 98.9%, 1NN 96.1% (z-transformed data)) \\n  (All results using the leave-one-out technique) \\n\\n  (2) S. Aeberhard, D. Coomans and O. de Vel, \\n  \"THE CLASSIFICATION PERFORMANCE OF RDA\" \\n  Tech. Rep. no. 92-01, (1992), Dept. of Computer Science and Dept. of \\n  Mathematics and Statistics, James Cook University of North Queensland. \\n  (Also submitted to Journal of Chemometrics).\\n'"
      ]
     },
     "execution_count": 93,
     "metadata": {},
     "output_type": "execute_result"
    }
   ],
   "source": [
    "wine.DESCR"
   ]
  },
  {
   "cell_type": "code",
   "execution_count": 94,
   "id": "056c6021",
   "metadata": {},
   "outputs": [],
   "source": [
    "X_train, X_test, y_train, y_test = train_test_split(wine_data, wine_label, test_size = 0.2, random_state = 32 )"
   ]
  },
  {
   "cell_type": "code",
   "execution_count": 95,
   "id": "d541770a",
   "metadata": {},
   "outputs": [],
   "source": [
    "from sklearn.tree import DecisionTreeClassifier\n",
    "from sklearn.ensemble import RandomForestClassifier\n",
    "from sklearn import svm\n",
    "from sklearn.linear_model import SGDClassifier\n",
    "from sklearn.linear_model import LogisticRegression"
   ]
  },
  {
   "cell_type": "code",
   "execution_count": 96,
   "id": "5a626059",
   "metadata": {},
   "outputs": [
    {
     "name": "stdout",
     "output_type": "stream",
     "text": [
      "1437 360\n"
     ]
    }
   ],
   "source": [
    "print(len(X_train), len(X_test) )"
   ]
  },
  {
   "cell_type": "markdown",
   "id": "a3bd9e93",
   "metadata": {},
   "source": [
    "## 의사결정나무"
   ]
  },
  {
   "cell_type": "code",
   "execution_count": 97,
   "id": "b3289069",
   "metadata": {},
   "outputs": [
    {
     "data": {
      "text/plain": [
       "array([3, 9, 4, 4, 7, 3, 8, 6, 1, 1, 1, 0, 5, 1, 3, 0, 6, 3, 9, 7, 9, 2,\n",
       "       2, 7, 4, 4, 3, 9, 5, 1, 0, 3, 0, 9, 2, 4, 5, 9, 6, 5, 6, 5, 6, 9,\n",
       "       1, 6, 8, 8, 5, 5, 5, 3, 7, 7, 5, 1, 6, 3, 2, 9, 6, 3, 3, 1, 8, 4,\n",
       "       3, 7, 3, 6, 4, 4, 0, 7, 7, 8, 0, 6, 3, 6, 3, 8, 0, 7, 3, 0, 7, 3,\n",
       "       5, 4, 3, 6, 1, 6, 0, 8, 9, 3, 5, 5, 9, 0, 4, 2, 9, 3, 8, 2, 9, 9,\n",
       "       3, 6, 3, 1, 0, 0, 5, 5, 2, 7, 2, 0, 7, 7, 1, 5, 7, 8, 0, 3, 0, 7,\n",
       "       3, 3, 9, 9, 0, 7, 1, 2, 1, 8, 2, 0, 6, 5, 3, 1, 9, 0, 6, 6, 3, 2,\n",
       "       4, 8, 8, 0, 5, 1, 3, 0, 7, 0, 3, 5, 5, 8, 1, 9, 3, 3, 6, 2, 1, 2,\n",
       "       2, 7, 0, 4, 1, 5, 6, 9, 4, 1, 9, 3, 4, 6, 2, 1, 2, 9, 0, 9, 5, 9,\n",
       "       1, 9, 4, 4, 2, 0, 5, 7, 0, 1, 4, 6, 4, 1, 3, 9, 3, 2, 9, 1, 3, 1,\n",
       "       5, 9, 1, 9, 2, 6, 4, 2, 5, 6, 5, 7, 6, 8, 3, 4, 0, 3, 2, 7, 7, 0,\n",
       "       2, 4, 6, 3, 7, 4, 4, 5, 2, 1, 0, 7, 9, 5, 9, 6, 1, 3, 5, 2, 0, 2,\n",
       "       5, 4, 8, 7, 3, 9, 4, 4, 5, 0, 9, 9, 1, 8, 2, 8, 2, 9, 1, 7, 7, 8,\n",
       "       9, 1, 5, 1, 2, 3, 6, 9, 1, 0, 1, 5, 2, 1, 6, 4, 1, 5, 6, 1, 9, 3,\n",
       "       5, 4, 7, 3, 3, 2, 8, 4, 5, 8, 3, 8, 5, 8, 2, 1, 0, 3, 8, 1, 4, 5,\n",
       "       5, 7, 2, 2, 0, 6, 4, 3, 9, 3, 7, 7, 3, 8, 0, 7, 2, 3, 2, 1, 3, 6,\n",
       "       6, 3, 2, 4, 6, 9, 3, 4])"
      ]
     },
     "execution_count": 97,
     "metadata": {},
     "output_type": "execute_result"
    }
   ],
   "source": [
    "decision_tree = DecisionTreeClassifier(random_state=32)\n",
    "decision_tree.fit(X_train, y_train)\n",
    "y_pred = decision_tree.predict(X_test)\n",
    "y_pred"
   ]
  },
  {
   "cell_type": "code",
   "execution_count": 98,
   "id": "f2fa2101",
   "metadata": {},
   "outputs": [
    {
     "data": {
      "text/plain": [
       "0.875"
      ]
     },
     "execution_count": 98,
     "metadata": {},
     "output_type": "execute_result"
    }
   ],
   "source": [
    "from sklearn.metrics import accuracy_score\n",
    "accuracy = accuracy_score(y_test, y_pred)\n",
    "accuracy"
   ]
  },
  {
   "cell_type": "markdown",
   "id": "1f481ed0",
   "metadata": {},
   "source": [
    "## 랜덤포레스트"
   ]
  },
  {
   "cell_type": "code",
   "execution_count": 99,
   "id": "ddf916a4",
   "metadata": {},
   "outputs": [
    {
     "data": {
      "text/plain": [
       "array([3, 9, 4, 4, 7, 2, 8, 6, 1, 1, 8, 0, 5, 8, 3, 0, 6, 3, 9, 7, 3, 2,\n",
       "       2, 7, 4, 4, 9, 9, 5, 1, 0, 3, 0, 3, 1, 4, 5, 9, 6, 5, 6, 2, 6, 9,\n",
       "       1, 6, 8, 8, 5, 5, 5, 3, 7, 7, 5, 1, 6, 3, 2, 9, 6, 3, 3, 1, 8, 4,\n",
       "       3, 4, 3, 6, 4, 4, 0, 7, 7, 8, 0, 6, 3, 6, 3, 0, 0, 7, 3, 0, 7, 3,\n",
       "       5, 6, 3, 6, 1, 6, 0, 8, 9, 3, 0, 5, 9, 0, 4, 2, 9, 3, 8, 3, 9, 3,\n",
       "       3, 6, 3, 1, 0, 0, 5, 5, 2, 7, 0, 0, 7, 7, 1, 5, 7, 8, 0, 3, 0, 7,\n",
       "       3, 3, 9, 9, 0, 7, 3, 2, 1, 8, 2, 0, 6, 5, 3, 1, 9, 0, 6, 6, 3, 7,\n",
       "       4, 8, 8, 0, 5, 1, 3, 0, 7, 0, 3, 9, 5, 8, 9, 9, 3, 3, 6, 2, 1, 2,\n",
       "       2, 7, 0, 6, 9, 5, 6, 9, 4, 1, 9, 3, 8, 4, 3, 1, 2, 9, 0, 9, 5, 9,\n",
       "       1, 5, 4, 4, 2, 0, 5, 7, 0, 1, 4, 6, 4, 1, 3, 9, 3, 2, 3, 1, 3, 1,\n",
       "       9, 7, 2, 9, 2, 6, 4, 2, 5, 6, 5, 7, 6, 8, 9, 4, 0, 3, 2, 7, 7, 0,\n",
       "       2, 4, 6, 3, 7, 4, 1, 5, 1, 8, 0, 7, 9, 5, 9, 6, 1, 3, 5, 1, 0, 2,\n",
       "       5, 4, 8, 7, 3, 9, 4, 4, 5, 0, 3, 9, 7, 8, 2, 8, 2, 9, 1, 7, 7, 8,\n",
       "       9, 1, 5, 1, 0, 3, 6, 4, 2, 0, 1, 5, 2, 1, 6, 1, 1, 5, 6, 1, 9, 3,\n",
       "       5, 4, 7, 3, 3, 2, 8, 4, 5, 8, 3, 2, 5, 8, 2, 1, 0, 3, 8, 1, 9, 5,\n",
       "       5, 7, 2, 2, 0, 6, 4, 3, 9, 7, 7, 7, 3, 2, 0, 7, 2, 3, 1, 1, 3, 6,\n",
       "       6, 3, 2, 4, 6, 9, 3, 4])"
      ]
     },
     "execution_count": 99,
     "metadata": {},
     "output_type": "execute_result"
    }
   ],
   "source": [
    "random_forest = RandomForestClassifier(random_state=32)\n",
    "random_forest.fit(X_train, y_train)\n",
    "y_pred = random_forest.predict(X_test)\n",
    "y_pred"
   ]
  },
  {
   "cell_type": "code",
   "execution_count": 100,
   "id": "e6b30b7d",
   "metadata": {},
   "outputs": [
    {
     "data": {
      "text/plain": [
       "0.9861111111111112"
      ]
     },
     "execution_count": 100,
     "metadata": {},
     "output_type": "execute_result"
    }
   ],
   "source": [
    "accuracy = accuracy_score(y_test, y_pred)\n",
    "accuracy"
   ]
  },
  {
   "cell_type": "markdown",
   "id": "f4a729a5",
   "metadata": {},
   "source": [
    "## SVM"
   ]
  },
  {
   "cell_type": "code",
   "execution_count": 101,
   "id": "1a0b1d72",
   "metadata": {},
   "outputs": [
    {
     "data": {
      "text/plain": [
       "array([3, 9, 4, 4, 7, 8, 8, 6, 1, 1, 8, 0, 5, 8, 3, 0, 6, 3, 9, 7, 3, 2,\n",
       "       2, 7, 4, 4, 9, 9, 5, 1, 0, 3, 0, 3, 1, 4, 5, 9, 6, 5, 6, 2, 6, 9,\n",
       "       1, 6, 8, 8, 5, 5, 5, 3, 7, 7, 5, 1, 6, 3, 2, 9, 6, 3, 3, 1, 8, 4,\n",
       "       3, 4, 3, 6, 4, 4, 0, 7, 7, 8, 0, 6, 3, 6, 3, 0, 0, 7, 3, 0, 7, 3,\n",
       "       5, 6, 3, 6, 1, 6, 0, 8, 9, 3, 0, 5, 9, 0, 4, 2, 9, 3, 8, 3, 9, 3,\n",
       "       3, 6, 3, 1, 0, 0, 5, 5, 2, 7, 0, 0, 7, 7, 1, 5, 7, 8, 0, 3, 0, 7,\n",
       "       3, 3, 9, 9, 0, 8, 3, 2, 1, 8, 2, 0, 6, 5, 3, 1, 9, 0, 6, 6, 3, 7,\n",
       "       4, 8, 8, 0, 5, 1, 3, 0, 7, 0, 3, 9, 5, 8, 9, 9, 3, 3, 6, 2, 1, 2,\n",
       "       2, 7, 0, 6, 9, 5, 6, 9, 4, 1, 9, 3, 9, 4, 3, 1, 2, 9, 0, 9, 5, 9,\n",
       "       1, 5, 4, 4, 2, 0, 5, 7, 0, 1, 4, 6, 4, 1, 3, 9, 3, 2, 3, 8, 3, 1,\n",
       "       9, 7, 2, 9, 2, 6, 4, 2, 5, 6, 5, 7, 6, 8, 9, 4, 0, 3, 2, 7, 7, 0,\n",
       "       2, 4, 6, 3, 7, 4, 1, 5, 1, 8, 0, 7, 9, 5, 9, 6, 1, 3, 5, 1, 0, 2,\n",
       "       5, 4, 8, 7, 3, 9, 4, 4, 5, 0, 3, 9, 7, 8, 2, 8, 2, 9, 1, 7, 7, 8,\n",
       "       9, 1, 5, 1, 0, 3, 6, 4, 2, 0, 1, 5, 2, 1, 6, 1, 1, 5, 6, 1, 9, 3,\n",
       "       5, 4, 7, 3, 3, 2, 8, 4, 5, 8, 3, 2, 5, 8, 2, 1, 0, 3, 8, 1, 9, 5,\n",
       "       5, 7, 2, 2, 0, 6, 4, 3, 9, 7, 7, 7, 3, 2, 0, 7, 2, 3, 1, 1, 3, 6,\n",
       "       6, 3, 2, 4, 6, 9, 3, 4])"
      ]
     },
     "execution_count": 101,
     "metadata": {},
     "output_type": "execute_result"
    }
   ],
   "source": [
    "svm_model = svm.SVC(random_state=32)\n",
    "svm_model.fit(X_train, y_train)\n",
    "y_pred = svm_model.predict(X_test)\n",
    "y_pred"
   ]
  },
  {
   "cell_type": "code",
   "execution_count": 102,
   "id": "e09a05b7",
   "metadata": {},
   "outputs": [
    {
     "data": {
      "text/plain": [
       "0.9944444444444445"
      ]
     },
     "execution_count": 102,
     "metadata": {},
     "output_type": "execute_result"
    }
   ],
   "source": [
    "accuracy = accuracy_score(y_test, y_pred)\n",
    "accuracy"
   ]
  },
  {
   "cell_type": "markdown",
   "id": "2e083082",
   "metadata": {},
   "source": [
    "## SGD classifier"
   ]
  },
  {
   "cell_type": "code",
   "execution_count": 103,
   "id": "ff6f3262",
   "metadata": {},
   "outputs": [
    {
     "data": {
      "text/plain": [
       "array([3, 9, 4, 4, 7, 8, 8, 6, 1, 1, 8, 0, 5, 8, 3, 0, 6, 3, 9, 7, 3, 2,\n",
       "       2, 7, 4, 4, 9, 9, 5, 8, 0, 3, 0, 3, 1, 4, 5, 9, 6, 5, 6, 2, 6, 9,\n",
       "       1, 6, 8, 8, 5, 5, 5, 3, 7, 7, 5, 1, 6, 3, 2, 9, 6, 3, 3, 1, 8, 4,\n",
       "       3, 4, 3, 6, 4, 4, 5, 7, 7, 8, 0, 6, 3, 6, 3, 0, 0, 7, 3, 0, 7, 3,\n",
       "       5, 6, 3, 6, 1, 6, 0, 8, 9, 3, 0, 5, 9, 0, 4, 2, 9, 3, 8, 3, 9, 3,\n",
       "       3, 6, 3, 9, 0, 0, 5, 5, 2, 7, 0, 0, 7, 7, 1, 5, 7, 8, 0, 3, 0, 7,\n",
       "       3, 3, 9, 9, 0, 8, 3, 2, 1, 8, 2, 0, 6, 9, 3, 1, 9, 0, 6, 6, 9, 7,\n",
       "       4, 8, 8, 0, 5, 1, 3, 0, 7, 0, 3, 9, 5, 8, 9, 9, 3, 3, 6, 2, 1, 2,\n",
       "       2, 9, 0, 6, 9, 5, 6, 9, 4, 3, 9, 3, 8, 4, 8, 1, 2, 9, 0, 9, 5, 9,\n",
       "       1, 5, 4, 4, 2, 0, 5, 7, 0, 1, 4, 6, 4, 8, 3, 9, 3, 2, 3, 8, 3, 8,\n",
       "       9, 7, 2, 9, 2, 6, 4, 2, 5, 6, 5, 7, 6, 8, 9, 4, 0, 3, 2, 7, 7, 0,\n",
       "       2, 4, 6, 3, 7, 4, 1, 5, 8, 8, 0, 7, 9, 5, 9, 6, 8, 3, 5, 1, 0, 2,\n",
       "       5, 4, 8, 7, 3, 9, 4, 4, 5, 0, 3, 9, 7, 8, 2, 8, 2, 9, 1, 7, 7, 8,\n",
       "       9, 1, 5, 1, 0, 3, 6, 4, 2, 0, 9, 5, 2, 1, 6, 1, 1, 5, 6, 1, 9, 3,\n",
       "       5, 4, 7, 8, 3, 8, 8, 4, 5, 8, 3, 2, 5, 8, 2, 1, 0, 3, 8, 1, 9, 5,\n",
       "       5, 7, 2, 2, 0, 6, 4, 3, 9, 7, 7, 7, 3, 2, 0, 7, 2, 3, 1, 1, 3, 6,\n",
       "       6, 3, 2, 4, 6, 9, 3, 4])"
      ]
     },
     "execution_count": 103,
     "metadata": {},
     "output_type": "execute_result"
    }
   ],
   "source": [
    "sgd_model = SGDClassifier(random_state = 32)\n",
    "sgd_model.fit(X_train, y_train)\n",
    "y_pred = sgd_model.predict(X_test)\n",
    "y_pred"
   ]
  },
  {
   "cell_type": "code",
   "execution_count": 104,
   "id": "312f3407",
   "metadata": {},
   "outputs": [
    {
     "data": {
      "text/plain": [
       "0.9527777777777777"
      ]
     },
     "execution_count": 104,
     "metadata": {},
     "output_type": "execute_result"
    }
   ],
   "source": [
    "accuracy = accuracy_score(y_test, y_pred)\n",
    "accuracy"
   ]
  },
  {
   "cell_type": "markdown",
   "id": "2305e425",
   "metadata": {},
   "source": [
    "## 로지스틱 회기"
   ]
  },
  {
   "cell_type": "code",
   "execution_count": 105,
   "id": "45faed30",
   "metadata": {},
   "outputs": [
    {
     "data": {
      "text/plain": [
       "array([3, 9, 4, 4, 7, 8, 8, 6, 1, 1, 8, 0, 5, 8, 3, 0, 6, 3, 9, 7, 3, 2,\n",
       "       2, 7, 4, 4, 9, 9, 5, 8, 0, 3, 0, 3, 1, 4, 5, 9, 6, 5, 6, 2, 6, 9,\n",
       "       1, 6, 9, 8, 5, 5, 5, 3, 7, 7, 5, 1, 6, 3, 2, 9, 6, 3, 3, 1, 8, 4,\n",
       "       3, 4, 3, 6, 4, 4, 5, 7, 7, 8, 0, 6, 3, 6, 3, 0, 0, 7, 3, 0, 7, 3,\n",
       "       5, 6, 3, 6, 1, 6, 0, 8, 9, 3, 0, 5, 9, 0, 4, 2, 9, 3, 8, 3, 9, 3,\n",
       "       3, 6, 3, 9, 0, 0, 5, 5, 2, 7, 0, 0, 7, 7, 1, 5, 7, 8, 0, 3, 0, 7,\n",
       "       3, 3, 9, 9, 0, 8, 3, 2, 1, 8, 2, 0, 6, 9, 3, 1, 9, 0, 6, 6, 3, 7,\n",
       "       4, 8, 8, 0, 5, 1, 3, 0, 7, 0, 3, 9, 5, 8, 9, 9, 3, 3, 6, 2, 1, 2,\n",
       "       2, 7, 0, 6, 9, 5, 6, 9, 4, 3, 9, 3, 8, 4, 3, 1, 2, 9, 0, 9, 5, 9,\n",
       "       1, 5, 4, 4, 2, 0, 5, 7, 0, 1, 4, 6, 4, 1, 3, 9, 3, 2, 3, 8, 3, 1,\n",
       "       9, 7, 2, 9, 2, 6, 4, 2, 5, 6, 5, 7, 6, 8, 9, 4, 0, 3, 2, 7, 7, 0,\n",
       "       2, 4, 6, 3, 7, 4, 1, 5, 1, 1, 0, 7, 9, 5, 9, 6, 1, 3, 5, 1, 0, 2,\n",
       "       5, 4, 8, 7, 3, 9, 4, 4, 5, 0, 3, 9, 7, 8, 2, 8, 2, 9, 1, 7, 7, 8,\n",
       "       9, 1, 5, 1, 0, 3, 6, 4, 2, 0, 1, 5, 2, 1, 6, 1, 1, 5, 6, 1, 9, 3,\n",
       "       5, 4, 7, 3, 3, 2, 8, 4, 5, 8, 3, 2, 5, 8, 2, 1, 0, 3, 8, 1, 8, 5,\n",
       "       5, 7, 2, 2, 0, 6, 4, 3, 9, 7, 7, 7, 3, 2, 0, 7, 2, 3, 1, 1, 3, 6,\n",
       "       6, 3, 2, 4, 6, 9, 3, 4])"
      ]
     },
     "execution_count": 105,
     "metadata": {},
     "output_type": "execute_result"
    }
   ],
   "source": [
    "logistic_model = LogisticRegression(random_state=32, solver= \"liblinear\")\n",
    "logistic_model.fit(X_train, y_train)\n",
    "y_pred = logistic_model.predict(X_test)\n",
    "y_pred"
   ]
  },
  {
   "cell_type": "code",
   "execution_count": 106,
   "id": "1c53793e",
   "metadata": {},
   "outputs": [
    {
     "data": {
      "text/plain": [
       "0.9722222222222222"
      ]
     },
     "execution_count": 106,
     "metadata": {},
     "output_type": "execute_result"
    }
   ],
   "source": [
    "accuracy = accuracy_score(y_test, y_pred)\n",
    "accuracy"
   ]
  },
  {
   "cell_type": "markdown",
   "id": "49388b03",
   "metadata": {},
   "source": [
    "# 유방암 여부 진단"
   ]
  },
  {
   "cell_type": "code",
   "execution_count": 107,
   "id": "5fe435cf",
   "metadata": {},
   "outputs": [],
   "source": [
    "from sklearn.datasets import  load_breast_cancer"
   ]
  },
  {
   "cell_type": "code",
   "execution_count": 108,
   "id": "b4e50136",
   "metadata": {},
   "outputs": [],
   "source": [
    "cancer = load_breast_cancer()"
   ]
  },
  {
   "cell_type": "code",
   "execution_count": 110,
   "id": "72ba5256",
   "metadata": {},
   "outputs": [
    {
     "data": {
      "text/plain": [
       "dict_keys(['data', 'target', 'frame', 'target_names', 'DESCR', 'feature_names', 'filename', 'data_module'])"
      ]
     },
     "execution_count": 110,
     "metadata": {},
     "output_type": "execute_result"
    }
   ],
   "source": [
    "cancer.keys()"
   ]
  },
  {
   "cell_type": "code",
   "execution_count": 111,
   "id": "5f16eb7e",
   "metadata": {},
   "outputs": [
    {
     "data": {
      "text/plain": [
       "['DESCR',\n",
       " 'data',\n",
       " 'data_module',\n",
       " 'feature_names',\n",
       " 'filename',\n",
       " 'frame',\n",
       " 'target',\n",
       " 'target_names']"
      ]
     },
     "execution_count": 111,
     "metadata": {},
     "output_type": "execute_result"
    }
   ],
   "source": [
    "dir(cancer)"
   ]
  },
  {
   "cell_type": "code",
   "execution_count": 116,
   "id": "36455063",
   "metadata": {},
   "outputs": [],
   "source": [
    "cancer_label = cancer.target\n",
    "cancer_data = cancer.data"
   ]
  },
  {
   "cell_type": "code",
   "execution_count": 113,
   "id": "b1ee41e7",
   "metadata": {},
   "outputs": [
    {
     "data": {
      "text/plain": [
       "'.. _breast_cancer_dataset:\\n\\nBreast cancer wisconsin (diagnostic) dataset\\n--------------------------------------------\\n\\n**Data Set Characteristics:**\\n\\n    :Number of Instances: 569\\n\\n    :Number of Attributes: 30 numeric, predictive attributes and the class\\n\\n    :Attribute Information:\\n        - radius (mean of distances from center to points on the perimeter)\\n        - texture (standard deviation of gray-scale values)\\n        - perimeter\\n        - area\\n        - smoothness (local variation in radius lengths)\\n        - compactness (perimeter^2 / area - 1.0)\\n        - concavity (severity of concave portions of the contour)\\n        - concave points (number of concave portions of the contour)\\n        - symmetry\\n        - fractal dimension (\"coastline approximation\" - 1)\\n\\n        The mean, standard error, and \"worst\" or largest (mean of the three\\n        worst/largest values) of these features were computed for each image,\\n        resulting in 30 features.  For instance, field 0 is Mean Radius, field\\n        10 is Radius SE, field 20 is Worst Radius.\\n\\n        - class:\\n                - WDBC-Malignant\\n                - WDBC-Benign\\n\\n    :Summary Statistics:\\n\\n    ===================================== ====== ======\\n                                           Min    Max\\n    ===================================== ====== ======\\n    radius (mean):                        6.981  28.11\\n    texture (mean):                       9.71   39.28\\n    perimeter (mean):                     43.79  188.5\\n    area (mean):                          143.5  2501.0\\n    smoothness (mean):                    0.053  0.163\\n    compactness (mean):                   0.019  0.345\\n    concavity (mean):                     0.0    0.427\\n    concave points (mean):                0.0    0.201\\n    symmetry (mean):                      0.106  0.304\\n    fractal dimension (mean):             0.05   0.097\\n    radius (standard error):              0.112  2.873\\n    texture (standard error):             0.36   4.885\\n    perimeter (standard error):           0.757  21.98\\n    area (standard error):                6.802  542.2\\n    smoothness (standard error):          0.002  0.031\\n    compactness (standard error):         0.002  0.135\\n    concavity (standard error):           0.0    0.396\\n    concave points (standard error):      0.0    0.053\\n    symmetry (standard error):            0.008  0.079\\n    fractal dimension (standard error):   0.001  0.03\\n    radius (worst):                       7.93   36.04\\n    texture (worst):                      12.02  49.54\\n    perimeter (worst):                    50.41  251.2\\n    area (worst):                         185.2  4254.0\\n    smoothness (worst):                   0.071  0.223\\n    compactness (worst):                  0.027  1.058\\n    concavity (worst):                    0.0    1.252\\n    concave points (worst):               0.0    0.291\\n    symmetry (worst):                     0.156  0.664\\n    fractal dimension (worst):            0.055  0.208\\n    ===================================== ====== ======\\n\\n    :Missing Attribute Values: None\\n\\n    :Class Distribution: 212 - Malignant, 357 - Benign\\n\\n    :Creator:  Dr. William H. Wolberg, W. Nick Street, Olvi L. Mangasarian\\n\\n    :Donor: Nick Street\\n\\n    :Date: November, 1995\\n\\nThis is a copy of UCI ML Breast Cancer Wisconsin (Diagnostic) datasets.\\nhttps://goo.gl/U2Uwz2\\n\\nFeatures are computed from a digitized image of a fine needle\\naspirate (FNA) of a breast mass.  They describe\\ncharacteristics of the cell nuclei present in the image.\\n\\nSeparating plane described above was obtained using\\nMultisurface Method-Tree (MSM-T) [K. P. Bennett, \"Decision Tree\\nConstruction Via Linear Programming.\" Proceedings of the 4th\\nMidwest Artificial Intelligence and Cognitive Science Society,\\npp. 97-101, 1992], a classification method which uses linear\\nprogramming to construct a decision tree.  Relevant features\\nwere selected using an exhaustive search in the space of 1-4\\nfeatures and 1-3 separating planes.\\n\\nThe actual linear program used to obtain the separating plane\\nin the 3-dimensional space is that described in:\\n[K. P. Bennett and O. L. Mangasarian: \"Robust Linear\\nProgramming Discrimination of Two Linearly Inseparable Sets\",\\nOptimization Methods and Software 1, 1992, 23-34].\\n\\nThis database is also available through the UW CS ftp server:\\n\\nftp ftp.cs.wisc.edu\\ncd math-prog/cpo-dataset/machine-learn/WDBC/\\n\\n.. topic:: References\\n\\n   - W.N. Street, W.H. Wolberg and O.L. Mangasarian. Nuclear feature extraction \\n     for breast tumor diagnosis. IS&T/SPIE 1993 International Symposium on \\n     Electronic Imaging: Science and Technology, volume 1905, pages 861-870,\\n     San Jose, CA, 1993.\\n   - O.L. Mangasarian, W.N. Street and W.H. Wolberg. Breast cancer diagnosis and \\n     prognosis via linear programming. Operations Research, 43(4), pages 570-577, \\n     July-August 1995.\\n   - W.H. Wolberg, W.N. Street, and O.L. Mangasarian. Machine learning techniques\\n     to diagnose breast cancer from fine-needle aspirates. Cancer Letters 77 (1994) \\n     163-171.'"
      ]
     },
     "execution_count": 113,
     "metadata": {},
     "output_type": "execute_result"
    }
   ],
   "source": [
    "cancer.DESCR"
   ]
  },
  {
   "cell_type": "markdown",
   "id": "66ca95cf",
   "metadata": {},
   "source": [
    "##### 2개의 클래스 : malignant(악성) benign(양성)"
   ]
  },
  {
   "cell_type": "code",
   "execution_count": 117,
   "id": "b2fbcf45",
   "metadata": {},
   "outputs": [
    {
     "data": {
      "text/plain": [
       "array(['malignant', 'benign'], dtype='<U9')"
      ]
     },
     "execution_count": 117,
     "metadata": {},
     "output_type": "execute_result"
    }
   ],
   "source": [
    "cancer.target_names"
   ]
  },
  {
   "cell_type": "code",
   "execution_count": 118,
   "id": "8a2b090f",
   "metadata": {},
   "outputs": [
    {
     "data": {
      "text/plain": [
       "array(['mean radius', 'mean texture', 'mean perimeter', 'mean area',\n",
       "       'mean smoothness', 'mean compactness', 'mean concavity',\n",
       "       'mean concave points', 'mean symmetry', 'mean fractal dimension',\n",
       "       'radius error', 'texture error', 'perimeter error', 'area error',\n",
       "       'smoothness error', 'compactness error', 'concavity error',\n",
       "       'concave points error', 'symmetry error',\n",
       "       'fractal dimension error', 'worst radius', 'worst texture',\n",
       "       'worst perimeter', 'worst area', 'worst smoothness',\n",
       "       'worst compactness', 'worst concavity', 'worst concave points',\n",
       "       'worst symmetry', 'worst fractal dimension'], dtype='<U23')"
      ]
     },
     "execution_count": 118,
     "metadata": {},
     "output_type": "execute_result"
    }
   ],
   "source": [
    "cancer.feature_names"
   ]
  },
  {
   "cell_type": "code",
   "execution_count": 121,
   "id": "8695a8eb",
   "metadata": {},
   "outputs": [],
   "source": [
    "X_train, X_test, y_train, y_test = train_test_split(cancer_data, cancer_label, test_size = 0.2, random_state = 32)"
   ]
  },
  {
   "cell_type": "code",
   "execution_count": 128,
   "id": "cfd46297",
   "metadata": {},
   "outputs": [],
   "source": [
    "from sklearn.tree import DecisionTreeClassifier\n",
    "from sklearn.ensemble import RandomForestClassifier\n",
    "from sklearn import svm\n",
    "from sklearn.linear_model import SGDClassifier\n",
    "from sklearn.linear_model import LogisticRegression"
   ]
  },
  {
   "cell_type": "code",
   "execution_count": 133,
   "id": "c5d98b44",
   "metadata": {},
   "outputs": [
    {
     "name": "stdout",
     "output_type": "stream",
     "text": [
      "455 114\n"
     ]
    }
   ],
   "source": [
    "print(len(X_train), len(X_test))"
   ]
  },
  {
   "cell_type": "code",
   "execution_count": 134,
   "id": "138e2c8e",
   "metadata": {},
   "outputs": [
    {
     "data": {
      "text/plain": [
       "array([1, 0, 1, 0, 1, 1, 1, 1, 0, 0, 0, 1, 1, 1, 1, 1, 1, 0, 0, 0, 1, 0,\n",
       "       0, 0, 1, 1, 1, 0, 1, 1, 0, 1, 1, 1, 1, 0, 0, 1, 1, 0, 1, 0, 0, 1,\n",
       "       0, 1, 1, 0, 0, 1, 1, 1, 1, 1, 0, 0, 1, 0, 1, 0, 1, 1, 1, 1, 1, 1,\n",
       "       1, 0, 1, 1, 0, 0, 1, 1, 1, 0, 1, 0, 1, 0, 0, 1, 0, 1, 1, 0, 1, 0,\n",
       "       0, 0, 1, 0, 1, 1, 1, 0, 1, 1, 1, 0, 0, 1, 1, 1, 1, 1, 0, 1, 0, 1,\n",
       "       1, 1, 0, 1])"
      ]
     },
     "execution_count": 134,
     "metadata": {},
     "output_type": "execute_result"
    }
   ],
   "source": [
    "decision_tree = DecisionTreeClassifier(random_state=32)\n",
    "decision_tree.fit(X_train, y_train)\n",
    "y_pred = decision_tree.predict(X_test)\n",
    "y_pred"
   ]
  },
  {
   "cell_type": "code",
   "execution_count": 135,
   "id": "c470e87a",
   "metadata": {},
   "outputs": [
    {
     "data": {
      "text/plain": [
       "0.8771929824561403"
      ]
     },
     "execution_count": 135,
     "metadata": {},
     "output_type": "execute_result"
    }
   ],
   "source": [
    "accuracy = accuracy_score(y_test, y_pred)\n",
    "accuracy"
   ]
  },
  {
   "cell_type": "code",
   "execution_count": 137,
   "id": "896c575e",
   "metadata": {},
   "outputs": [
    {
     "data": {
      "text/plain": [
       "array([1, 1, 1, 0, 1, 1, 1, 1, 1, 0, 1, 1, 1, 1, 1, 1, 0, 0, 0, 0, 0, 0,\n",
       "       0, 0, 1, 1, 1, 0, 1, 1, 0, 1, 1, 1, 1, 0, 0, 1, 1, 0, 1, 0, 0, 1,\n",
       "       0, 1, 1, 0, 0, 1, 1, 1, 1, 1, 0, 0, 1, 0, 0, 0, 1, 1, 1, 1, 1, 1,\n",
       "       1, 0, 1, 1, 0, 0, 1, 0, 1, 0, 0, 0, 1, 1, 0, 1, 1, 1, 1, 0, 1, 0,\n",
       "       0, 0, 1, 0, 1, 1, 1, 1, 1, 0, 1, 0, 0, 1, 1, 1, 0, 1, 0, 1, 0, 1,\n",
       "       1, 1, 0, 1])"
      ]
     },
     "execution_count": 137,
     "metadata": {},
     "output_type": "execute_result"
    }
   ],
   "source": [
    "random_forest = RandomForestClassifier(random_state =32)\n",
    "random_forest.fit(X_train, y_train)\n",
    "y_pred = random_forest.predict(X_test)\n",
    "y_pred"
   ]
  },
  {
   "cell_type": "code",
   "execution_count": 156,
   "id": "e0e6d3c4",
   "metadata": {},
   "outputs": [
    {
     "data": {
      "text/plain": [
       "0.9122807017543859"
      ]
     },
     "execution_count": 156,
     "metadata": {},
     "output_type": "execute_result"
    }
   ],
   "source": [
    "accuracy = accuracy_score(y_test, y_pred)\n",
    "accuracy"
   ]
  },
  {
   "cell_type": "code",
   "execution_count": 140,
   "id": "75e966db",
   "metadata": {},
   "outputs": [
    {
     "data": {
      "text/plain": [
       "array([1, 1, 1, 0, 1, 1, 1, 1, 0, 0, 1, 1, 1, 1, 1, 1, 0, 0, 1, 0, 1, 0,\n",
       "       0, 0, 1, 1, 1, 0, 1, 1, 0, 1, 1, 1, 1, 0, 0, 1, 1, 0, 1, 0, 0, 1,\n",
       "       0, 1, 1, 0, 1, 1, 1, 1, 1, 1, 0, 1, 1, 0, 0, 0, 1, 1, 1, 1, 1, 1,\n",
       "       1, 0, 1, 1, 1, 0, 1, 1, 1, 0, 1, 0, 1, 1, 0, 1, 1, 1, 1, 0, 1, 0,\n",
       "       0, 0, 1, 0, 1, 1, 1, 0, 1, 1, 1, 1, 0, 1, 1, 1, 1, 1, 1, 1, 0, 1,\n",
       "       1, 1, 1, 1])"
      ]
     },
     "execution_count": 140,
     "metadata": {},
     "output_type": "execute_result"
    }
   ],
   "source": [
    "svm_model = svm.SVC(random_state = 32)\n",
    "svm_model.fit(X_train, y_train)\n",
    "y_pred = svm_model.predict(X_test)\n",
    "y_pred"
   ]
  },
  {
   "cell_type": "code",
   "execution_count": 141,
   "id": "fea132c6",
   "metadata": {},
   "outputs": [
    {
     "data": {
      "text/plain": [
       "0.868421052631579"
      ]
     },
     "execution_count": 141,
     "metadata": {},
     "output_type": "execute_result"
    }
   ],
   "source": [
    "accuracy = accuracy_score (y_test, y_pred)\n",
    "accuracy"
   ]
  },
  {
   "cell_type": "code",
   "execution_count": 143,
   "id": "eecea377",
   "metadata": {},
   "outputs": [
    {
     "data": {
      "text/plain": [
       "array([1, 1, 1, 0, 1, 1, 1, 1, 0, 0, 0, 0, 1, 1, 1, 1, 0, 0, 0, 0, 1, 0,\n",
       "       0, 0, 1, 1, 1, 0, 1, 1, 0, 1, 1, 1, 1, 0, 0, 1, 1, 0, 1, 0, 0, 1,\n",
       "       0, 1, 1, 0, 1, 1, 0, 1, 1, 1, 0, 0, 1, 0, 0, 0, 1, 1, 1, 1, 1, 1,\n",
       "       1, 0, 1, 1, 0, 0, 1, 1, 1, 0, 1, 0, 1, 1, 0, 1, 1, 1, 1, 0, 1, 0,\n",
       "       0, 0, 1, 0, 1, 1, 1, 0, 1, 1, 1, 1, 0, 1, 0, 1, 0, 1, 0, 1, 0, 1,\n",
       "       1, 1, 1, 0])"
      ]
     },
     "execution_count": 143,
     "metadata": {},
     "output_type": "execute_result"
    }
   ],
   "source": [
    "sgd_model = SGDClassifier(random_state = 32)\n",
    "sgd_model.fit(X_train, y_train)\n",
    "y_pred = sgd_model.predict(X_test)\n",
    "y_pred"
   ]
  },
  {
   "cell_type": "code",
   "execution_count": 145,
   "id": "01b2f596",
   "metadata": {},
   "outputs": [
    {
     "data": {
      "text/plain": [
       "0.9035087719298246"
      ]
     },
     "execution_count": 145,
     "metadata": {},
     "output_type": "execute_result"
    }
   ],
   "source": [
    "accuracy = accuracy_score(y_test, y_pred)\n",
    "accuracy"
   ]
  },
  {
   "cell_type": "code",
   "execution_count": 149,
   "id": "534e7021",
   "metadata": {},
   "outputs": [
    {
     "data": {
      "text/plain": [
       "array([1, 1, 1, 0, 1, 1, 1, 1, 1, 0, 0, 1, 0, 1, 1, 1, 0, 0, 0, 0, 1, 0,\n",
       "       0, 0, 1, 1, 1, 0, 1, 1, 0, 1, 1, 1, 1, 0, 0, 1, 1, 0, 1, 0, 0, 1,\n",
       "       0, 1, 1, 0, 0, 1, 0, 1, 1, 1, 0, 0, 1, 0, 0, 0, 1, 1, 1, 1, 1, 1,\n",
       "       1, 0, 1, 1, 0, 0, 1, 1, 1, 0, 1, 0, 1, 1, 0, 1, 1, 1, 1, 0, 1, 0,\n",
       "       0, 0, 1, 0, 1, 1, 1, 1, 1, 1, 1, 1, 0, 1, 1, 1, 0, 1, 0, 1, 0, 1,\n",
       "       1, 1, 0, 0])"
      ]
     },
     "execution_count": 149,
     "metadata": {},
     "output_type": "execute_result"
    }
   ],
   "source": [
    "logistic_model = LogisticRegression(random_state = 32, solver= \"liblinear\")\n",
    "logistic_model.fit(X_train,y_train)\n",
    "y_pred = logistic_model.predict(X_test)\n",
    "y_pred"
   ]
  },
  {
   "cell_type": "code",
   "execution_count": 151,
   "id": "40766ba7",
   "metadata": {},
   "outputs": [
    {
     "data": {
      "text/plain": [
       "0.9122807017543859"
      ]
     },
     "execution_count": 151,
     "metadata": {},
     "output_type": "execute_result"
    }
   ],
   "source": [
    "accuracy = accuracy_score (y_test, y_pred)\n",
    "accuracy"
   ]
  },
  {
   "cell_type": "markdown",
   "id": "a2bf4606",
   "metadata": {},
   "source": [
    "#### Precision 평가지표"
   ]
  },
  {
   "cell_type": "code",
   "execution_count": 160,
   "id": "e4600807",
   "metadata": {},
   "outputs": [
    {
     "data": {
      "text/plain": [
       "0.9285714285714286"
      ]
     },
     "execution_count": 160,
     "metadata": {},
     "output_type": "execute_result"
    }
   ],
   "source": [
    "from sklearn.metrics import precision_score\n",
    "precision = precision_score (y_test, y_pred)\n",
    "precision"
   ]
  },
  {
   "cell_type": "markdown",
   "id": "06d69dec",
   "metadata": {},
   "source": [
    "#### Recall 평가지표"
   ]
  },
  {
   "cell_type": "code",
   "execution_count": 164,
   "id": "500f4446",
   "metadata": {},
   "outputs": [
    {
     "data": {
      "text/plain": [
       "0.9285714285714286"
      ]
     },
     "execution_count": 164,
     "metadata": {},
     "output_type": "execute_result"
    }
   ],
   "source": [
    "from sklearn.metrics import recall_score\n",
    "recall = recall_score(y_test, y_pred)\n",
    "recall"
   ]
  },
  {
   "cell_type": "markdown",
   "id": "d31ee60e",
   "metadata": {},
   "source": [
    "## 손글씨와 와인 분류는 SVM 알고리즘 승리 유방암 진단 유무는 랜덤포레트 알고리즘이 가장 좋은 결과를 내었다. "
   ]
  },
  {
   "cell_type": "code",
   "execution_count": null,
   "id": "833b32f7",
   "metadata": {},
   "outputs": [],
   "source": []
  }
 ],
 "metadata": {
  "kernelspec": {
   "display_name": "Python 3 (ipykernel)",
   "language": "python",
   "name": "python3"
  },
  "language_info": {
   "codemirror_mode": {
    "name": "ipython",
    "version": 3
   },
   "file_extension": ".py",
   "mimetype": "text/x-python",
   "name": "python",
   "nbconvert_exporter": "python",
   "pygments_lexer": "ipython3",
   "version": "3.9.7"
  }
 },
 "nbformat": 4,
 "nbformat_minor": 5
}

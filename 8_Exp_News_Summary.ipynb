{
 "cells": [
  {
   "cell_type": "code",
   "execution_count": 1,
   "id": "7ba84b8d",
   "metadata": {},
   "outputs": [
    {
     "name": "stderr",
     "output_type": "stream",
     "text": [
      "[nltk_data] Downloading package stopwords to /aiffel/nltk_data...\n",
      "[nltk_data]   Unzipping corpora/stopwords.zip.\n"
     ]
    }
   ],
   "source": [
    "import nltk\n",
    "nltk.download('stopwords')\n",
    "\n",
    "import numpy as np\n",
    "import pandas as pd\n",
    "import os\n",
    "import re\n",
    "import matplotlib.pyplot as plt\n",
    "from nltk.corpus import stopwords\n",
    "from bs4 import BeautifulSoup \n",
    "from tensorflow.keras.preprocessing.text import Tokenizer \n",
    "from tensorflow.keras.preprocessing.sequence import pad_sequences\n",
    "import urllib.request\n",
    "import warnings\n",
    "warnings.filterwarnings(\"ignore\", category=UserWarning, module='bs4')\n"
   ]
  },
  {
   "cell_type": "code",
   "execution_count": 2,
   "id": "c098b7e1",
   "metadata": {},
   "outputs": [],
   "source": [
    "urllib.request.urlretrieve(\"https://raw.githubusercontent.com/sunnysai12345/News_Summary/master/news_summary_more.csv\", filename=\"news_summary_more.csv\")\n",
    "data = pd.read_csv('news_summary_more.csv', encoding='iso-8859-1')"
   ]
  },
  {
   "cell_type": "code",
   "execution_count": 3,
   "id": "ffb3f14d",
   "metadata": {},
   "outputs": [
    {
     "data": {
      "text/html": [
       "<div>\n",
       "<style scoped>\n",
       "    .dataframe tbody tr th:only-of-type {\n",
       "        vertical-align: middle;\n",
       "    }\n",
       "\n",
       "    .dataframe tbody tr th {\n",
       "        vertical-align: top;\n",
       "    }\n",
       "\n",
       "    .dataframe thead th {\n",
       "        text-align: right;\n",
       "    }\n",
       "</style>\n",
       "<table border=\"1\" class=\"dataframe\">\n",
       "  <thead>\n",
       "    <tr style=\"text-align: right;\">\n",
       "      <th></th>\n",
       "      <th>headlines</th>\n",
       "      <th>text</th>\n",
       "    </tr>\n",
       "  </thead>\n",
       "  <tbody>\n",
       "    <tr>\n",
       "      <th>24026</th>\n",
       "      <td>Mobile phone misuse causing criminal tendencie...</td>\n",
       "      <td>Speaking during a meeting with women self-help...</td>\n",
       "    </tr>\n",
       "    <tr>\n",
       "      <th>2956</th>\n",
       "      <td>Jabbering crowd a minority: Ravi Shastri slams...</td>\n",
       "      <td>Speaking about the Indian team's critics, coac...</td>\n",
       "    </tr>\n",
       "    <tr>\n",
       "      <th>20918</th>\n",
       "      <td>Bihar minister rejects demand for resignation ...</td>\n",
       "      <td>Bihar Urban Development Minister Suresh Kumar ...</td>\n",
       "    </tr>\n",
       "    <tr>\n",
       "      <th>50459</th>\n",
       "      <td>$500 million go missing in largest cryptocurre...</td>\n",
       "      <td>Japanese cryptocurrency exchange Coincheck has...</td>\n",
       "    </tr>\n",
       "    <tr>\n",
       "      <th>87714</th>\n",
       "      <td>Celina Jaitly pregnant with twins again</td>\n",
       "      <td>Actress Celina Jaitly, who is a mother to five...</td>\n",
       "    </tr>\n",
       "    <tr>\n",
       "      <th>13557</th>\n",
       "      <td>Apple using backpacks to collect map data on f...</td>\n",
       "      <td>Apple has assigned workers to carry backpacks ...</td>\n",
       "    </tr>\n",
       "    <tr>\n",
       "      <th>24486</th>\n",
       "      <td>Mars to be closest to Earth in 15 years on Jul...</td>\n",
       "      <td>Mars will appear brightest from July 27 to Jul...</td>\n",
       "    </tr>\n",
       "    <tr>\n",
       "      <th>76983</th>\n",
       "      <td>Giant female tortoise escapes zoo for second t...</td>\n",
       "      <td>A zoo in Japan on Thursday said it was searchi...</td>\n",
       "    </tr>\n",
       "    <tr>\n",
       "      <th>8813</th>\n",
       "      <td>Chant Vedic mantras to improve crop yield: Goa...</td>\n",
       "      <td>Goa agriculture director Nelson Figueiredo is ...</td>\n",
       "    </tr>\n",
       "    <tr>\n",
       "      <th>82020</th>\n",
       "      <td>Rains, flash floods kill 43, injure 61 in Paki...</td>\n",
       "      <td>At least 43 people have been killed and 61 oth...</td>\n",
       "    </tr>\n",
       "  </tbody>\n",
       "</table>\n",
       "</div>"
      ],
      "text/plain": [
       "                                               headlines  \\\n",
       "24026  Mobile phone misuse causing criminal tendencie...   \n",
       "2956   Jabbering crowd a minority: Ravi Shastri slams...   \n",
       "20918  Bihar minister rejects demand for resignation ...   \n",
       "50459  $500 million go missing in largest cryptocurre...   \n",
       "87714            Celina Jaitly pregnant with twins again   \n",
       "13557  Apple using backpacks to collect map data on f...   \n",
       "24486  Mars to be closest to Earth in 15 years on Jul...   \n",
       "76983  Giant female tortoise escapes zoo for second t...   \n",
       "8813   Chant Vedic mantras to improve crop yield: Goa...   \n",
       "82020  Rains, flash floods kill 43, injure 61 in Paki...   \n",
       "\n",
       "                                                    text  \n",
       "24026  Speaking during a meeting with women self-help...  \n",
       "2956   Speaking about the Indian team's critics, coac...  \n",
       "20918  Bihar Urban Development Minister Suresh Kumar ...  \n",
       "50459  Japanese cryptocurrency exchange Coincheck has...  \n",
       "87714  Actress Celina Jaitly, who is a mother to five...  \n",
       "13557  Apple has assigned workers to carry backpacks ...  \n",
       "24486  Mars will appear brightest from July 27 to Jul...  \n",
       "76983  A zoo in Japan on Thursday said it was searchi...  \n",
       "8813   Goa agriculture director Nelson Figueiredo is ...  \n",
       "82020  At least 43 people have been killed and 61 oth...  "
      ]
     },
     "execution_count": 3,
     "metadata": {},
     "output_type": "execute_result"
    }
   ],
   "source": [
    "data.sample(10)"
   ]
  },
  {
   "cell_type": "code",
   "execution_count": 4,
   "id": "00c6e913",
   "metadata": {},
   "outputs": [
    {
     "data": {
      "text/plain": [
       "headlines    0\n",
       "text         0\n",
       "dtype: int64"
      ]
     },
     "execution_count": 4,
     "metadata": {},
     "output_type": "execute_result"
    }
   ],
   "source": [
    "data.isnull().sum() #결측치 유무 확인"
   ]
  },
  {
   "cell_type": "code",
   "execution_count": 5,
   "id": "c5b68027",
   "metadata": {},
   "outputs": [
    {
     "data": {
      "text/plain": [
       "98401"
      ]
     },
     "execution_count": 5,
     "metadata": {},
     "output_type": "execute_result"
    }
   ],
   "source": [
    "len(data)"
   ]
  },
  {
   "cell_type": "code",
   "execution_count": 6,
   "id": "620912f4",
   "metadata": {},
   "outputs": [
    {
     "name": "stdout",
     "output_type": "stream",
     "text": [
      "정규화 사전의 수:  120\n"
     ]
    }
   ],
   "source": [
    "#정규화 사전\n",
    "contractions = {\"ain't\": \"is not\", \"aren't\": \"are not\",\"can't\": \"cannot\", \"'cause\": \"because\", \"could've\": \"could have\", \"couldn't\": \"could not\",\n",
    "                           \"didn't\": \"did not\",  \"doesn't\": \"does not\", \"don't\": \"do not\", \"hadn't\": \"had not\", \"hasn't\": \"has not\", \"haven't\": \"have not\",\n",
    "                           \"he'd\": \"he would\",\"he'll\": \"he will\", \"he's\": \"he is\", \"how'd\": \"how did\", \"how'd'y\": \"how do you\", \"how'll\": \"how will\", \"how's\": \"how is\",\n",
    "                           \"I'd\": \"I would\", \"I'd've\": \"I would have\", \"I'll\": \"I will\", \"I'll've\": \"I will have\",\"I'm\": \"I am\", \"I've\": \"I have\", \"i'd\": \"i would\",\n",
    "                           \"i'd've\": \"i would have\", \"i'll\": \"i will\",  \"i'll've\": \"i will have\",\"i'm\": \"i am\", \"i've\": \"i have\", \"isn't\": \"is not\", \"it'd\": \"it would\",\n",
    "                           \"it'd've\": \"it would have\", \"it'll\": \"it will\", \"it'll've\": \"it will have\",\"it's\": \"it is\", \"let's\": \"let us\", \"ma'am\": \"madam\",\n",
    "                           \"mayn't\": \"may not\", \"might've\": \"might have\",\"mightn't\": \"might not\",\"mightn't've\": \"might not have\", \"must've\": \"must have\",\n",
    "                           \"mustn't\": \"must not\", \"mustn't've\": \"must not have\", \"needn't\": \"need not\", \"needn't've\": \"need not have\",\"o'clock\": \"of the clock\",\n",
    "                           \"oughtn't\": \"ought not\", \"oughtn't've\": \"ought not have\", \"shan't\": \"shall not\", \"sha'n't\": \"shall not\", \"shan't've\": \"shall not have\",\n",
    "                           \"she'd\": \"she would\", \"she'd've\": \"she would have\", \"she'll\": \"she will\", \"she'll've\": \"she will have\", \"she's\": \"she is\",\n",
    "                           \"should've\": \"should have\", \"shouldn't\": \"should not\", \"shouldn't've\": \"should not have\", \"so've\": \"so have\",\"so's\": \"so as\",\n",
    "                           \"this's\": \"this is\",\"that'd\": \"that would\", \"that'd've\": \"that would have\", \"that's\": \"that is\", \"there'd\": \"there would\",\n",
    "                           \"there'd've\": \"there would have\", \"there's\": \"there is\", \"here's\": \"here is\",\"they'd\": \"they would\", \"they'd've\": \"they would have\",\n",
    "                           \"they'll\": \"they will\", \"they'll've\": \"they will have\", \"they're\": \"they are\", \"they've\": \"they have\", \"to've\": \"to have\",\n",
    "                           \"wasn't\": \"was not\", \"we'd\": \"we would\", \"we'd've\": \"we would have\", \"we'll\": \"we will\", \"we'll've\": \"we will have\", \"we're\": \"we are\",\n",
    "                           \"we've\": \"we have\", \"weren't\": \"were not\", \"what'll\": \"what will\", \"what'll've\": \"what will have\", \"what're\": \"what are\",\n",
    "                           \"what's\": \"what is\", \"what've\": \"what have\", \"when's\": \"when is\", \"when've\": \"when have\", \"where'd\": \"where did\", \"where's\": \"where is\",\n",
    "                           \"where've\": \"where have\", \"who'll\": \"who will\", \"who'll've\": \"who will have\", \"who's\": \"who is\", \"who've\": \"who have\",\n",
    "                           \"why's\": \"why is\", \"why've\": \"why have\", \"will've\": \"will have\", \"won't\": \"will not\", \"won't've\": \"will not have\",\n",
    "                           \"would've\": \"would have\", \"wouldn't\": \"would not\", \"wouldn't've\": \"would not have\", \"y'all\": \"you all\",\n",
    "                           \"y'all'd\": \"you all would\",\"y'all'd've\": \"you all would have\",\"y'all're\": \"you all are\",\"y'all've\": \"you all have\",\n",
    "                           \"you'd\": \"you would\", \"you'd've\": \"you would have\", \"you'll\": \"you will\", \"you'll've\": \"you will have\",\n",
    "                           \"you're\": \"you are\", \"you've\": \"you have\"}\n",
    "\n",
    "print(\"정규화 사전의 수: \", len(contractions))"
   ]
  },
  {
   "cell_type": "code",
   "execution_count": 7,
   "id": "8dbc2e0c",
   "metadata": {},
   "outputs": [
    {
     "name": "stdout",
     "output_type": "stream",
     "text": [
      "불용어 개수 : 179\n",
      "['i', 'me', 'my', 'myself', 'we', 'our', 'ours', 'ourselves', 'you', \"you're\", \"you've\", \"you'll\", \"you'd\", 'your', 'yours', 'yourself', 'yourselves', 'he', 'him', 'his', 'himself', 'she', \"she's\", 'her', 'hers', 'herself', 'it', \"it's\", 'its', 'itself', 'they', 'them', 'their', 'theirs', 'themselves', 'what', 'which', 'who', 'whom', 'this', 'that', \"that'll\", 'these', 'those', 'am', 'is', 'are', 'was', 'were', 'be', 'been', 'being', 'have', 'has', 'had', 'having', 'do', 'does', 'did', 'doing', 'a', 'an', 'the', 'and', 'but', 'if', 'or', 'because', 'as', 'until', 'while', 'of', 'at', 'by', 'for', 'with', 'about', 'against', 'between', 'into', 'through', 'during', 'before', 'after', 'above', 'below', 'to', 'from', 'up', 'down', 'in', 'out', 'on', 'off', 'over', 'under', 'again', 'further', 'then', 'once', 'here', 'there', 'when', 'where', 'why', 'how', 'all', 'any', 'both', 'each', 'few', 'more', 'most', 'other', 'some', 'such', 'no', 'nor', 'not', 'only', 'own', 'same', 'so', 'than', 'too', 'very', 's', 't', 'can', 'will', 'just', 'don', \"don't\", 'should', \"should've\", 'now', 'd', 'll', 'm', 'o', 're', 've', 'y', 'ain', 'aren', \"aren't\", 'couldn', \"couldn't\", 'didn', \"didn't\", 'doesn', \"doesn't\", 'hadn', \"hadn't\", 'hasn', \"hasn't\", 'haven', \"haven't\", 'isn', \"isn't\", 'ma', 'mightn', \"mightn't\", 'mustn', \"mustn't\", 'needn', \"needn't\", 'shan', \"shan't\", 'shouldn', \"shouldn't\", 'wasn', \"wasn't\", 'weren', \"weren't\", 'won', \"won't\", 'wouldn', \"wouldn't\"]\n"
     ]
    }
   ],
   "source": [
    "# NLTK stopwords\n",
    "\n",
    "print('불용어 개수 :', len(stopwords.words('english') ))\n",
    "print(stopwords.words('english'))"
   ]
  },
  {
   "cell_type": "code",
   "execution_count": 8,
   "id": "e9e4055c",
   "metadata": {},
   "outputs": [
    {
     "name": "stdout",
     "output_type": "stream",
     "text": [
      "hi\n"
     ]
    }
   ],
   "source": [
    "# 데이터 전처리 함수\n",
    "def preprocess_sentence(sentence, remove_stopwords=True):\n",
    "    sentence = sentence.lower() # 텍스트 소문자화\n",
    "    sentence = BeautifulSoup(sentence, \"lxml\").text # <br />, <a href = ...> 등의 html 태그 제거\n",
    "    #re.sub(pattern, repl, string)\n",
    "    sentence = re.sub(r'\\([^)]*\\)', '', sentence) # 괄호로 닫힌 문자열 (...) 제거 Ex) my husband (and myself!) for => my husband for\n",
    "    sentence = re.sub('\"','', sentence) # 쌍따옴표 \" 제거\n",
    "    sentence = ' '.join([contractions[t] if t in contractions else t for t in sentence.split(\" \")]) # 약어 정규화\n",
    "    sentence = re.sub(r\"'s\\b\",\"\", sentence) # 소유격 제거. Ex) roland's -> roland\n",
    "    sentence = re.sub(\"[^a-zA-Z]\", \" \", sentence) # 영어 외 문자(숫자, 특수문자 등) 공백으로 변환\n",
    "    sentence = re.sub('[m]{2,}', 'mm', sentence) # m이 3개 이상이면 2개로 변경. Ex) ummmmmmm yeah -> umm yeah\n",
    "    \n",
    "    # 불용어 제거 (text)\n",
    "    if remove_stopwords:\n",
    "        tokens = ' '.join(word for word in sentence.split() if not word in stopwords.words('english') if len(word) > 1)\n",
    "    # 불용어 미제거 (headlines)\n",
    "    else:\n",
    "        tokens = ' '.join(word for word in sentence.split() if len(word) > 1)\n",
    "    return tokens\n",
    "print('hi')"
   ]
  },
  {
   "cell_type": "code",
   "execution_count": 9,
   "id": "d8dc75e7",
   "metadata": {},
   "outputs": [
    {
     "name": "stdout",
     "output_type": "stream",
     "text": [
      "text 전처리 후 결과:  ['saurav kant alumnus upgrad iiit pg program machine learning artificial intelligence sr systems engineer infosys almost years work experience program upgrad degree career support helped transition data scientist tech mahindra salary hike upgrad online power learning powered lakh careers', 'kunal shah credit card bill payment platform cred gave users chance win free food swiggy one year pranav kaushik delhi techie bagged reward spending cred coins users get one cred coin per rupee bill paid used avail rewards brands like ixigo bookmyshow ubereats cult fit', 'new zealand defeated india wickets fourth odi hamilton thursday win first match five match odi series india lost international match rohit sharma captaincy consecutive victories dating back march match witnessed india getting seventh lowest total odi cricket history', 'aegon life iterm insurance plan customers enjoy tax benefits premiums paid save taxes plan provides life cover age years also customers options insure critical illnesses disability accidental death benefit rider life cover age years', 'speaking sexual harassment allegations rajkumar hirani sonam kapoor said known hirani many years true metoo movement get derailed metoo movement always believe woman case need reserve judgment added hirani accused assistant worked sanju']\n"
     ]
    }
   ],
   "source": [
    "clean_text = []\n",
    "# 전체 text 데이터에 대한 전처리 : 10분 이상 시간이 걸릴 수 있습니다. \n",
    "for s in data['text']:\n",
    "    clean_text.append(preprocess_sentence(s))\n",
    "\n",
    "# 전처리 후 출력\n",
    "print(\"text 전처리 후 결과: \", clean_text[:5])"
   ]
  },
  {
   "cell_type": "code",
   "execution_count": 10,
   "id": "ae1c1c87",
   "metadata": {},
   "outputs": [
    {
     "name": "stdout",
     "output_type": "stream",
     "text": [
      "headlines 전처리 후 결과:  ['upgrad learner switches to career in ml al with salary hike', 'delhi techie wins free food from swiggy for one year on cred', 'new zealand end rohit sharma led india match winning streak', 'aegon life iterm insurance plan helps customers save tax', 'have known hirani for yrs what if metoo claims are not true sonam']\n"
     ]
    }
   ],
   "source": [
    "clean_headlines = []\n",
    "# 전체 headlines 데이터에 대한 전처리 : 5분 이상 시간이 걸릴 수 있습니다. \n",
    "for s in data['headlines']:\n",
    "    clean_headlines.append(preprocess_sentence(s, False))\n",
    "\n",
    "print(\"headlines 전처리 후 결과: \", clean_headlines[:5])"
   ]
  },
  {
   "cell_type": "code",
   "execution_count": 11,
   "id": "b5c4a488",
   "metadata": {},
   "outputs": [
    {
     "name": "stdout",
     "output_type": "stream",
     "text": [
      "=3\n"
     ]
    }
   ],
   "source": [
    "data['text'] = clean_text\n",
    "data['headlines'] = clean_headlines\n",
    "\n",
    "# 빈 값을 Null 값으로 변환\n",
    "data.replace('', np.nan, inplace=True)\n",
    "print('=3')"
   ]
  },
  {
   "cell_type": "code",
   "execution_count": 12,
   "id": "060ab238",
   "metadata": {},
   "outputs": [
    {
     "name": "stdout",
     "output_type": "stream",
     "text": [
      "headlines    0\n",
      "text         0\n",
      "dtype: int64\n"
     ]
    }
   ],
   "source": [
    "print(data.isnull().sum()) #전처리 후에도 결측치가 없다. "
   ]
  },
  {
   "cell_type": "code",
   "execution_count": 13,
   "id": "98ac4f86",
   "metadata": {},
   "outputs": [
    {
     "name": "stdout",
     "output_type": "stream",
     "text": [
      "텍스트의 최소 길이 : 1\n",
      "텍스트의 최대 길이 : 60\n",
      "텍스트의 평균 길이 : 35.09983638377659\n",
      "헤드라인의 최소 길이 : 1\n",
      "헤드라인의 최대 길이 : 16\n",
      "헤드라인의 평균 길이 : 9.299651426306644\n"
     ]
    },
    {
     "data": {
      "image/png": "[encoded data removed]",
      "text/plain": [
       "<Figure size 432x288 with 2 Axes>"
      ]
     },
     "metadata": {
      "needs_background": "light"
     },
     "output_type": "display_data"
    },
    {
     "data": {
      "image/png": "[encoded data removed]",
      "text/plain": [
       "<Figure size 432x288 with 1 Axes>"
      ]
     },
     "metadata": {
      "needs_background": "light"
     },
     "output_type": "display_data"
    },
    {
     "data": {
      "image/png": "[encoded data removed]",
      "text/plain": [
       "<Figure size 432x288 with 1 Axes>"
      ]
     },
     "metadata": {
      "needs_background": "light"
     },
     "output_type": "display_data"
    }
   ],
   "source": [
    "# 길이 분포 출력\n",
    "import matplotlib.pyplot as plt\n",
    "\n",
    "text_len = [len(s.split()) for s in data['text']]\n",
    "headlines_len = [len(s.split()) for s in data['headlines']]\n",
    "\n",
    "print('텍스트의 최소 길이 : {}'.format(np.min(text_len)))\n",
    "print('텍스트의 최대 길이 : {}'.format(np.max(text_len)))\n",
    "print('텍스트의 평균 길이 : {}'.format(np.mean(text_len)))\n",
    "print('헤드라인의 최소 길이 : {}'.format(np.min(headlines_len)))\n",
    "print('헤드라인의 최대 길이 : {}'.format(np.max(headlines_len)))\n",
    "print('헤드라인의 평균 길이 : {}'.format(np.mean(headlines_len)))\n",
    "\n",
    "plt.subplot(1,2,1)\n",
    "plt.boxplot(text_len)\n",
    "plt.title('text')\n",
    "plt.subplot(1,2,2)\n",
    "plt.boxplot(headlines_len)\n",
    "plt.title('headlines')\n",
    "plt.tight_layout()\n",
    "plt.show()\n",
    "\n",
    "plt.title('text')\n",
    "plt.hist(text_len, bins = 30)\n",
    "plt.xlabel('length of samples')\n",
    "plt.ylabel('number of samples')\n",
    "plt.show()\n",
    "\n",
    "plt.title('headlines')\n",
    "plt.hist(headlines_len, bins = 30)\n",
    "plt.xlabel('length of samples')\n",
    "plt.ylabel('number of samples')\n",
    "plt.show()"
   ]
  },
  {
   "cell_type": "code",
   "execution_count": 14,
   "id": "ba84e546",
   "metadata": {},
   "outputs": [],
   "source": [
    "#최대길이 설정해주기\n",
    "text_max_len = 38\n",
    "headlines_max_len = 10"
   ]
  },
  {
   "cell_type": "code",
   "execution_count": 15,
   "id": "0cb29e8e",
   "metadata": {},
   "outputs": [
    {
     "name": "stdout",
     "output_type": "stream",
     "text": [
      "=3\n"
     ]
    }
   ],
   "source": [
    "def below_threshold_len(max_len, nested_list):\n",
    "  cnt = 0\n",
    "  for s in nested_list:\n",
    "    if(len(s.split()) <= max_len):\n",
    "        cnt = cnt + 1\n",
    "  print('전체 샘플 중 길이가 %s 이하인 샘플의 비율: %s'%(max_len, (cnt / len(nested_list))))\n",
    "print('=3')"
   ]
  },
  {
   "cell_type": "code",
   "execution_count": 16,
   "id": "23b7e27b",
   "metadata": {},
   "outputs": [
    {
     "name": "stdout",
     "output_type": "stream",
     "text": [
      "전체 샘플 중 길이가 38 이하인 샘플의 비율: 0.8163026798508145\n",
      "전체 샘플 중 길이가 10 이하인 샘플의 비율: 0.8162823548541174\n"
     ]
    }
   ],
   "source": [
    "below_threshold_len(text_max_len, data['text'])\n",
    "below_threshold_len(headlines_max_len,  data['headlines'])\n",
    "#설정한 최대 길이로 했을 때 81% 이상 샘플을 포함한다. "
   ]
  },
  {
   "cell_type": "code",
   "execution_count": 17,
   "id": "11a77ef5",
   "metadata": {},
   "outputs": [
    {
     "name": "stdout",
     "output_type": "stream",
     "text": [
      "전체 샘플수 : 65318\n"
     ]
    }
   ],
   "source": [
    "#최대 길이보다 긴 데이터는 제외하기\n",
    "data = data[data['text'].apply(lambda x: len(x.split()) <= text_max_len)]\n",
    "data = data[data['headlines'].apply(lambda x: len(x.split()) <= headlines_max_len)]\n",
    "print('전체 샘플수 :', (len(data)))"
   ]
  },
  {
   "cell_type": "code",
   "execution_count": 18,
   "id": "1e24fa0a",
   "metadata": {},
   "outputs": [
    {
     "data": {
      "text/html": [
       "<div>\n",
       "<style scoped>\n",
       "    .dataframe tbody tr th:only-of-type {\n",
       "        vertical-align: middle;\n",
       "    }\n",
       "\n",
       "    .dataframe tbody tr th {\n",
       "        vertical-align: top;\n",
       "    }\n",
       "\n",
       "    .dataframe thead th {\n",
       "        text-align: right;\n",
       "    }\n",
       "</style>\n",
       "<table border=\"1\" class=\"dataframe\">\n",
       "  <thead>\n",
       "    <tr style=\"text-align: right;\">\n",
       "      <th></th>\n",
       "      <th>headlines</th>\n",
       "      <th>text</th>\n",
       "      <th>decoder_input</th>\n",
       "      <th>decoder_target</th>\n",
       "    </tr>\n",
       "  </thead>\n",
       "  <tbody>\n",
       "    <tr>\n",
       "      <th>2</th>\n",
       "      <td>new zealand end rohit sharma led india match w...</td>\n",
       "      <td>new zealand defeated india wickets fourth odi ...</td>\n",
       "      <td>sostoken new zealand end rohit sharma led indi...</td>\n",
       "      <td>new zealand end rohit sharma led india match w...</td>\n",
       "    </tr>\n",
       "    <tr>\n",
       "      <th>3</th>\n",
       "      <td>aegon life iterm insurance plan helps customer...</td>\n",
       "      <td>aegon life iterm insurance plan customers enjo...</td>\n",
       "      <td>sostoken aegon life iterm insurance plan helps...</td>\n",
       "      <td>aegon life iterm insurance plan helps customer...</td>\n",
       "    </tr>\n",
       "    <tr>\n",
       "      <th>5</th>\n",
       "      <td>rahat fateh ali khan denies getting notice for...</td>\n",
       "      <td>pakistani singer rahat fateh ali khan denied r...</td>\n",
       "      <td>sostoken rahat fateh ali khan denies getting n...</td>\n",
       "      <td>rahat fateh ali khan denies getting notice for...</td>\n",
       "    </tr>\n",
       "    <tr>\n",
       "      <th>9</th>\n",
       "      <td>cong wins ramgarh bypoll in rajasthan takes to...</td>\n",
       "      <td>congress candidate shafia zubair ramgarh assem...</td>\n",
       "      <td>sostoken cong wins ramgarh bypoll in rajasthan...</td>\n",
       "      <td>cong wins ramgarh bypoll in rajasthan takes to...</td>\n",
       "    </tr>\n",
       "    <tr>\n",
       "      <th>10</th>\n",
       "      <td>up cousins fed human excreta for friendship wi...</td>\n",
       "      <td>two minor cousins uttar pradesh gorakhpur alle...</td>\n",
       "      <td>sostoken up cousins fed human excreta for frie...</td>\n",
       "      <td>up cousins fed human excreta for friendship wi...</td>\n",
       "    </tr>\n",
       "  </tbody>\n",
       "</table>\n",
       "</div>"
      ],
      "text/plain": [
       "                                            headlines  \\\n",
       "2   new zealand end rohit sharma led india match w...   \n",
       "3   aegon life iterm insurance plan helps customer...   \n",
       "5   rahat fateh ali khan denies getting notice for...   \n",
       "9   cong wins ramgarh bypoll in rajasthan takes to...   \n",
       "10  up cousins fed human excreta for friendship wi...   \n",
       "\n",
       "                                                 text  \\\n",
       "2   new zealand defeated india wickets fourth odi ...   \n",
       "3   aegon life iterm insurance plan customers enjo...   \n",
       "5   pakistani singer rahat fateh ali khan denied r...   \n",
       "9   congress candidate shafia zubair ramgarh assem...   \n",
       "10  two minor cousins uttar pradesh gorakhpur alle...   \n",
       "\n",
       "                                        decoder_input  \\\n",
       "2   sostoken new zealand end rohit sharma led indi...   \n",
       "3   sostoken aegon life iterm insurance plan helps...   \n",
       "5   sostoken rahat fateh ali khan denies getting n...   \n",
       "9   sostoken cong wins ramgarh bypoll in rajasthan...   \n",
       "10  sostoken up cousins fed human excreta for frie...   \n",
       "\n",
       "                                       decoder_target  \n",
       "2   new zealand end rohit sharma led india match w...  \n",
       "3   aegon life iterm insurance plan helps customer...  \n",
       "5   rahat fateh ali khan denies getting notice for...  \n",
       "9   cong wins ramgarh bypoll in rajasthan takes to...  \n",
       "10  up cousins fed human excreta for friendship wi...  "
      ]
     },
     "execution_count": 18,
     "metadata": {},
     "output_type": "execute_result"
    }
   ],
   "source": [
    "# 헤드라인 데이터에는 시작 토큰과 종료 토큰을 추가한다.\n",
    "data['decoder_input'] = data['headlines'].apply(lambda x : 'sostoken '+ x)\n",
    "data['decoder_target'] = data['headlines'].apply(lambda x : x + ' eostoken')\n",
    "data.head()"
   ]
  },
  {
   "cell_type": "code",
   "execution_count": 19,
   "id": "108559cb",
   "metadata": {},
   "outputs": [
    {
     "name": "stdout",
     "output_type": "stream",
     "text": [
      "=3\n"
     ]
    }
   ],
   "source": [
    "#인코더의 입력, 디코더의 입력과 레이블을 Numpy 타입으로 변경\n",
    "encoder_input = np.array(data['text']) # 인코더의 입력\n",
    "decoder_input = np.array(data['decoder_input']) # 디코더의 입력\n",
    "decoder_target = np.array(data['decoder_target']) # 디코더의 레이블\n",
    "print('=3')"
   ]
  },
  {
   "cell_type": "code",
   "execution_count": 20,
   "id": "c1f0d271",
   "metadata": {},
   "outputs": [
    {
     "data": {
      "text/plain": [
       "array(['new zealand defeated india wickets fourth odi hamilton thursday win first match five match odi series india lost international match rohit sharma captaincy consecutive victories dating back march match witnessed india getting seventh lowest total odi cricket history',\n",
       "       'aegon life iterm insurance plan customers enjoy tax benefits premiums paid save taxes plan provides life cover age years also customers options insure critical illnesses disability accidental death benefit rider life cover age years',\n",
       "       'pakistani singer rahat fateh ali khan denied receiving notice enforcement directorate allegedly smuggling foreign currency india would better authorities would served notice first publicised reads press release issued behalf rahat statement called allegation bizarre',\n",
       "       ...,\n",
       "       'uff yeh first song sonakshi sinha starrer upcoming drama film noor released song composed amaal mallik vocals armaan malik lyrics manoj muntashir sonakshi seen portraying pakistani journalist writer film directed sunhil sippy film scheduled release april',\n",
       "       'according reports new version science fiction film matrix development michael jordan reportedly play lead role film screenwriter zak penn talks write script film reports added actor keanu reeves starred original film followed two sequels',\n",
       "       'madhesi morcha alliance seven political parties withdrawn support pm pushpa kamal dahal led nepal government failed meet seven day ultimatum fulfil demands including endorsement revised constitution amendment bill morcha seats parliament despite withdrawal support immediate threat government'],\n",
       "      dtype=object)"
      ]
     },
     "execution_count": 20,
     "metadata": {},
     "output_type": "execute_result"
    }
   ],
   "source": [
    "encoder_input"
   ]
  },
  {
   "cell_type": "code",
   "execution_count": 21,
   "id": "a0fb03c8",
   "metadata": {},
   "outputs": [
    {
     "name": "stdout",
     "output_type": "stream",
     "text": [
      "[37529 29887 60297 ... 29366 46437 59938]\n"
     ]
    }
   ],
   "source": [
    "#encoder_input 크기만큼 시퀀스를 만들고 셔플로 섞어줌\n",
    "indices = np.arange(encoder_input.shape[0])\n",
    "np.random.shuffle(indices)\n",
    "print(indices)"
   ]
  },
  {
   "cell_type": "code",
   "execution_count": 22,
   "id": "cbed7618",
   "metadata": {},
   "outputs": [
    {
     "name": "stdout",
     "output_type": "stream",
     "text": [
      "hi\n"
     ]
    }
   ],
   "source": [
    "#섞인 시퀀스를 encoder_input  인덱스로 사용\n",
    "encoder_input = encoder_input[indices]\n",
    "decoder_input = decoder_input[indices]\n",
    "decoder_target = decoder_target[indices]\n",
    "print('hi')"
   ]
  },
  {
   "cell_type": "code",
   "execution_count": 23,
   "id": "1a484a7a",
   "metadata": {},
   "outputs": [
    {
     "data": {
      "text/plain": [
       "array(['sushmita sen asked essence woman answered woman one shows man love caring sharing aishwarya rai said compassion quality miss world embody question answer round priyanka chopra asked considered successful woman alive time',\n",
       "       'google announced chrome mark http sites secure beginning july year chrome new interface help users understand http sites secure continue move web towards secure https web default https stands secure implying communication browser website encrypted',\n",
       "       'people including police officers least three mps injured demonstrators fought way police cordon stormed macedonian parliament scuffles came nationalist macedonian protesters angered election ethnic albanian parliamentary speaker notably macedonia without functioning government since',\n",
       "       ...,\n",
       "       'harvard university offering course called cacaphonies toward excremental poetics undergraduate students course taught english covers th st century scatological texts french literature university says course help students see faeces site creation instead site disgust highlighting importance faecal matter',\n",
       "       'myanmar blocked un aid agencies distributing essential supplies civilians turbulent rakhine state according guardian office un resident coordinator said unable distribute assistance thousands due government restrictions conflict myanmar security forces rohingya militants killed least people',\n",
       "       'english football club leeds united offered refund price season tickets next season fail qualify championship playoffs club says offer clear statement intent gain promotion determined rejoin english premier league'],\n",
       "      dtype=object)"
      ]
     },
     "execution_count": 23,
     "metadata": {},
     "output_type": "execute_result"
    }
   ],
   "source": [
    "encoder_input #섞기 전 데이터와 비교해보니 데이터가 잘 섞인것을 볼 수 있다. "
   ]
  },
  {
   "cell_type": "code",
   "execution_count": 24,
   "id": "e3e42c3b",
   "metadata": {},
   "outputs": [
    {
     "name": "stdout",
     "output_type": "stream",
     "text": [
      "테스트 데이터의 수 : 13063\n"
     ]
    }
   ],
   "source": [
    "#트레인과 테스트 데이터 비율 8:2 설정\n",
    "n_of_val = int(len(encoder_input)*0.2)\n",
    "print('테스트 데이터의 수 :', n_of_val)"
   ]
  },
  {
   "cell_type": "code",
   "execution_count": 25,
   "id": "314e8b10",
   "metadata": {},
   "outputs": [
    {
     "name": "stdout",
     "output_type": "stream",
     "text": [
      "훈련 데이터의 개수 : 52255\n",
      "훈련 레이블의 개수 : 52255\n",
      "테스트 데이터의 개수 : 13063\n",
      "테스트 레이블의 개수 : 13063\n"
     ]
    }
   ],
   "source": [
    "encoder_input_train = encoder_input[:-n_of_val]\n",
    "decoder_input_train = decoder_input[:-n_of_val]\n",
    "decoder_target_train = decoder_target[:-n_of_val]\n",
    "\n",
    "encoder_input_test = encoder_input[-n_of_val:]\n",
    "decoder_input_test = decoder_input[-n_of_val:]\n",
    "decoder_target_test = decoder_target[-n_of_val:]\n",
    "\n",
    "print('훈련 데이터의 개수 :', len(encoder_input_train))\n",
    "print('훈련 레이블의 개수 :', len(decoder_input_train))\n",
    "print('테스트 데이터의 개수 :', len(encoder_input_test))\n",
    "print('테스트 레이블의 개수 :', len(decoder_input_test))"
   ]
  },
  {
   "cell_type": "code",
   "execution_count": 26,
   "id": "ee013373",
   "metadata": {},
   "outputs": [
    {
     "name": "stdout",
     "output_type": "stream",
     "text": [
      "=3\n"
     ]
    }
   ],
   "source": [
    "#단어집합(vocabulary) 만들기\n",
    "src_tokenizer = Tokenizer() # 토크나이저 정의\n",
    "src_tokenizer.fit_on_texts(encoder_input_train) # 입력된 데이터로부터 단어 집합 생성\n",
    "print('=3')"
   ]
  },
  {
   "cell_type": "code",
   "execution_count": 27,
   "id": "f30aed0c",
   "metadata": {},
   "outputs": [
    {
     "data": {
      "text/plain": [
       "<keras_preprocessing.text.Tokenizer at 0x7f5b05f152b0>"
      ]
     },
     "execution_count": 27,
     "metadata": {},
     "output_type": "execute_result"
    }
   ],
   "source": [
    "src_tokenizer"
   ]
  },
  {
   "cell_type": "code",
   "execution_count": 28,
   "id": "dec54388",
   "metadata": {},
   "outputs": [
    {
     "name": "stdout",
     "output_type": "stream",
     "text": [
      "단어 집합(vocabulary)의 크기 : 57238\n",
      "등장 빈도가 7번 이하인 희귀 단어의 수: 40564\n",
      "단어 집합에서 희귀 단어를 제외시킬 경우의 단어 집합의 크기 16674\n",
      "단어 집합에서 희귀 단어의 비율: 70.86900310982215\n",
      "전체 등장 빈도에서 희귀 단어 등장 빈도 비율: 5.0087751474281195\n"
     ]
    }
   ],
   "source": [
    "#src_tokenizer.word_index에 저장되어 있는 단어집합의 빈도수 확인하기\n",
    "\n",
    "threshold = 8\n",
    "total_cnt = len(src_tokenizer.word_index) # 단어의 수\n",
    "rare_cnt = 0 # 등장 빈도수가 threshold보다 작은 단어의 개수를 카운트\n",
    "total_freq = 0 # 훈련 데이터의 전체 단어 빈도수 총 합\n",
    "rare_freq = 0 # 등장 빈도수가 threshold보다 작은 단어의 등장 빈도수의 총 합\n",
    "\n",
    "# 단어와 빈도수의 쌍(pair)을 key와 value로 받는다.\n",
    "for key, value in src_tokenizer.word_counts.items():\n",
    "    total_freq = total_freq + value\n",
    "\n",
    "    # 단어의 등장 빈도수가 threshold보다 작으면\n",
    "    if(value < threshold):\n",
    "        rare_cnt = rare_cnt + 1\n",
    "        rare_freq = rare_freq + value\n",
    "\n",
    "print('단어 집합(vocabulary)의 크기 :', total_cnt)\n",
    "print('등장 빈도가 %s번 이하인 희귀 단어의 수: %s'%(threshold - 1, rare_cnt))\n",
    "print('단어 집합에서 희귀 단어를 제외시킬 경우의 단어 집합의 크기 %s'%(total_cnt - rare_cnt))\n",
    "print(\"단어 집합에서 희귀 단어의 비율:\", (rare_cnt / total_cnt)*100)\n",
    "print(\"전체 등장 빈도에서 희귀 단어 등장 빈도 비율:\", (rare_freq / total_freq)*100)"
   ]
  },
  {
   "cell_type": "code",
   "execution_count": 29,
   "id": "82a42d3c",
   "metadata": {},
   "outputs": [
    {
     "name": "stdout",
     "output_type": "stream",
     "text": [
      "hi\n"
     ]
    }
   ],
   "source": [
    "#  threshold 빈도를 8로 했을 때 전체 빈도에서 희귀단어 빈도는 5% 차지. 희귀단어 제외시 16000개. \n",
    "#단어 수를 8000개로 설정해보자\n",
    "\n",
    "src_vocab = 8000\n",
    "src_tokenizer = Tokenizer(num_words=src_vocab) # 단어 집합의 크기를 15,000으로 제한\n",
    "src_tokenizer.fit_on_texts(encoder_input_train) # 단어 집합 재생성\n",
    "print('hi')"
   ]
  },
  {
   "cell_type": "code",
   "execution_count": 30,
   "id": "a2a2eab4",
   "metadata": {},
   "outputs": [
    {
     "name": "stdout",
     "output_type": "stream",
     "text": [
      "[[6129, 4570, 73, 45, 6667, 45, 17, 422, 32, 410, 592, 2120, 1620, 1, 1313, 1693, 23, 1209, 2121, 672, 518, 707, 73, 1184, 1929, 45, 2383, 30], [205, 80, 6130, 479, 2599, 2672, 2494, 397, 2, 6130, 25, 7048, 177, 106, 1735, 2599, 2672, 747, 342, 1923, 505, 2672, 1923, 5938, 2404, 2672, 2826, 5562, 843, 7350], [8, 86, 7, 577, 123, 29, 1876, 211, 3642, 263, 7, 526, 229, 4466, 2303, 348, 6027, 2366, 2109, 90, 195, 3473, 9, 87]]\n"
     ]
    }
   ],
   "source": [
    "#texts_to_sequences()는 생성된 단어 집합에 기반하여 입력으로 주어진 텍스트 데이터의 단어들을 모두 정수로 변환하는 정수 인코딩을 수행\n",
    "\n",
    "# 텍스트 시퀀스를 정수 시퀀스로 변환\n",
    "encoder_input_train = src_tokenizer.texts_to_sequences(encoder_input_train) \n",
    "encoder_input_test = src_tokenizer.texts_to_sequences(encoder_input_test)\n",
    "\n",
    "# 잘 진행되었는지 샘플 출력\n",
    "print(encoder_input_train[:3])"
   ]
  },
  {
   "cell_type": "code",
   "execution_count": 31,
   "id": "b4940ea1",
   "metadata": {},
   "outputs": [
    {
     "name": "stdout",
     "output_type": "stream",
     "text": [
      "=3\n"
     ]
    }
   ],
   "source": [
    "tar_tokenizer = Tokenizer()\n",
    "tar_tokenizer.fit_on_texts(decoder_input_train)\n",
    "print('=3')"
   ]
  },
  {
   "cell_type": "code",
   "execution_count": 32,
   "id": "5910e6c7",
   "metadata": {},
   "outputs": [
    {
     "name": "stdout",
     "output_type": "stream",
     "text": [
      "단어 집합(vocabulary)의 크기 : 25863\n",
      "등장 빈도가 5번 이하인 희귀 단어의 수: 17474\n",
      "단어 집합에서 희귀 단어를 제외시킬 경우의 단어 집합의 크기 8389\n",
      "단어 집합에서 희귀 단어의 비율: 67.56370104009589\n",
      "전체 등장 빈도에서 희귀 단어 등장 빈도 비율: 6.508646380752404\n"
     ]
    }
   ],
   "source": [
    "threshold = 6\n",
    "total_cnt = len(tar_tokenizer.word_index) # 단어의 수\n",
    "rare_cnt = 0 # 등장 빈도수가 threshold보다 작은 단어의 개수를 카운트\n",
    "total_freq = 0 # 훈련 데이터의 전체 단어 빈도수 총 합\n",
    "rare_freq = 0 # 등장 빈도수가 threshold보다 작은 단어의 등장 빈도수의 총 합\n",
    "\n",
    "# 단어와 빈도수의 쌍(pair)을 key와 value로 받는다.\n",
    "for key, value in tar_tokenizer.word_counts.items():\n",
    "    total_freq = total_freq + value\n",
    "\n",
    "    # 단어의 등장 빈도수가 threshold보다 작으면\n",
    "    if(value < threshold):\n",
    "        rare_cnt = rare_cnt + 1\n",
    "        rare_freq = rare_freq + value\n",
    "\n",
    "print('단어 집합(vocabulary)의 크기 :', total_cnt)\n",
    "print('등장 빈도가 %s번 이하인 희귀 단어의 수: %s'%(threshold - 1, rare_cnt))\n",
    "print('단어 집합에서 희귀 단어를 제외시킬 경우의 단어 집합의 크기 %s'%(total_cnt - rare_cnt))\n",
    "print(\"단어 집합에서 희귀 단어의 비율:\", (rare_cnt / total_cnt)*100)\n",
    "print(\"전체 등장 빈도에서 희귀 단어 등장 빈도 비율:\", (rare_freq / total_freq)*100)"
   ]
  },
  {
   "cell_type": "code",
   "execution_count": 33,
   "id": "d7ec6e31",
   "metadata": {},
   "outputs": [
    {
     "name": "stdout",
     "output_type": "stream",
     "text": [
      "input\n",
      "input  [[1, 356, 683, 26, 3, 158, 3211], [1, 3729, 3, 774, 105, 2387, 17, 16], [1, 11, 164, 17, 3108, 1745, 464], [1, 800, 96, 91, 3337, 1384, 104], [1, 3212, 29, 2464, 52, 1128, 96, 89]]\n",
      "target\n",
      "decoder  [[356, 683, 26, 3, 158, 3211, 2], [3729, 3, 774, 105, 2387, 17, 16, 2], [11, 164, 17, 3108, 1745, 464, 2], [800, 96, 91, 3337, 1384, 104, 2], [3212, 29, 2464, 52, 1128, 96, 89, 2]]\n"
     ]
    }
   ],
   "source": [
    "tar_vocab = 4000\n",
    "tar_tokenizer = Tokenizer(num_words=tar_vocab) \n",
    "tar_tokenizer.fit_on_texts(decoder_input_train)\n",
    "tar_tokenizer.fit_on_texts(decoder_target_train)\n",
    "\n",
    "# 텍스트 시퀀스를 정수 시퀀스로 변환\n",
    "decoder_input_train = tar_tokenizer.texts_to_sequences(decoder_input_train) \n",
    "decoder_target_train = tar_tokenizer.texts_to_sequences(decoder_target_train)\n",
    "decoder_input_test = tar_tokenizer.texts_to_sequences(decoder_input_test)\n",
    "decoder_target_test = tar_tokenizer.texts_to_sequences(decoder_target_test)\n",
    "\n",
    "# 잘 변환되었는지 확인\n",
    "print('input')\n",
    "print('input ',decoder_input_train[:5])\n",
    "print('target')\n",
    "print('decoder ',decoder_target_train[:5])"
   ]
  },
  {
   "cell_type": "code",
   "execution_count": 34,
   "id": "989f5c9c",
   "metadata": {},
   "outputs": [
    {
     "name": "stdout",
     "output_type": "stream",
     "text": [
      "삭제할 훈련 데이터의 개수 : 1\n",
      "삭제할 테스트 데이터의 개수 : 0\n",
      "훈련 데이터의 개수 : 52254\n",
      "훈련 레이블의 개수 : 52254\n",
      "테스트 데이터의 개수 : 13063\n",
      "테스트 레이블의 개수 : 13063\n"
     ]
    }
   ],
   "source": [
    "#단어 수를 제한한 뒤 결측값이 생겼는지 확인하기\n",
    "\n",
    "drop_train = [index for index, sentence in enumerate(decoder_input_train) if len(sentence) == 1]\n",
    "drop_test = [index for index, sentence in enumerate(decoder_input_test) if len(sentence) == 1]\n",
    "\n",
    "print('삭제할 훈련 데이터의 개수 :', len(drop_train))\n",
    "print('삭제할 테스트 데이터의 개수 :', len(drop_test))\n",
    "\n",
    "encoder_input_train = [sentence for index, sentence in enumerate(encoder_input_train) if index not in drop_train]\n",
    "decoder_input_train = [sentence for index, sentence in enumerate(decoder_input_train) if index not in drop_train]\n",
    "decoder_target_train = [sentence for index, sentence in enumerate(decoder_target_train) if index not in drop_train]\n",
    "\n",
    "encoder_input_test = [sentence for index, sentence in enumerate(encoder_input_test) if index not in drop_test]\n",
    "decoder_input_test = [sentence for index, sentence in enumerate(decoder_input_test) if index not in drop_test]\n",
    "decoder_target_test = [sentence for index, sentence in enumerate(decoder_target_test) if index not in drop_test]\n",
    "\n",
    "print('훈련 데이터의 개수 :', len(encoder_input_train))\n",
    "print('훈련 레이블의 개수 :', len(decoder_input_train))\n",
    "print('테스트 데이터의 개수 :', len(encoder_input_test))\n",
    "print('테스트 레이블의 개수 :', len(decoder_input_test))"
   ]
  },
  {
   "cell_type": "code",
   "execution_count": 35,
   "id": "0768f556",
   "metadata": {},
   "outputs": [
    {
     "name": "stdout",
     "output_type": "stream",
     "text": [
      "hi\n"
     ]
    }
   ],
   "source": [
    "#패딩하기\n",
    "encoder_input_train = pad_sequences(encoder_input_train, maxlen=text_max_len, padding='post')\n",
    "encoder_input_test = pad_sequences(encoder_input_test, maxlen=text_max_len, padding='post')\n",
    "decoder_input_train = pad_sequences(decoder_input_train, maxlen=headlines_max_len, padding='post')\n",
    "decoder_target_train = pad_sequences(decoder_target_train, maxlen=headlines_max_len, padding='post')\n",
    "decoder_input_test = pad_sequences(decoder_input_test, maxlen=headlines_max_len, padding='post')\n",
    "decoder_target_test = pad_sequences(decoder_target_test, maxlen=headlines_max_len, padding='post')\n",
    "print('hi')"
   ]
  },
  {
   "cell_type": "markdown",
   "id": "82de60fa",
   "metadata": {},
   "source": [
    "### 모델 설계하기"
   ]
  },
  {
   "cell_type": "code",
   "execution_count": 36,
   "id": "01dee018",
   "metadata": {},
   "outputs": [
    {
     "name": "stdout",
     "output_type": "stream",
     "text": [
      "WARNING:tensorflow:Layer lstm will not use cuDNN kernels since it doesn't meet the criteria. It will use a generic GPU kernel as fallback when running on GPU.\n",
      "WARNING:tensorflow:Layer lstm_1 will not use cuDNN kernels since it doesn't meet the criteria. It will use a generic GPU kernel as fallback when running on GPU.\n",
      "WARNING:tensorflow:Layer lstm_2 will not use cuDNN kernels since it doesn't meet the criteria. It will use a generic GPU kernel as fallback when running on GPU.\n"
     ]
    }
   ],
   "source": [
    "from tensorflow.keras.layers import Input, LSTM, Embedding, Dense, Concatenate, TimeDistributed\n",
    "from tensorflow.keras.models import Model\n",
    "from tensorflow.keras.callbacks import EarlyStopping, ModelCheckpoint\n",
    "\n",
    "\n",
    "# 인코더 설계 시작\n",
    "embedding_dim = 128\n",
    "hidden_size = 256\n",
    "\n",
    "# 인코더\n",
    "encoder_inputs = Input(shape=(text_max_len,))\n",
    "\n",
    "# 인코더의 임베딩 층\n",
    "enc_emb = Embedding(src_vocab, embedding_dim)(encoder_inputs)\n",
    "\n",
    "# 인코더의 LSTM 1\n",
    "encoder_lstm1 = LSTM(hidden_size, return_sequences=True, return_state=True ,dropout = 0.4, recurrent_dropout = 0.4)\n",
    "encoder_output1, state_h1, state_c1 = encoder_lstm1(enc_emb)\n",
    "\n",
    "# 인코더의 LSTM 2\n",
    "encoder_lstm2 = LSTM(hidden_size, return_sequences=True, return_state=True, dropout=0.4, recurrent_dropout=0.4)\n",
    "encoder_output2, state_h2, state_c2 = encoder_lstm2(encoder_output1)\n",
    "\n",
    "# 인코더의 LSTM 3\n",
    "encoder_lstm3 = LSTM(hidden_size, return_state=True, return_sequences=True, dropout=0.4, recurrent_dropout=0.4)\n",
    "encoder_outputs, state_h, state_c= encoder_lstm3(encoder_output2)\n",
    "\n",
    "\n",
    "#recurrent dropout:time step의 입력을 랜덤으로 생략해 줌\n",
    "#Variational Dropout : dropout과 recurrent dropout을 모두 사용"
   ]
  },
  {
   "cell_type": "code",
   "execution_count": 37,
   "id": "21fb39a8",
   "metadata": {},
   "outputs": [
    {
     "name": "stdout",
     "output_type": "stream",
     "text": [
      "WARNING:tensorflow:Layer lstm_3 will not use cuDNN kernels since it doesn't meet the criteria. It will use a generic GPU kernel as fallback when running on GPU.\n"
     ]
    }
   ],
   "source": [
    "# 디코더 설계\n",
    "decoder_inputs = Input(shape=(None,))\n",
    "\n",
    "# 디코더의 임베딩 층\n",
    "dec_emb_layer = Embedding(tar_vocab, embedding_dim)\n",
    "dec_emb = dec_emb_layer(decoder_inputs)\n",
    "\n",
    "# 디코더의 LSTM\n",
    "decoder_lstm = LSTM(hidden_size, return_sequences=True, return_state=True, dropout=0.4, recurrent_dropout=0.2)\n",
    "decoder_outputs, _, _ = decoder_lstm(dec_emb, initial_state=[state_h, state_c])"
   ]
  },
  {
   "cell_type": "code",
   "execution_count": 39,
   "id": "edc7ba06",
   "metadata": {},
   "outputs": [
    {
     "name": "stdout",
     "output_type": "stream",
     "text": [
      "Model: \"model\"\n",
      "__________________________________________________________________________________________________\n",
      "Layer (type)                    Output Shape         Param #     Connected to                     \n",
      "==================================================================================================\n",
      "input_1 (InputLayer)            [(None, 38)]         0                                            \n",
      "__________________________________________________________________________________________________\n",
      "embedding (Embedding)           (None, 38, 128)      1024000     input_1[0][0]                    \n",
      "__________________________________________________________________________________________________\n",
      "lstm (LSTM)                     [(None, 38, 256), (N 394240      embedding[0][0]                  \n",
      "__________________________________________________________________________________________________\n",
      "input_2 (InputLayer)            [(None, None)]       0                                            \n",
      "__________________________________________________________________________________________________\n",
      "lstm_1 (LSTM)                   [(None, 38, 256), (N 525312      lstm[0][0]                       \n",
      "__________________________________________________________________________________________________\n",
      "embedding_1 (Embedding)         (None, None, 128)    512000      input_2[0][0]                    \n",
      "__________________________________________________________________________________________________\n",
      "lstm_2 (LSTM)                   [(None, 38, 256), (N 525312      lstm_1[0][0]                     \n",
      "__________________________________________________________________________________________________\n",
      "lstm_3 (LSTM)                   [(None, None, 256),  394240      embedding_1[0][0]                \n",
      "                                                                 lstm_2[0][1]                     \n",
      "                                                                 lstm_2[0][2]                     \n",
      "__________________________________________________________________________________________________\n",
      "attention_layer (AdditiveAttent (None, None, 256)    256         lstm_3[0][0]                     \n",
      "                                                                 lstm_2[0][0]                     \n",
      "__________________________________________________________________________________________________\n",
      "concat_layer (Concatenate)      (None, None, 512)    0           lstm_3[0][0]                     \n",
      "                                                                 attention_layer[0][0]            \n",
      "__________________________________________________________________________________________________\n",
      "dense (Dense)                   (None, None, 4000)   2052000     concat_layer[0][0]               \n",
      "==================================================================================================\n",
      "Total params: 5,427,360\n",
      "Trainable params: 5,427,360\n",
      "Non-trainable params: 0\n",
      "__________________________________________________________________________________________________\n"
     ]
    }
   ],
   "source": [
    "from tensorflow.keras.layers import AdditiveAttention\n",
    "\n",
    "# 어텐션 층(어텐션 함수)\n",
    "attn_layer = AdditiveAttention(name='attention_layer')\n",
    "\n",
    "# 인코더와 디코더의 모든 time step의 hidden state를 어텐션 층에 전달하고 결과를 리턴\n",
    "attn_out = attn_layer([decoder_outputs, encoder_outputs])\n",
    "\n",
    "\n",
    "# 어텐션의 결과와 디코더의 hidden state들을 연결\n",
    "decoder_concat_input = Concatenate(axis=-1, name='concat_layer')([decoder_outputs, attn_out])\n",
    "\n",
    "# 디코더의 출력층\n",
    "decoder_softmax_layer = Dense(tar_vocab, activation='softmax')\n",
    "decoder_softmax_outputs = decoder_softmax_layer(decoder_concat_input)\n",
    "\n",
    "# 모델 정의\n",
    "model = Model([encoder_inputs, decoder_inputs], decoder_softmax_outputs)\n",
    "model.summary()\n",
    "\n",
    "#인코더의 hidden state들과 디코더의 hidden state들을 어텐션 함수의 입력으로 사용하고, \n",
    "#어텐션 함수가 리턴한 값을 예측 시에 디코더의 hidden state와 함께 활용하는 형태로 작동"
   ]
  },
  {
   "cell_type": "code",
   "execution_count": 40,
   "id": "5f4fa823",
   "metadata": {},
   "outputs": [
    {
     "name": "stdout",
     "output_type": "stream",
     "text": [
      "Epoch 1/50\n",
      "205/205 [==============================] - 120s 506ms/step - loss: 5.4449 - val_loss: 5.0990\n",
      "Epoch 2/50\n",
      "205/205 [==============================] - 102s 496ms/step - loss: 4.9844 - val_loss: 4.8858\n",
      "Epoch 3/50\n",
      "205/205 [==============================] - 102s 497ms/step - loss: 4.7213 - val_loss: 4.6231\n",
      "Epoch 4/50\n",
      "205/205 [==============================] - 102s 497ms/step - loss: 4.4448 - val_loss: 4.3753\n",
      "Epoch 5/50\n",
      "205/205 [==============================] - 102s 497ms/step - loss: 4.2210 - val_loss: 4.2608\n",
      "Epoch 6/50\n",
      "205/205 [==============================] - 104s 509ms/step - loss: 4.0466 - val_loss: 4.1205\n",
      "Epoch 7/50\n",
      "205/205 [==============================] - 111s 541ms/step - loss: 3.8967 - val_loss: 4.0193\n",
      "Epoch 8/50\n",
      "205/205 [==============================] - 111s 540ms/step - loss: 3.7650 - val_loss: 3.9353\n",
      "Epoch 9/50\n",
      "205/205 [==============================] - 110s 535ms/step - loss: 3.6481 - val_loss: 3.8644\n",
      "Epoch 10/50\n",
      "205/205 [==============================] - 112s 547ms/step - loss: 3.5443 - val_loss: 3.8216\n",
      "Epoch 11/50\n",
      "205/205 [==============================] - 108s 527ms/step - loss: 3.4501 - val_loss: 3.7629\n",
      "Epoch 12/50\n",
      "205/205 [==============================] - 105s 511ms/step - loss: 3.3631 - val_loss: 3.7289\n",
      "Epoch 13/50\n",
      "205/205 [==============================] - 105s 512ms/step - loss: 3.2828 - val_loss: 3.7010\n",
      "Epoch 14/50\n",
      "205/205 [==============================] - 104s 508ms/step - loss: 3.2107 - val_loss: 3.6593\n",
      "Epoch 15/50\n",
      "205/205 [==============================] - 104s 507ms/step - loss: 3.1416 - val_loss: 3.6392\n",
      "Epoch 16/50\n",
      "205/205 [==============================] - 104s 509ms/step - loss: 3.0784 - val_loss: 3.6270\n",
      "Epoch 17/50\n",
      "205/205 [==============================] - 104s 505ms/step - loss: 3.0196 - val_loss: 3.6113\n",
      "Epoch 18/50\n",
      "205/205 [==============================] - 103s 504ms/step - loss: 2.9644 - val_loss: 3.5967\n",
      "Epoch 19/50\n",
      "205/205 [==============================] - 104s 506ms/step - loss: 2.9108 - val_loss: 3.5883\n",
      "Epoch 20/50\n",
      "205/205 [==============================] - 104s 507ms/step - loss: 2.8607 - val_loss: 3.5766\n",
      "Epoch 21/50\n",
      "205/205 [==============================] - 104s 507ms/step - loss: 2.8142 - val_loss: 3.5790\n",
      "Epoch 22/50\n",
      "205/205 [==============================] - 104s 505ms/step - loss: 2.7713 - val_loss: 3.5769\n",
      "Epoch 00022: early stopping\n"
     ]
    }
   ],
   "source": [
    "model.compile(optimizer='rmsprop', loss='sparse_categorical_crossentropy')\n",
    "es = EarlyStopping(monitor='val_loss', patience=2, verbose=1)\n",
    "history = model.fit(x=[encoder_input_train, decoder_input_train], y=decoder_target_train, \\\n",
    "          validation_data=([encoder_input_test, decoder_input_test], decoder_target_test), \\\n",
    "          batch_size=256, callbacks=[es], epochs=50)"
   ]
  },
  {
   "cell_type": "code",
   "execution_count": 41,
   "id": "141b49cb",
   "metadata": {},
   "outputs": [
    {
     "data": {
      "image/png": "[encoded data removed]",
      "text/plain": [
       "<Figure size 432x288 with 1 Axes>"
      ]
     },
     "metadata": {
      "needs_background": "light"
     },
     "output_type": "display_data"
    }
   ],
   "source": [
    "plt.plot(history.history['loss'], label='train')\n",
    "plt.plot(history.history['val_loss'], label='test')\n",
    "plt.legend()\n",
    "plt.show()"
   ]
  },
  {
   "cell_type": "code",
   "execution_count": 42,
   "id": "6d2d37f3",
   "metadata": {},
   "outputs": [],
   "source": [
    "src_index_to_word = src_tokenizer.index_word # 원문 단어 집합에서 정수 -> 단어를 얻음\n",
    "tar_word_to_index = tar_tokenizer.word_index # 요약 단어 집합에서 단어 -> 정수를 얻음\n",
    "tar_index_to_word = tar_tokenizer.index_word # 요약 단어 집합에서 정수 -> 단어를 얻음\n"
   ]
  },
  {
   "cell_type": "code",
   "execution_count": 43,
   "id": "1d7a5171",
   "metadata": {},
   "outputs": [],
   "source": [
    "# 인코더 설계\n",
    "encoder_model = Model(inputs=encoder_inputs, outputs=[encoder_outputs, state_h, state_c])\n",
    "\n",
    "# 이전 시점의 상태들을 저장하는 텐서\n",
    "decoder_state_input_h = Input(shape=(hidden_size,))\n",
    "decoder_state_input_c = Input(shape=(hidden_size,))\n",
    "\n",
    "dec_emb2 = dec_emb_layer(decoder_inputs)\n",
    "\n",
    "# 문장의 다음 단어를 예측하기 위해서 초기 상태(initial_state)를 이전 시점의 상태로 사용. 이는 뒤의 함수 decode_sequence()에 구현\n",
    "# 훈련 과정에서와 달리 LSTM의 리턴하는 은닉 상태와 셀 상태인 state_h와 state_c를 버리지 않음.\n",
    "\n",
    "decoder_outputs2, state_h2, state_c2 = decoder_lstm(dec_emb2, initial_state=[decoder_state_input_h, decoder_state_input_c])\n"
   ]
  },
  {
   "cell_type": "code",
   "execution_count": 44,
   "id": "16f1b843",
   "metadata": {},
   "outputs": [
    {
     "name": "stdout",
     "output_type": "stream",
     "text": [
      "=3\n"
     ]
    }
   ],
   "source": [
    "# 어텐션 함수\n",
    "decoder_hidden_state_input = Input(shape=(text_max_len, hidden_size))\n",
    "attn_out_inf = attn_layer([decoder_outputs2, decoder_hidden_state_input])\n",
    "decoder_inf_concat = Concatenate(axis=-1, name='concat')([decoder_outputs2, attn_out_inf])\n",
    "\n",
    "# 디코더의 출력층\n",
    "decoder_outputs2 = decoder_softmax_layer(decoder_inf_concat) \n",
    "\n",
    "# 최종 디코더 모델\n",
    "decoder_model = Model(\n",
    "    [decoder_inputs] + [decoder_hidden_state_input,decoder_state_input_h, decoder_state_input_c],\n",
    "    [decoder_outputs2] + [state_h2, state_c2])\n",
    "\n",
    "print('=3')"
   ]
  },
  {
   "cell_type": "code",
   "execution_count": 45,
   "id": "230d304c",
   "metadata": {},
   "outputs": [
    {
     "name": "stdout",
     "output_type": "stream",
     "text": [
      "=3\n"
     ]
    }
   ],
   "source": [
    "def decode_sequence(input_seq):\n",
    "    # 입력으로부터 인코더의 상태를 얻음\n",
    "    e_out, e_h, e_c = encoder_model.predict(input_seq)\n",
    "\n",
    "     # <SOS>에 해당하는 토큰 생성\n",
    "    target_seq = np.zeros((1,1))\n",
    "    target_seq[0, 0] = tar_word_to_index['sostoken']\n",
    "\n",
    "    stop_condition = False\n",
    "    decoded_sentence = ''\n",
    "    while not stop_condition: # stop_condition이 True가 될 때까지 루프 반복\n",
    "\n",
    "        output_tokens, h, c = decoder_model.predict([target_seq] + [e_out, e_h, e_c])\n",
    "        sampled_token_index = np.argmax(output_tokens[0, -1, :])\n",
    "        sampled_token = tar_index_to_word[sampled_token_index]\n",
    "\n",
    "        if (sampled_token!='eostoken'):\n",
    "            decoded_sentence += ' '+sampled_token\n",
    "\n",
    "        #  <eos>에 도달하거나 최대 길이를 넘으면 중단.\n",
    "        if (sampled_token == 'eostoken'  or len(decoded_sentence.split()) >= (headlines_max_len-1)):\n",
    "            stop_condition = True\n",
    "\n",
    "        # 길이가 1인 타겟 시퀀스를 업데이트\n",
    "        target_seq = np.zeros((1,1))\n",
    "        target_seq[0, 0] = sampled_token_index\n",
    "\n",
    "        # 상태를 업데이트 합니다.\n",
    "        e_h, e_c = h, c\n",
    "\n",
    "    return decoded_sentence\n",
    "print('=3')"
   ]
  },
  {
   "cell_type": "code",
   "execution_count": 46,
   "id": "10ad43a8",
   "metadata": {},
   "outputs": [
    {
     "name": "stdout",
     "output_type": "stream",
     "text": [
      "=3\n"
     ]
    }
   ],
   "source": [
    "# 원문의 정수 시퀀스를 텍스트 시퀀스로 변환\n",
    "def seq2text(input_seq):\n",
    "    temp=''\n",
    "    for i in input_seq:\n",
    "        if (i!=0):\n",
    "            temp = temp + src_index_to_word[i]+' '\n",
    "    return temp\n",
    "\n",
    "# 요약문의 정수 시퀀스를 텍스트 시퀀스로 변환\n",
    "def seq2summary(input_seq):\n",
    "    temp=''\n",
    "    for i in input_seq:\n",
    "        if ((i!=0 and i!=tar_word_to_index['sostoken']) and i!=tar_word_to_index['eostoken']):\n",
    "            temp = temp + tar_index_to_word[i] + ' '\n",
    "    return temp\n",
    "\n",
    "print('=3')"
   ]
  },
  {
   "cell_type": "code",
   "execution_count": 47,
   "id": "feaa2cb8",
   "metadata": {},
   "outputs": [
    {
     "name": "stdout",
     "output_type": "stream",
     "text": [
      "원문 : carried flag rio olympics qualified winter olympics cross country never last year fought rio olympics drove two hours arctic circle reach final race attempt iceland \n",
      "실제 요약 : rio flag for winter olympics \n",
      "예측 요약 :  tiger olympics to be held for olympics\n",
      "\n",
      "\n",
      "원문 : smartphone company revenue dropped million lowest date per reports notably earned higher revenue may earlier company laid workers taiwan completed sale part business google billion \n",
      "실제 요약 : revenue drops to million in \n",
      "예측 요약 :  paytm founder raises crore in revenue\n",
      "\n",
      "\n",
      "원문 : abbas pakistani bowler tried petrol first class match lahore complaining constantly abbas warned plea goes pakistan cricket board would set fire entrance lahore stadium \n",
      "실제 요약 : pak pacer tries to self during match over \n",
      "예측 요약 :  pak pak captain pulls off field to\n",
      "\n",
      "\n",
      "원문 : accused journalist gauri lankesh murder case alleged special investigation team offered lakh lakh committed crime know gauri lankesh police claim accused linked seeing accused first time arrest said \n",
      "실제 요약 : police offered to to gauri lankesh murder accused \n",
      "예측 요약 :  gauri lankesh murder accused in murder case\n",
      "\n",
      "\n",
      "원문 : bihar police claimed rats consumed alcohol seized state users tweeted trolled bihar police release cctv footage rats drinking alcohol various storage units indian equivalent dog ate another tweet said explanation heard hope none got party brawl \n",
      "실제 요약 : police to release footage of rats having liquor tweets user \n",
      "예측 요약 :  bihar police booked for violating liquor racket in mumbai\n",
      "\n",
      "\n",
      "원문 : hyderabad police officer drove eight exam centre bus broke officer said offered students ride saw crying adding government vehicle mine serving public duty photo incident gone viral \n",
      "실제 요약 : hyderabad cop drops stranded to exam centre \n",
      "예측 요약 :  police school school bus to wear\n",
      "\n",
      "\n",
      "원문 : argentina based holdings largest operator mcdonald restaurants world seen shares gain past year mcdonald gained currently operates restaurants america notably company investing million open new restaurants update existing ones \n",
      "실제 요약 : shares of mcdonald biggest surge in year \n",
      "예측 요약 :  world largest startups is the best company\n",
      "\n",
      "\n",
      "원문 : south africa captain took instagram share picture kissing pacer match get become number fast bowler world massive kiss wrote commenting picture pacer wrote girlfriend complaining \n",
      "실제 요약 : sa captain posts pic kissing after pacer becomes no \n",
      "예측 요약 :  shares video of anderson\n",
      "\n",
      "\n",
      "원문 : us president donald trump administration said cutting us funding united nations agency health accusing supporting population control china including abortion un fund lose million funding budget funds shifted similar us agency international development \n",
      "실제 요약 : us cuts un agency funds over abortion \n",
      "예측 요약 :  trump threatens to us trade war report\n",
      "\n",
      "\n",
      "원문 : uttar pradesh government decided upload answer sheets class board online making first board make answer sheets public step ensure transparency remove evaluation process said deputy cm dinesh sharma also secondary education minister state \n",
      "실제 요약 : up board first to make answer of public \n",
      "예측 요약 :  up govt to appear for class in\n",
      "\n",
      "\n",
      "원문 : two helicopters vijay mallya airlines auctioned crore wednesday new delhi based choudhary aviation facilities bought helicopters auction conducted debt recovery tribunal bengaluru want make use commercial activity including chartered service year old firm said \n",
      "실제 요약 : of airlines auctioned for cr \n",
      "예측 요약 :  air india spicejet spicejet earns cr in mumbai\n",
      "\n",
      "\n",
      "원문 : florida based boy times seconds set world record minute guinness world records confirmed boy named seven nine years old time attempt guinness added seven surpassed previous record set bishop \n",
      "실제 요약 : yr old boy times in minute sets world record \n",
      "예측 요약 :  year old man breaks record by in\n",
      "\n",
      "\n",
      "원문 : instagram launched app feature allow users apply blue verification access feature users tap menu icon profile select bottom choose request verification instagram co founder mike said verification scheme would important way root fake accounts \n",
      "실제 요약 : instagram launches in app blue for users \n",
      "예측 요약 :  instagram tests feature to let users for users\n",
      "\n",
      "\n",
      "원문 : us based scientists developed system production mini organs human cells setting experiment magnitude would take researcher day robot minutes said scientist researchers discovered expand number blood vessel cells faster drug testing \n",
      "실제 요약 : robots to grow faster than researchers \n",
      "예측 요약 :  scientists develop new of\n",
      "\n",
      "\n",
      "원문 : supreme court directed home ministry secure ensure presence vijay mallya currently united kingdom july comes apex court held liquor baron guilty contempt court court orders full assets \n",
      "실제 요약 : centre asked to mallya in sc on july \n",
      "예측 요약 :  sc to centre to mallya in\n",
      "\n",
      "\n",
      "원문 : cab hailing startup uber license suspended barring startup operating city december city local council said license suspended following uber failure respond requests management however uber said informed council name change license october \n",
      "실제 요약 : uber barred from in another city in uk \n",
      "예측 요약 :  uber drivers drivers in uber for riders\n",
      "\n",
      "\n",
      "원문 : order treat solid waste point generation greater noida authority announced plans make waste multiple locations across city tonnes municipal waste generated daily greater noida presently dumped vacant areas due absence site reports said \n",
      "실제 요약 : greater noida to make across multiple \n",
      "예측 요약 :  gurugram to fine for waste in mumbai\n",
      "\n",
      "\n",
      "원문 : madrid former footballer left teammate hospital treatment nose injury fight reportedly broke players training chinese super league club joined madrid february said offered injured teammate compensation \n",
      "실제 요약 : ex madrid player breaks chinese teammate nose \n",
      "예측 요약 :  ronaldo falls off after injury after hitting him\n",
      "\n",
      "\n",
      "원문 : shah rukh khan wife gauri khan recently debuted fortune india powerful women list sharing gauri tweet posted pictures fortune india powerful women business event shah rukh wrote family list powerful gauri designed room mukesh ambani \n",
      "실제 요약 : gauri among fortune india most powerful women in business \n",
      "예측 요약 :  srk thanks for srk gauri gauri\n",
      "\n",
      "\n",
      "원문 : veteran actress said highly kangana ranaut performance film manikarnika queen jhansi looks absolutely beautiful really happy proud actress added said kangana done really good job directing film well \n",
      "실제 요약 : by kangana in manikarnika \n",
      "예측 요약 :  kangana is not kangana on her\n",
      "\n",
      "\n",
      "원문 : four ex policemen convicted killings case surrendered delhi court last day turn thursday court issued non bailable warrants rest delhi high court awarded life sentence last month murdering around muslims uttar pradesh meerut communal riots \n",
      "실제 요약 : only of policemen convicted in killings \n",
      "예측 요약 :  nia arrests delhi police for not days in delhi\n",
      "\n",
      "\n",
      "원문 : university research suggests two gas undergo semi ordered mostly ordered phase transition presence magnetic field team used technique called grow material two layer near absolute zero \n",
      "실제 요약 : scientists to make ordered \n",
      "예측 요약 :  university to be used to\n",
      "\n",
      "\n",
      "원문 : comedian sunil grover confirmed featuring actor salman khan starrer bharat replying film director ali abbas zafar tweet confirming casting film grover said thank sir giving visa proud part project reportedly play salman friend film \n",
      "실제 요약 : proud of being part of the movie bharat sunil grover \n",
      "예측 요약 :  to star in salman khan film reports\n",
      "\n",
      "\n",
      "원문 : two suspected islamist militants stabbed police officer death indonesian city sunday latest assault targeting officials world muslim country attackers fence police post shouted akbar officer police said nnn \n",
      "실제 요약 : akbar before killing indonesian cop \n",
      "예측 요약 :  police officer killed in belgium for\n",
      "\n",
      "\n",
      "원문 : japan public apologised cartoon hitler face printed shirt worn talk show guest black shirt worn entrepreneur also carried war message one side peace symbol responding tweet said meant anti war message \n",
      "실제 요약 : japan apologises over talk show guest hitler shirt \n",
      "예측 요약 :  japanese apologises for racist photo\n",
      "\n",
      "\n",
      "원문 : virgin group founder billionaire richard branson recent blog post said way work going change idea working five days week two day always case future branson added said could people eventually take three even four day certainly \n",
      "실제 요약 : the work day day work week will end \n"
     ]
    },
    {
     "name": "stdout",
     "output_type": "stream",
     "text": [
      "예측 요약 :  people know people to change in future\n",
      "\n",
      "\n",
      "원문 : government monday said ndtv trying media general public indulging blame game government said income tax department penalty crore tax ndtv false comes ndtv published statement titled income tax department lies ndtv press \n",
      "실제 요약 : misleading media public over crore penalty govt \n",
      "예측 요약 :  govt tax tax tax on tax scam\n",
      "\n",
      "\n",
      "원문 : lawyers ahmed gupta acquittal murder case defending dera sacha sauda chief ram rahim mass case ram rahim serving year sentence convicted rape also stands accused forcibly followers \n",
      "실제 요약 : lawyers to defend ram rahim in mass case \n",
      "예측 요약 :  ram rahim rape case against ram rahim\n",
      "\n",
      "\n",
      "원문 : sharing picture ranbir kapoor mukerji alia bhatt captioned means rest days picture ranbir seen holding balloons hands alia seen looking ranbir talking alia ranbir currently shooting \n",
      "실제 요약 : alia bhatt shares pic with ranbir and \n",
      "예측 요약 :  ranbir is not ranbir on ranbir\n",
      "\n",
      "\n",
      "원문 : cast first vote independent india thursday voted polling station himachal pradesh assembly elections year old reportedly never missed opportunity vote polling officer booth feels votes son said \n",
      "실제 요약 : india first voter vote in himachal pradesh polls \n",
      "예측 요약 :  india st voter election in india\n",
      "\n",
      "\n",
      "원문 : report monday stated nine richest indians wealth equivalent people country richest national wealth bottom merely report said india billionaires wealth higher union budget added \n",
      "실제 요약 : richest indians own wealth equal to nation \n",
      "예측 요약 :  india is the of the world\n",
      "\n",
      "\n",
      "원문 : video queen guard pushing woman blocking march castle surfaced online woman beyond rope barrier heard pushed guards usually make way queen guard member public carrying duties \n",
      "실제 요약 : video queen guard woman his march \n",
      "예측 요약 :  couple with baby in us\n",
      "\n",
      "\n",
      "원문 : actor playing character lord ram rajasthan town dussehra termed bjp president refused shoot burn king actual sitting stage every issue given lord ram return disappointed actor said \n",
      "실제 요약 : actor playing lord ram calls bjp leader \n",
      "예측 요약 :  bjp leader compares to bjp leader\n",
      "\n",
      "\n",
      "원문 : digital currency bitcoin rally surpassed first time history friday bitcoin gained billion market capitalisation since monday reach billion course past months value bitcoin risen \n",
      "실제 요약 : bitcoin hits record high adds crore in week \n",
      "예측 요약 :  bitcoin crosses the first time in years\n",
      "\n",
      "\n",
      "원문 : plea filed supreme court monday rao appointment interim director cbi claim lack transparency appointment cbi director public scrutiny appointment process said rao appointment illegal \n",
      "실제 요약 : rao appointment as interim cbi director challenged in sc \n",
      "예측 요약 :  sc dismisses plea to be appointed in\n",
      "\n",
      "\n",
      "원문 : french defender benjamin long range goal argentina round voted goal fifa world cup become first european player win goal tournament award since creation portugal captain cristiano ronaldo free kick spain came fourth voting \n",
      "실제 요약 : strike goal of wc ronaldo free kick th best \n",
      "예측 요약 :  messi goal from goal after goal in france\n",
      "\n",
      "\n",
      "원문 : jharkhand wednesday celebrated th day birth anniversary freedom fighter state southern bihar several years agitation tribal people region first chief minister state bjp leader whereas first governor kumar \n",
      "실제 요약 : jharkhand celebrates its th day \n",
      "예측 요약 :  up to st first ever gold in years\n",
      "\n",
      "\n",
      "원문 : denied home cooked food cbi custody chidambaram son karti chidambaram asked investigating officer get zomato hope investigating officer zomato planning make full use karti told cbi karti thursday sent five days cbi custody media case \n",
      "실제 요약 : karti chidambaram demands zomato food in cbi custody \n",
      "예측 요약 :  cbi files defamation case against ex cm in case\n",
      "\n",
      "\n",
      "원문 : pad man director said natural phenomenon growing beard adding natural process nothing hide added moment call adult whole purpose defeated said pad man children film must watched families \n",
      "실제 요약 : as as growing pad man director \n",
      "예측 요약 :  was to change to be\n",
      "\n",
      "\n",
      "원문 : producer accused actor alok nath raping almost years ago said feeling feeling scared deny even written added said ashamed anything feel ashamed \n",
      "실제 요약 : am scared on alleged rape \n",
      "예측 요약 :  rape victim lawyer of rape accused in actress\n",
      "\n",
      "\n",
      "원문 : speaking indian fifa world cup prime minister narendra modi said fact india could win title young players india hearts everyone pm modi also praised indian hockey team winning hockey asia cup tournament gap ten years \n",
      "실제 요약 : young indian won everyone pm modi \n",
      "예측 요약 :  india best for world best in champions trophy\n",
      "\n",
      "\n",
      "원문 : least four people killed nine injured sugar factory bihar district exploded wednesday police arrested owner factory even though reason behind blast yet ascertained injured admitted civil hospital said critical condition \n",
      "실제 요약 : blast in bihar kills owner arrested \n",
      "예측 요약 :  killed injured in car blast in west bengal\n",
      "\n",
      "\n",
      "원문 : football legend year old son scored directly goal top left corner corner kick win younger currently playing club football previously spent season half italian club league \n",
      "실제 요약 : football legend son scores from \n",
      "예측 요약 :  footballer takes goal in his th goal in\n",
      "\n",
      "\n",
      "원문 : hearing kerala love jihad case supreme court observed national investigation agency probe cannot bearing marriage jahan adding could look marital status said married choice court said right decide choices nn \n",
      "실제 요약 : nia cannot probe marriage sc on love jihad case \n",
      "예측 요약 :  sc rejects plea to sc verdict on special status\n",
      "\n",
      "\n",
      "원문 : many returned france war zones iraq syria france interior minister said growing number returning fighters threat terrorist attacks france remains high added minister revealed estimated french militants fought islamic state ranks iraq syria \n",
      "실제 요약 : terror threat very high as is fighters return french min \n",
      "예측 요약 :  isis in syria in iraq\n",
      "\n",
      "\n",
      "원문 : croatia state tv channel claimed former director shot injured per reports shot leg taken hospital monday attending memorial father near two people fired nearby forest \n",
      "실제 요약 : football club former director injured in \n",
      "예측 요약 :  tv show tv show dies after being hit\n",
      "\n",
      "\n",
      "원문 : pune based baby care startup reportedly talks japanese conglomerate softbank raise least million funding potential investment expected value nearly million founded startup online platform offers range baby care products \n",
      "실제 요약 : pune startup in talks to raise mn from softbank \n",
      "예측 요약 :  woman gets mn from softbank delivery startup\n",
      "\n",
      "\n",
      "원문 : freedom fighter bhagat singh born september participated mahatma gandhi non cooperation movement age burnt books hanged march along much trial killing british police officer \n",
      "실제 요약 : bhagat singh was born years ago on this day \n",
      "예측 요약 :  mahatma gandhi in delhi\n",
      "\n",
      "\n",
      "원문 : former india captain ms dhoni said chennai super kings aim buy ravichandran ashwin ipl auction local boy dhoni said wants local players chennai super kings team ravindra jadeja suresh raina retained apart dhoni \n",
      "실제 요약 : chennai super will bid for local boy ashwin dhoni \n",
      "예측 요약 :  dhoni for ipl final for the\n",
      "\n",
      "\n",
      "원문 : bharti airtel moved advertising standards council india alleging reliance jio made false misleading claims latest advertisement airtel argued claims made without independent third party data back watchdog upheld airtel complaint saying jio claims misleading \n",
      "실제 요약 : airtel accuses reliance jio of making false claims in ad \n",
      "예측 요약 :  airtel to airtel board board to trai\n",
      "\n",
      "\n"
     ]
    }
   ],
   "source": [
    "for i in range(50, 100):\n",
    "    print(\"원문 :\", seq2text(encoder_input_test[i]))\n",
    "    print(\"실제 요약 :\", seq2summary(decoder_input_test[i]))\n",
    "    print(\"예측 요약 :\", decode_sequence(encoder_input_test[i].reshape(1, text_max_len)))\n",
    "    print(\"\\n\")"
   ]
  },
  {
   "cell_type": "markdown",
   "id": "117fa1ab",
   "metadata": {},
   "source": [
    "추출적 요약"
   ]
  },
  {
   "cell_type": "code",
   "execution_count": 48,
   "id": "4026fe76",
   "metadata": {},
   "outputs": [],
   "source": [
    "import requests\n",
    "from summa.summarizer import summarize\n"
   ]
  },
  {
   "cell_type": "code",
   "execution_count": 49,
   "id": "7da210df",
   "metadata": {},
   "outputs": [],
   "source": [
    "urllib.request.urlretrieve(\"https://raw.githubusercontent.com/sunnysai12345/News_Summary/master/news_summary_more.csv\", filename=\"news_summary_more.csv\")\n",
    "data = pd.read_csv('news_summary_more.csv', encoding='iso-8859-1')"
   ]
  },
  {
   "cell_type": "code",
   "execution_count": 50,
   "id": "2203cb8f",
   "metadata": {},
   "outputs": [
    {
     "data": {
      "text/html": [
       "<div>\n",
       "<style scoped>\n",
       "    .dataframe tbody tr th:only-of-type {\n",
       "        vertical-align: middle;\n",
       "    }\n",
       "\n",
       "    .dataframe tbody tr th {\n",
       "        vertical-align: top;\n",
       "    }\n",
       "\n",
       "    .dataframe thead th {\n",
       "        text-align: right;\n",
       "    }\n",
       "</style>\n",
       "<table border=\"1\" class=\"dataframe\">\n",
       "  <thead>\n",
       "    <tr style=\"text-align: right;\">\n",
       "      <th></th>\n",
       "      <th>headlines</th>\n",
       "      <th>text</th>\n",
       "    </tr>\n",
       "  </thead>\n",
       "  <tbody>\n",
       "    <tr>\n",
       "      <th>90098</th>\n",
       "      <td>Should have seen Google's promise but I blew i...</td>\n",
       "      <td>Billionaire Warren Buffett, while speaking at ...</td>\n",
       "    </tr>\n",
       "    <tr>\n",
       "      <th>77329</th>\n",
       "      <td>Indira Canteen construction stopped after prot...</td>\n",
       "      <td>After the locals protested against the demolit...</td>\n",
       "    </tr>\n",
       "    <tr>\n",
       "      <th>87453</th>\n",
       "      <td>Woman claims iPhone saved her life in UK terro...</td>\n",
       "      <td>A British woman has claimed that her iPhone sa...</td>\n",
       "    </tr>\n",
       "    <tr>\n",
       "      <th>14382</th>\n",
       "      <td>Pak PM promises law for whistleblowers reporti...</td>\n",
       "      <td>Pakistani Prime Minister Imran Khan has promis...</td>\n",
       "    </tr>\n",
       "    <tr>\n",
       "      <th>35924</th>\n",
       "      <td>FIR ordered against Amazon for selling 'nude w...</td>\n",
       "      <td>A Delhi court has ordered an FIR against Amazo...</td>\n",
       "    </tr>\n",
       "    <tr>\n",
       "      <th>1325</th>\n",
       "      <td>On screen, I love celebrating my flaws: Bhumi ...</td>\n",
       "      <td>Actress Bhumi Pednekar, while talking about th...</td>\n",
       "    </tr>\n",
       "    <tr>\n",
       "      <th>5937</th>\n",
       "      <td>Vine Co-founder Colin Kroll dies aged 35 of ap...</td>\n",
       "      <td>Colin Kroll, the Co-founder of HQ Trivia and V...</td>\n",
       "    </tr>\n",
       "    <tr>\n",
       "      <th>97212</th>\n",
       "      <td>Madhya Pradesh assembly adjourned over Geograp...</td>\n",
       "      <td>Madhya Pradesh assembly was adjourned for the ...</td>\n",
       "    </tr>\n",
       "    <tr>\n",
       "      <th>53795</th>\n",
       "      <td>Dutt biopic can take my acting career in new d...</td>\n",
       "      <td>Speaking about the upcoming biopic on Sanjay D...</td>\n",
       "    </tr>\n",
       "    <tr>\n",
       "      <th>12966</th>\n",
       "      <td>Uber testing an on-demand staffing service: Re...</td>\n",
       "      <td>US-based ride-hailing startup Uber is testing ...</td>\n",
       "    </tr>\n",
       "  </tbody>\n",
       "</table>\n",
       "</div>"
      ],
      "text/plain": [
       "                                               headlines  \\\n",
       "90098  Should have seen Google's promise but I blew i...   \n",
       "77329  Indira Canteen construction stopped after prot...   \n",
       "87453  Woman claims iPhone saved her life in UK terro...   \n",
       "14382  Pak PM promises law for whistleblowers reporti...   \n",
       "35924  FIR ordered against Amazon for selling 'nude w...   \n",
       "1325   On screen, I love celebrating my flaws: Bhumi ...   \n",
       "5937   Vine Co-founder Colin Kroll dies aged 35 of ap...   \n",
       "97212  Madhya Pradesh assembly adjourned over Geograp...   \n",
       "53795  Dutt biopic can take my acting career in new d...   \n",
       "12966  Uber testing an on-demand staffing service: Re...   \n",
       "\n",
       "                                                    text  \n",
       "90098  Billionaire Warren Buffett, while speaking at ...  \n",
       "77329  After the locals protested against the demolit...  \n",
       "87453  A British woman has claimed that her iPhone sa...  \n",
       "14382  Pakistani Prime Minister Imran Khan has promis...  \n",
       "35924  A Delhi court has ordered an FIR against Amazo...  \n",
       "1325   Actress Bhumi Pednekar, while talking about th...  \n",
       "5937   Colin Kroll, the Co-founder of HQ Trivia and V...  \n",
       "97212  Madhya Pradesh assembly was adjourned for the ...  \n",
       "53795  Speaking about the upcoming biopic on Sanjay D...  \n",
       "12966  US-based ride-hailing startup Uber is testing ...  "
      ]
     },
     "execution_count": 50,
     "metadata": {},
     "output_type": "execute_result"
    }
   ],
   "source": [
    "data.sample(10)"
   ]
  },
  {
   "cell_type": "code",
   "execution_count": 51,
   "id": "0c3c730e",
   "metadata": {},
   "outputs": [],
   "source": [
    "a = str(data['text'])"
   ]
  },
  {
   "cell_type": "code",
   "execution_count": 52,
   "id": "d3635c3e",
   "metadata": {},
   "outputs": [
    {
     "name": "stdout",
     "output_type": "stream",
     "text": [
      "Summary:\n",
      "0        Saurav Kant, an alumnus of upGrad and IIIT-B's...\n",
      "1        Kunal Shah's credit card bill payment platform...\n",
      "2        New Zealand defeated India by 8 wickets in the...\n",
      "98398    According to reports, a new version of the 199...\n",
      "98399    A new music video shows rapper Snoop Dogg aimi...\n"
     ]
    }
   ],
   "source": [
    "#원본의 0.5%으로 요약\n",
    "print('Summary:') \n",
    "print(summarize(a, ratio=0.5))"
   ]
  },
  {
   "cell_type": "code",
   "execution_count": 53,
   "id": "0e5d8148",
   "metadata": {},
   "outputs": [
    {
     "name": "stdout",
     "output_type": "stream",
     "text": [
      "Summary:\n",
      "[\"0        Saurav Kant, an alumnus of upGrad and IIIT-B's...\", \"1        Kunal Shah's credit card bill payment platform...\", '2        New Zealand defeated India by 8 wickets in the...', '98398    According to reports, a new version of the 199...', '98399    A new music video shows rapper Snoop Dogg aimi...']\n"
     ]
    }
   ],
   "source": [
    "#리스트 값으로 받기\n",
    "print('Summary:')\n",
    "print(summarize(a, ratio=0.5, split=True))"
   ]
  },
  {
   "cell_type": "code",
   "execution_count": 54,
   "id": "cd0e3b3a",
   "metadata": {},
   "outputs": [
    {
     "name": "stdout",
     "output_type": "stream",
     "text": [
      "Summary:\n",
      "2        New Zealand defeated India by 8 wickets in the...\n",
      "98398    According to reports, a new version of the 199...\n",
      "98399    A new music video shows rapper Snoop Dogg aimi...\n"
     ]
    }
   ],
   "source": [
    "#30글자로 제한하기\n",
    "\n",
    "print('Summary:')\n",
    "print(summarize(a, words=30))"
   ]
  },
  {
   "cell_type": "markdown",
   "id": "daca5e31",
   "metadata": {},
   "source": [
    "### 회고: \n",
    "seq2seq 인코더 디코더 모델을 공부하게 되어 재미있으면서도 어려웠다. 거기에서 더 나아가 어텐션 매커니즘 까지 나오니 바로 이해가 잘 되지 않아 여러번 읽어봐야했던.. 아직 더 공부를 해야할 것 같다. \n",
    "찾아보니 구글에서 all you need is attention 이라며 발표한 어텐션 메커니즘 모델을 기점으로 이제는 어텐션이 주로 쓰인다고 한다. Transformer와 BERT 라는 것도 알게되어 설명을 읽어보았다. 그러나 아직 잘 이해는 되지 않는다. \n",
    "기존에 sequential 구조의 모델을 많이 보다가 점점 복잡한 모델을 접하게 된다. \n",
    "\n",
    "추출적 요약을 위해 summa 의 summarize 를 사용하며 데이터 타입을 str로 변경하여 입력해주니 잘 진행되었다. \n",
    "\n",
    "\n",
    "    "
   ]
  },
  {
   "cell_type": "code",
   "execution_count": null,
   "id": "ace64bcf",
   "metadata": {},
   "outputs": [],
   "source": []
  }
 ],
 "metadata": {
  "kernelspec": {
   "display_name": "Python 3 (ipykernel)",
   "language": "python",
   "name": "python3"
  },
  "language_info": {
   "codemirror_mode": {
    "name": "ipython",
    "version": 3
   },
   "file_extension": ".py",
   "mimetype": "text/x-python",
   "name": "python",
   "nbconvert_exporter": "python",
   "pygments_lexer": "ipython3",
   "version": "3.9.7"
  }
 },
 "nbformat": 4,
 "nbformat_minor": 5
}

{
 "cells": [
  {
   "cell_type": "code",
   "execution_count": 119,
   "id": "520346dc",
   "metadata": {},
   "outputs": [],
   "source": [
    "import os, re\n",
    "import numpy as np\n",
    "import tensorflow as tf"
   ]
  },
  {
   "cell_type": "code",
   "execution_count": 120,
   "id": "cf4e40d5",
   "metadata": {},
   "outputs": [
    {
     "name": "stdout",
     "output_type": "stream",
     "text": [
      "데이터 크기: 187088\n",
      "Examples:\n",
      " [\"Now I've heard there was a secret chord\", 'That David played, and it pleased the Lord', \"But you don't really care for music, do you?\"]\n"
     ]
    }
   ],
   "source": [
    "import glob\n",
    "\n",
    "\n",
    "txt_file_path = os.getenv('HOME')+'/aiffel/lyricist/data/lyrics/*'\n",
    "\n",
    "txt_list = glob.glob(txt_file_path)\n",
    "\n",
    "raw_corpus = []\n",
    "\n",
    "# 여러개의 txt 파일을 모두 읽어서 raw_corpus 에 담습니다.\n",
    "for txt_file in txt_list:\n",
    "    with open(txt_file, \"r\") as f:\n",
    "        raw = f.read().splitlines()\n",
    "        raw_corpus.extend(raw)\n",
    "\n",
    "print(\"데이터 크기:\", len(raw_corpus))\n",
    "print(\"Examples:\\n\", raw_corpus[:3])"
   ]
  },
  {
   "cell_type": "code",
   "execution_count": 121,
   "id": "85b9f6cf",
   "metadata": {},
   "outputs": [],
   "source": [
    "def preprocess_sentence(sentence):\n",
    "    sentence = sentence.lower().strip() \n",
    "    sentence = re.sub(r\"([?.!,¿])\", r\" \\1 \", sentence) \n",
    "    sentence = re.sub(r'[\" \"]+', \" \", sentence) \n",
    "    sentence = re.sub(r\"[^a-zA-Z?.!,¿]+\", \" \", sentence) \n",
    "    sentence = sentence.strip() #문장 양끝 공백 제고\n",
    "    sentence = '<start> ' + sentence + ' <end>' #문장 양끝에 <start>와 <end> 추가\n",
    "    return sentence"
   ]
  },
  {
   "cell_type": "code",
   "execution_count": 122,
   "id": "ec850547",
   "metadata": {},
   "outputs": [
    {
     "data": {
      "text/plain": [
       "['<start> hallelujah <end>',\n",
       " '<start> hallelujah <end>',\n",
       " '<start> she tied you <end>',\n",
       " '<start> hallelujah <end>',\n",
       " '<start> hallelujah <end>',\n",
       " '<start> in every word <end>',\n",
       " '<start> hallelujah <end>',\n",
       " '<start> hallelujah <end>',\n",
       " '<start> and even though <end>']"
      ]
     },
     "execution_count": 122,
     "metadata": {},
     "output_type": "execute_result"
    }
   ],
   "source": [
    "corpus = []\n",
    "\n",
    "for sentence in raw_corpus:\n",
    "        \n",
    "    if len(sentence) == 0: continue\n",
    "    if sentence[-1] == \":\": continue\n",
    "    if len(sentence) > 15: continue #15개 이상 제외\n",
    "        \n",
    "        \n",
    "    preprocessed_sentence = preprocess_sentence(sentence)\n",
    "    corpus.append(preprocessed_sentence)\n",
    "corpus[:9]\n",
    "\n"
   ]
  },
  {
   "cell_type": "code",
   "execution_count": 123,
   "id": "144f5b54",
   "metadata": {},
   "outputs": [
    {
     "name": "stdout",
     "output_type": "stream",
     "text": [
      "[[  2 162   3 ...   0   0   0]\n",
      " [  2 162   3 ...   0   0   0]\n",
      " [  2  56 881 ...   0   0   0]\n",
      " ...\n",
      " [  2 216 554 ...   0   0   0]\n",
      " [  2  60  17 ...   0   0   0]\n",
      " [  2  36  21 ...   0   0   0]] <keras_preprocessing.text.Tokenizer object at 0x7fda703c0790>\n"
     ]
    }
   ],
   "source": [
    "\n",
    "def tokenize(corpus):\n",
    "    # 단어장크기 12000단어\n",
    "    tokenizer = tf.keras.preprocessing.text.Tokenizer(\n",
    "        num_words=12000, \n",
    "        filters=' ',\n",
    "        oov_token=\"<unk>\"# 포함되지 못한 단어는 '<unk>'로바꿈\n",
    "    )\n",
    "    # corpus를 이용해 tokenizer 내부의 단어장을 완성합니다\n",
    "    tokenizer.fit_on_texts(corpus)\n",
    "    # 준비한 tokenizer를 이용해 corpus를 Tensor로 변환합니다\n",
    "    tensor = tokenizer.texts_to_sequences(corpus)   \n",
    "    # 입력 데이터의 시퀀스 길이를 일정하게 맞춰줍니다\n",
    "    # 만약 시퀀스가 짧다면 문장 뒤에 패딩을 붙여 길이를 맞춰줍니다.\n",
    "    # 문장 앞에 패딩을 붙여 길이를 맞추고 싶다면 padding='pre'를 사용합니다\n",
    "    tensor = tf.keras.preprocessing.sequence.pad_sequences(tensor, padding='post')   \n",
    "    \n",
    "    print(tensor,tokenizer)\n",
    "    return tensor, tokenizer\n",
    "\n",
    "tensor, tokenizer = tokenize(corpus)\n"
   ]
  },
  {
   "cell_type": "code",
   "execution_count": 124,
   "id": "3f7e7dc4",
   "metadata": {},
   "outputs": [
    {
     "name": "stdout",
     "output_type": "stream",
     "text": [
      "[[  2 162   3   0   0   0   0   0   0   0   0   0   0]\n",
      " [  2 162   3   0   0   0   0   0   0   0   0   0   0]\n",
      " [  2  56 881   7   3   0   0   0   0   0   0   0   0]\n",
      " [  2 162   3   0   0   0   0   0   0   0   0   0   0]\n",
      " [  2 162   3   0   0   0   0   0   0   0   0   0   0]\n",
      " [  2  23 280 457   3   0   0   0   0   0   0   0   0]\n",
      " [  2 162   3   0   0   0   0   0   0   0   0   0   0]\n",
      " [  2 162   3   0   0   0   0   0   0   0   0   0   0]\n",
      " [  2  18 351 563   3   0   0   0   0   0   0   0   0]\n",
      " [  2 162   3   0   0   0   0   0   0   0   0   0   0]]\n"
     ]
    }
   ],
   "source": [
    "print(tensor[ :10, :13]) #뒷쪽에 패딩된 0이 많이 보인다"
   ]
  },
  {
   "cell_type": "code",
   "execution_count": 125,
   "id": "9d11a532",
   "metadata": {},
   "outputs": [
    {
     "name": "stdout",
     "output_type": "stream",
     "text": [
      "1 : <unk>\n",
      "2 : <start>\n",
      "3 : <end>\n",
      "4 : i\n",
      "5 : ,\n",
      "6 : .\n",
      "7 : you\n",
      "8 : oh\n",
      "9 : it\n",
      "10 : me\n",
      "11 : !\n",
      "12 : a\n",
      "13 : the\n",
      "14 : yeah\n",
      "15 : my\n",
      "16 : t\n",
      "17 : s\n",
      "18 : and\n",
      "19 : to\n",
      "20 : love\n",
      "21 : on\n",
      "22 : m\n",
      "23 : in\n",
      "24 : baby\n",
      "25 : no\n",
      "26 : we\n",
      "27 : so\n",
      "28 : ?\n",
      "29 : chorus\n",
      "30 : don\n"
     ]
    }
   ],
   "source": [
    "for idx in tokenizer.index_word:\n",
    "    print(idx, \":\", tokenizer.index_word[idx])\n",
    "\n",
    "    if idx >= 30: break  #2번 인덱스가 바로 <start> 단어사전 30개 꺼내보기\n",
    "        \n",
    "        "
   ]
  },
  {
   "cell_type": "code",
   "execution_count": 126,
   "id": "f3990806",
   "metadata": {},
   "outputs": [
    {
     "name": "stdout",
     "output_type": "stream",
     "text": [
      "(14120, 12)\n"
     ]
    }
   ],
   "source": [
    "src_input = tensor[:, :-1]  \n",
    "tgt_input = tensor[:, 1:] \n",
    "print(src_input.shape)\n"
   ]
  },
  {
   "cell_type": "code",
   "execution_count": 127,
   "id": "9f8b30ff",
   "metadata": {},
   "outputs": [],
   "source": [
    "from sklearn.model_selection import train_test_split\n",
    "enc_train, enc_val, dec_train, dec_val = train_test_split(src_input, tgt_input, test_size = 0.2, random_state=20)"
   ]
  },
  {
   "cell_type": "code",
   "execution_count": 128,
   "id": "9373530d",
   "metadata": {},
   "outputs": [
    {
     "name": "stdout",
     "output_type": "stream",
     "text": [
      "(11296, 12)\n",
      "(2824, 12)\n",
      "(11296, 12)\n",
      "(2824, 12)\n"
     ]
    }
   ],
   "source": [
    "print(enc_train.shape)\n",
    "print(enc_val.shape)\n",
    "print(dec_train.shape)\n",
    "print(dec_val.shape)"
   ]
  },
  {
   "cell_type": "code",
   "execution_count": 129,
   "id": "32b70fb8",
   "metadata": {},
   "outputs": [],
   "source": [
    "class TextGenerator(tf.keras.Model):\n",
    "    def __init__(self, vocab_size, embedding_size, hidden_size):\n",
    "        super().__init__()\n",
    "        \n",
    "        self.embedding = tf.keras.layers.Embedding(vocab_size, embedding_size)\n",
    "        self.rnn_1 = tf.keras.layers.LSTM(hidden_size, return_sequences=True)\n",
    "        self.rnn_2 = tf.keras.layers.LSTM(hidden_size, return_sequences=True)\n",
    "        self.linear = tf.keras.layers.Dense(vocab_size)\n",
    "        \n",
    "    def call(self, x):\n",
    "        out = self.embedding(x)\n",
    "        out = self.rnn_1(out)\n",
    "        out = self.rnn_2(out)\n",
    "        out = self.linear(out)\n",
    "        \n",
    "        return out\n",
    "    \n",
    "embedding_size = 1024   \n",
    "hidden_size = 2048  \n",
    "model = TextGenerator(tokenizer.num_words + 1, embedding_size , hidden_size)\n"
   ]
  },
  {
   "cell_type": "code",
   "execution_count": 130,
   "id": "25472f98",
   "metadata": {},
   "outputs": [
    {
     "name": "stdout",
     "output_type": "stream",
     "text": [
      "Epoch 1/10\n",
      "353/353 [==============================] - 57s 108ms/step - loss: 1.6137 - val_loss: 1.4074\n",
      "Epoch 2/10\n",
      "353/353 [==============================] - 37s 106ms/step - loss: 1.2876 - val_loss: 1.2978\n",
      "Epoch 3/10\n",
      "353/353 [==============================] - 37s 105ms/step - loss: 1.1478 - val_loss: 1.2353\n",
      "Epoch 4/10\n",
      "353/353 [==============================] - 37s 106ms/step - loss: 1.0412 - val_loss: 1.1881\n",
      "Epoch 5/10\n",
      "353/353 [==============================] - 37s 106ms/step - loss: 0.9737 - val_loss: 1.1652\n",
      "Epoch 6/10\n",
      "353/353 [==============================] - 37s 106ms/step - loss: 0.9044 - val_loss: 1.1499\n",
      "Epoch 7/10\n",
      "353/353 [==============================] - 37s 106ms/step - loss: 0.8579 - val_loss: 1.1428\n",
      "Epoch 8/10\n",
      "353/353 [==============================] - 38s 106ms/step - loss: 0.8233 - val_loss: 1.1422\n",
      "Epoch 9/10\n",
      "353/353 [==============================] - 37s 106ms/step - loss: 0.7963 - val_loss: 1.1444\n",
      "Epoch 10/10\n",
      "353/353 [==============================] - 37s 105ms/step - loss: 0.7778 - val_loss: 1.1467\n"
     ]
    },
    {
     "data": {
      "text/plain": [
       "<keras.callbacks.History at 0x7fda142c4cd0>"
      ]
     },
     "execution_count": 130,
     "metadata": {},
     "output_type": "execute_result"
    }
   ],
   "source": [
    "optimizer = tf.keras.optimizers.Adam()\n",
    "\n",
    "loss = tf.keras.losses.SparseCategoricalCrossentropy(\n",
    "    from_logits=True, reduction='none')\n",
    "\n",
    "model.compile(loss=loss, optimizer=optimizer)\n",
    "model.fit(enc_train, dec_train, epochs=10, validation_data=(enc_val, dec_val))\n"
   ]
  },
  {
   "cell_type": "code",
   "execution_count": 131,
   "id": "e3223bca",
   "metadata": {},
   "outputs": [],
   "source": [
    "def generate_text(model, tokenizer, init_sentence=\"<start> i love\", max_len=20):\n",
    "    # 테스트를 위해서 입력받은 init_sentence도 텐서로 변환합니다\n",
    "    test_input = tokenizer.texts_to_sequences([init_sentence])\n",
    "    test_tensor = tf.convert_to_tensor(test_input, dtype=tf.int64)\n",
    "    end_token = tokenizer.word_index[\"<end>\"]\n",
    "\n",
    "    # 단어 하나씩 예측해 문장을 만듭니다\n",
    "    #    1. 입력받은 문장의 텐서를 입력합니다\n",
    "    #    2. 예측된 값 중 가장 높은 확률인 word index를 뽑아냅니다\n",
    "    #    3. 2에서 예측된 word index를 문장 뒤에 붙입니다\n",
    "    #    4. 모델이 <end>를 예측했거나, max_len에 도달했다면 문장 생성을 마칩니다\n",
    "    while True:\n",
    "        # 1\n",
    "        predict = model(test_tensor) \n",
    "        # 2\n",
    "        predict_word = tf.argmax(tf.nn.softmax(predict, axis=-1), axis=-1)[:, -1] \n",
    "        # 3 \n",
    "        test_tensor = tf.concat([test_tensor, tf.expand_dims(predict_word, axis=0)], axis=-1)\n",
    "        # 4\n",
    "        if predict_word.numpy()[0] == end_token: break\n",
    "        if test_tensor.shape[1] >= max_len: break\n",
    "\n",
    "    generated = \"\"\n",
    "    # tokenizer를 이용해 word index를 단어로 하나씩 변환합니다 \n",
    "    for word_index in test_tensor[0].numpy():\n",
    "        generated += tokenizer.index_word[word_index] + \" \"\n",
    "\n",
    "    return generated\n"
   ]
  },
  {
   "cell_type": "code",
   "execution_count": 134,
   "id": "e909c65d",
   "metadata": {},
   "outputs": [
    {
     "name": "stdout",
     "output_type": "stream",
     "text": [
      "<start> i love you <end> \n"
     ]
    }
   ],
   "source": [
    "\n",
    "# generate_text(model, tokenizer, init_sentence=\"<start> he\")\n",
    "test_sen = generate_text(model, tokenizer, init_sentence=\"<start> i love\", max_len=20)\n",
    "print(test_sen)\n"
   ]
  },
  {
   "cell_type": "markdown",
   "id": "ba98ee75",
   "metadata": {},
   "source": [
    "#### 회고 : 인공지능이 작사를 한다는 것을 생각해 본 적이 없었서 매우 신선했던 내용이었다.\n",
    "    노드의 예시를 최대한 참고하여 작성하였고 큰 프로세스를 이해하는데 의의가 있다고 스스로 생각하며 작성하였다. \n",
    "    여기에 들어간 함수를 직접 만들라고 하면 절대 못했을 것 같다.\n",
    "    train_test_split은 이제 좀 익숙해 진 것 같다. \n",
    "    random state와 embedding size, hidden size 등 파라미터 셋팅은 아직 감이 없어서 찍기로 여러값을 시도해보았다. "
   ]
  },
  {
   "cell_type": "code",
   "execution_count": null,
   "id": "6cd87d3b",
   "metadata": {},
   "outputs": [],
   "source": []
  },
  {
   "cell_type": "code",
   "execution_count": null,
   "id": "2a589e92",
   "metadata": {},
   "outputs": [],
   "source": []
  },
  {
   "cell_type": "code",
   "execution_count": null,
   "id": "fd877611",
   "metadata": {},
   "outputs": [],
   "source": []
  }
 ],
 "metadata": {
  "kernelspec": {
   "display_name": "Python 3 (ipykernel)",
   "language": "python",
   "name": "python3"
  },
  "language_info": {
   "codemirror_mode": {
    "name": "ipython",
    "version": 3
   },
   "file_extension": ".py",
   "mimetype": "text/x-python",
   "name": "python",
   "nbconvert_exporter": "python",
   "pygments_lexer": "ipython3",
   "version": "3.9.7"
  }
 },
 "nbformat": 4,
 "nbformat_minor": 5
}

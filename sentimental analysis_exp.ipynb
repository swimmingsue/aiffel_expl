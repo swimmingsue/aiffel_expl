{
 "cells": [
  {
   "cell_type": "code",
   "execution_count": 1,
   "id": "0c73b0d5",
   "metadata": {},
   "outputs": [],
   "source": [
    "import matplotlib.pyplot as plt\n"
   ]
  },
  {
   "cell_type": "code",
   "execution_count": 2,
   "id": "925f7851",
   "metadata": {},
   "outputs": [
    {
     "data": {
      "text/html": [
       "<div>\n",
       "<style scoped>\n",
       "    .dataframe tbody tr th:only-of-type {\n",
       "        vertical-align: middle;\n",
       "    }\n",
       "\n",
       "    .dataframe tbody tr th {\n",
       "        vertical-align: top;\n",
       "    }\n",
       "\n",
       "    .dataframe thead th {\n",
       "        text-align: right;\n",
       "    }\n",
       "</style>\n",
       "<table border=\"1\" class=\"dataframe\">\n",
       "  <thead>\n",
       "    <tr style=\"text-align: right;\">\n",
       "      <th></th>\n",
       "      <th>id</th>\n",
       "      <th>document</th>\n",
       "      <th>label</th>\n",
       "    </tr>\n",
       "  </thead>\n",
       "  <tbody>\n",
       "    <tr>\n",
       "      <th>0</th>\n",
       "      <td>9976970</td>\n",
       "      <td>아 더빙.. 진짜 짜증나네요 목소리</td>\n",
       "      <td>0</td>\n",
       "    </tr>\n",
       "    <tr>\n",
       "      <th>1</th>\n",
       "      <td>3819312</td>\n",
       "      <td>흠...포스터보고 초딩영화줄....오버연기조차 가볍지 않구나</td>\n",
       "      <td>1</td>\n",
       "    </tr>\n",
       "    <tr>\n",
       "      <th>2</th>\n",
       "      <td>10265843</td>\n",
       "      <td>너무재밓었다그래서보는것을추천한다</td>\n",
       "      <td>0</td>\n",
       "    </tr>\n",
       "    <tr>\n",
       "      <th>3</th>\n",
       "      <td>9045019</td>\n",
       "      <td>교도소 이야기구먼 ..솔직히 재미는 없다..평점 조정</td>\n",
       "      <td>0</td>\n",
       "    </tr>\n",
       "    <tr>\n",
       "      <th>4</th>\n",
       "      <td>6483659</td>\n",
       "      <td>사이몬페그의 익살스런 연기가 돋보였던 영화!스파이더맨에서 늙어보이기만 했던 커스틴 ...</td>\n",
       "      <td>1</td>\n",
       "    </tr>\n",
       "    <tr>\n",
       "      <th>5</th>\n",
       "      <td>5403919</td>\n",
       "      <td>막 걸음마 뗀 3세부터 초등학교 1학년생인 8살용영화.ㅋㅋㅋ...별반개도 아까움.</td>\n",
       "      <td>0</td>\n",
       "    </tr>\n",
       "    <tr>\n",
       "      <th>6</th>\n",
       "      <td>7797314</td>\n",
       "      <td>원작의 긴장감을 제대로 살려내지못했다.</td>\n",
       "      <td>0</td>\n",
       "    </tr>\n",
       "    <tr>\n",
       "      <th>7</th>\n",
       "      <td>9443947</td>\n",
       "      <td>별 반개도 아깝다 욕나온다 이응경 길용우 연기생활이몇년인지..정말 발로해도 그것보단...</td>\n",
       "      <td>0</td>\n",
       "    </tr>\n",
       "    <tr>\n",
       "      <th>8</th>\n",
       "      <td>7156791</td>\n",
       "      <td>액션이 없는데도 재미 있는 몇안되는 영화</td>\n",
       "      <td>1</td>\n",
       "    </tr>\n",
       "    <tr>\n",
       "      <th>9</th>\n",
       "      <td>5912145</td>\n",
       "      <td>왜케 평점이 낮은건데? 꽤 볼만한데.. 헐리우드식 화려함에만 너무 길들여져 있나?</td>\n",
       "      <td>1</td>\n",
       "    </tr>\n",
       "  </tbody>\n",
       "</table>\n",
       "</div>"
      ],
      "text/plain": [
       "         id                                           document  label\n",
       "0   9976970                                아 더빙.. 진짜 짜증나네요 목소리      0\n",
       "1   3819312                  흠...포스터보고 초딩영화줄....오버연기조차 가볍지 않구나      1\n",
       "2  10265843                                  너무재밓었다그래서보는것을추천한다      0\n",
       "3   9045019                      교도소 이야기구먼 ..솔직히 재미는 없다..평점 조정      0\n",
       "4   6483659  사이몬페그의 익살스런 연기가 돋보였던 영화!스파이더맨에서 늙어보이기만 했던 커스틴 ...      1\n",
       "5   5403919      막 걸음마 뗀 3세부터 초등학교 1학년생인 8살용영화.ㅋㅋㅋ...별반개도 아까움.      0\n",
       "6   7797314                              원작의 긴장감을 제대로 살려내지못했다.      0\n",
       "7   9443947  별 반개도 아깝다 욕나온다 이응경 길용우 연기생활이몇년인지..정말 발로해도 그것보단...      0\n",
       "8   7156791                             액션이 없는데도 재미 있는 몇안되는 영화      1\n",
       "9   5912145      왜케 평점이 낮은건데? 꽤 볼만한데.. 헐리우드식 화려함에만 너무 길들여져 있나?      1"
      ]
     },
     "execution_count": 2,
     "metadata": {},
     "output_type": "execute_result"
    }
   ],
   "source": [
    "import pandas as pd\n",
    "\n",
    "# 데이터를 읽어봅시다. \n",
    "train_data = pd.read_table('~/aiffel/sentiment_classification/data/ratings_train.txt')\n",
    "test_data = pd.read_table('~/aiffel/sentiment_classification/data/ratings_test.txt')\n",
    "\n",
    "train_data.head(10)\n"
   ]
  },
  {
   "cell_type": "code",
   "execution_count": 3,
   "id": "2af87673",
   "metadata": {},
   "outputs": [
    {
     "name": "stdout",
     "output_type": "stream",
     "text": [
      "(150000, 3)\n"
     ]
    },
    {
     "data": {
      "text/plain": [
       "(50000, 3)"
      ]
     },
     "execution_count": 3,
     "metadata": {},
     "output_type": "execute_result"
    }
   ],
   "source": [
    "print(train_data.shape)\n",
    "test_data.shape"
   ]
  },
  {
   "cell_type": "markdown",
   "id": "86cb1ed2",
   "metadata": {},
   "source": [
    "### 데이터의 중복 제거\n",
    "NaN 결측치 제거 \n",
    "한국어 토크나이저로 토큰화\n",
    "불용어(Stopwords) 제거\n",
    "사전word_to_index 구성\n",
    "텍스트 스트링을 사전 인덱스 스트링으로 변환\n",
    "X_train, y_train, X_test, y_test, word_to_index 리턴"
   ]
  },
  {
   "cell_type": "code",
   "execution_count": 4,
   "id": "8e2df619",
   "metadata": {},
   "outputs": [],
   "source": [
    "from konlpy.tag import Mecab\n",
    "import numpy as np\n",
    "from collections import Counter\n",
    "\n",
    "tokenizer = Mecab()\n",
    "stopwords = ['의','가','이','은','들','는','좀','잘','걍','과','도','를','으로','자','에','와','한','하다']\n",
    "\n",
    "def load_data(train_data, test_data, num_words=10000):\n",
    "    train_data.drop_duplicates(subset=['document'], inplace=True)  #트레인 데이터 중 document 컬럼에서 중복값을 없앤다\n",
    "    train_data = train_data.dropna(how = 'any') #트레인 데이터에 결측값이 하나라도 있으면 컬럼/행을 없앤다\n",
    "    test_data.drop_duplicates(subset=['document'], inplace=True)#테스트 데이터도 동일하게 처리해준다\n",
    "    test_data = test_data.dropna(how = 'any') \n",
    "    \n",
    "    X_train = []\n",
    "    for sentence in train_data['document']:\n",
    "        temp_X = tokenizer.morphs(sentence) # 토큰화\n",
    "        temp_X = [word for word in temp_X if not word in stopwords] # 불용어 제거\n",
    "        X_train.append(temp_X)\n",
    "\n",
    "    X_test = []\n",
    "    for sentence in test_data['document']:\n",
    "        temp_X = tokenizer.morphs(sentence) # 토큰화\n",
    "        temp_X = [word for word in temp_X if not word in stopwords] # 불용어 제거\n",
    "        X_test.append(temp_X)\n",
    "    \n",
    "    words = np.concatenate(X_train).tolist()\n",
    "    counter = Counter(words)\n",
    "    counter = counter.most_common(10000-4) #가장 자주 쓰이는 단어 뽑기\n",
    "    vocab = ['<PAD>', '<BOS>', '<UNK>', '<UNUSED>'] + [key for key, _ in counter] #<PAD>', '<BOS>', '<UNK>', '<UNUSED>앞에 넣어줌\n",
    "    word_to_index = {word:index for index, word in enumerate(vocab)}\n",
    "\n",
    "    \n",
    "    def wordlist_to_indexlist(wordlist):\n",
    "        return [word_to_index[word] if word in word_to_index else word_to_index['<UNK>'] for word in wordlist]\n",
    "        \n",
    "    X_train = list(map(wordlist_to_indexlist, X_train))\n",
    "    X_test = list(map(wordlist_to_indexlist, X_test))\n",
    "        \n",
    "    return X_train, np.array(list(train_data['label'])), X_test, np.array(list(test_data['label'])), word_to_index\n",
    "    \n",
    "X_train, y_train, X_test, y_test, word_to_index = load_data(train_data, test_data) \n"
   ]
  },
  {
   "cell_type": "code",
   "execution_count": 5,
   "id": "867d0313",
   "metadata": {},
   "outputs": [
    {
     "name": "stdout",
     "output_type": "stream",
     "text": [
      "146182\n"
     ]
    },
    {
     "data": {
      "text/plain": [
       "(146182,)"
      ]
     },
     "execution_count": 5,
     "metadata": {},
     "output_type": "execute_result"
    }
   ],
   "source": [
    "print(len(X_train))\n",
    "y_train.shape"
   ]
  },
  {
   "cell_type": "code",
   "execution_count": 6,
   "id": "1418a3e4",
   "metadata": {},
   "outputs": [],
   "source": [
    "index_to_word = {index:word for word, index in word_to_index.items()}"
   ]
  },
  {
   "cell_type": "code",
   "execution_count": 7,
   "id": "fd6f5f14",
   "metadata": {},
   "outputs": [],
   "source": [
    "# 문장 1개를 활용할 딕셔너리와 함께 주면, 단어 인덱스 리스트 벡터로 변환해 주는 함수입니다. \n",
    "# 단, 모든 문장은 <BOS>로 시작하는 것으로 합니다. \n",
    "def get_encoded_sentence(sentence, word_to_index):\n",
    "    return [word_to_index['<BOS>']]+[word_to_index[word] if word in word_to_index else word_to_index['<UNK>'] for word in sentence.split()]\n",
    "\n",
    "# 여러 개의 문장 리스트를 한꺼번에 단어 인덱스 리스트 벡터로 encode해 주는 함수입니다. \n",
    "def get_encoded_sentences(sentences, word_to_index):\n",
    "    return [get_encoded_sentence(sentence, word_to_index) for sentence in sentences]\n",
    "\n",
    "# 숫자 벡터로 encode된 문장을 원래대로 decode하는 함수입니다. \n",
    "def get_decoded_sentence(encoded_sentence, index_to_word):\n",
    "    return ' '.join(index_to_word[index] if index in index_to_word else '<UNK>' for index in encoded_sentence[1:])  #[1:]를 통해 <BOS>를 제외\n",
    "\n",
    "# 여러 개의 숫자 벡터로 encode된 문장을 한꺼번에 원래대로 decode하는 함수입니다. \n",
    "def get_decoded_sentences(encoded_sentences, index_to_word):\n",
    "    return [get_decoded_sentence(encoded_sentence, index_to_word) for encoded_sentence in encoded_sentences]"
   ]
  },
  {
   "cell_type": "code",
   "execution_count": 8,
   "id": "92c01422",
   "metadata": {},
   "outputs": [
    {
     "data": {
      "text/plain": [
       "10000"
      ]
     },
     "execution_count": 8,
     "metadata": {},
     "output_type": "execute_result"
    }
   ],
   "source": [
    "len(word_to_index)"
   ]
  },
  {
   "cell_type": "markdown",
   "id": "7a696f7b",
   "metadata": {},
   "source": [
    "#데이터셋의 문장길이 분포, 적절한 최대문장 길이 정하기 \n"
   ]
  },
  {
   "cell_type": "code",
   "execution_count": 9,
   "id": "856c207c",
   "metadata": {},
   "outputs": [
    {
     "name": "stdout",
     "output_type": "stream",
     "text": [
      "문장길이 평균 :  15.96940191154864\n",
      "문장길이 최대 :  116\n",
      "문장길이 표준편차 :  12.843571191092\n",
      "pad_sequences maxlen :  41\n",
      "전체 문장의 0.9342988343341575%가 maxlen 설정값 이내에 포함됩니다. \n"
     ]
    }
   ],
   "source": [
    "total_data_text = list(X_train) + list(X_test)\n",
    "# 텍스트데이터 문장길이의 리스트를 생성한 후\n",
    "num_tokens = [len(tokens) for tokens in total_data_text]\n",
    "num_tokens = np.array(num_tokens)\n",
    "# 문장길이의 평균값, 최대값, 표준편차를 계산해 본다. \n",
    "print('문장길이 평균 : ', np.mean(num_tokens))\n",
    "print('문장길이 최대 : ', np.max(num_tokens))\n",
    "print('문장길이 표준편차 : ', np.std(num_tokens))\n",
    "\n",
    "# 예를들어, 최대 길이를 (평균 + 2*표준편차)로 한다면,  \n",
    "max_tokens = np.mean(num_tokens) + 2 * np.std(num_tokens)\n",
    "maxlen = int(max_tokens)\n",
    "print('pad_sequences maxlen : ', maxlen)\n",
    "print('전체 문장의 {}%가 maxlen 설정값 이내에 포함됩니다. '.format(np.sum(num_tokens < max_tokens) / len(num_tokens))) "
   ]
  },
  {
   "cell_type": "code",
   "execution_count": 11,
   "id": "6f3a5fb0",
   "metadata": {},
   "outputs": [
    {
     "name": "stdout",
     "output_type": "stream",
     "text": [
      "tf.Tensor(\n",
      "[[[ 4.97898348e-02  2.09689625e-02 -4.76070419e-02  4.51783054e-02]\n",
      "  [ 4.97898348e-02  2.09689625e-02 -4.76070419e-02  4.51783054e-02]\n",
      "  [ 4.97898348e-02  2.09689625e-02 -4.76070419e-02  4.51783054e-02]\n",
      "  ...\n",
      "  [ 2.00411193e-02  1.66910999e-02 -1.12161636e-02 -1.74712017e-03]\n",
      "  [-2.59103179e-02  2.25047022e-03  1.45698525e-02  3.80454920e-02]\n",
      "  [-7.74122775e-04  3.78214158e-02  4.58371639e-03  2.08605565e-02]]\n",
      "\n",
      " [[ 4.97898348e-02  2.09689625e-02 -4.76070419e-02  4.51783054e-02]\n",
      "  [ 4.97898348e-02  2.09689625e-02 -4.76070419e-02  4.51783054e-02]\n",
      "  [ 4.97898348e-02  2.09689625e-02 -4.76070419e-02  4.51783054e-02]\n",
      "  ...\n",
      "  [ 1.88941024e-02 -2.11507082e-03 -2.68253684e-02  4.71495055e-02]\n",
      "  [ 3.24024297e-02  4.18163203e-02  3.49372737e-02  5.81470877e-03]\n",
      "  [ 4.37856950e-02 -9.16314125e-03 -2.14557722e-03 -3.39389592e-02]]\n",
      "\n",
      " [[ 4.97898348e-02  2.09689625e-02 -4.76070419e-02  4.51783054e-02]\n",
      "  [ 4.97898348e-02  2.09689625e-02 -4.76070419e-02  4.51783054e-02]\n",
      "  [ 4.97898348e-02  2.09689625e-02 -4.76070419e-02  4.51783054e-02]\n",
      "  ...\n",
      "  [-5.24292141e-03  4.00689729e-02 -1.12204328e-02  3.27506401e-02]\n",
      "  [ 4.40119170e-02 -3.88392694e-02 -1.42192729e-02  2.61735357e-02]\n",
      "  [ 6.05069473e-03 -4.71620448e-02 -4.62850705e-02 -4.90900055e-02]]\n",
      "\n",
      " ...\n",
      "\n",
      " [[ 4.97898348e-02  2.09689625e-02 -4.76070419e-02  4.51783054e-02]\n",
      "  [ 4.97898348e-02  2.09689625e-02 -4.76070419e-02  4.51783054e-02]\n",
      "  [ 4.97898348e-02  2.09689625e-02 -4.76070419e-02  4.51783054e-02]\n",
      "  ...\n",
      "  [ 1.37953497e-02  4.77386974e-02  1.20901950e-02 -2.59828102e-02]\n",
      "  [-4.50565107e-02 -4.76030707e-02  1.96451060e-02 -1.42504089e-02]\n",
      "  [ 4.67258133e-02 -2.77813915e-02  4.77381609e-02  2.23025121e-02]]\n",
      "\n",
      " [[ 4.97898348e-02  2.09689625e-02 -4.76070419e-02  4.51783054e-02]\n",
      "  [ 4.97898348e-02  2.09689625e-02 -4.76070419e-02  4.51783054e-02]\n",
      "  [ 4.97898348e-02  2.09689625e-02 -4.76070419e-02  4.51783054e-02]\n",
      "  ...\n",
      "  [-3.32025774e-02 -4.31471840e-02 -3.16298492e-02  3.81774828e-03]\n",
      "  [ 4.52824682e-03  3.02539505e-02 -2.69341227e-02  3.37175615e-02]\n",
      "  [ 3.27836722e-04 -9.20904800e-03  4.39756624e-02  7.97249004e-03]]\n",
      "\n",
      " [[ 4.97898348e-02  2.09689625e-02 -4.76070419e-02  4.51783054e-02]\n",
      "  [ 4.97898348e-02  2.09689625e-02 -4.76070419e-02  4.51783054e-02]\n",
      "  [ 4.97898348e-02  2.09689625e-02 -4.76070419e-02  4.51783054e-02]\n",
      "  ...\n",
      "  [ 1.95791759e-02  2.12524571e-02  1.71275996e-02 -1.05095729e-02]\n",
      "  [-1.46083459e-02 -4.84839566e-02  4.20672186e-02 -4.52995300e-06]\n",
      "  [ 2.75323503e-02  3.34785618e-02 -3.78095396e-02  1.91669352e-02]]], shape=(146182, 41, 4), dtype=float32)\n"
     ]
    }
   ],
   "source": [
    "import tensorflow as tf\n",
    "import os\n",
    "\n",
    "\n",
    "vocab_size = len(word_to_index)  #딕셔너리에 포함된 단어 개수는 10000개\n",
    "word_vector_dim = 4    # 그림과 같이 4차원의 워드 벡터를 가정합니다.\n",
    "\n",
    "embedding = tf.keras.layers.Embedding(input_dim=vocab_size, output_dim=word_vector_dim, mask_zero=True)\n",
    "\n",
    "# tf.keras.preprocessing.sequence.pad_sequences를 통해 word vector를 모두 일정 길이로 맞춰주어야 \n",
    "# embedding 레이어의 input이 될 수 있음에 주의해 주세요. \n",
    "\n",
    "X_train = tf.keras.preprocessing.sequence.pad_sequences(X_train,\n",
    "                                                       value=word_to_index['<PAD>'],\n",
    "                                                       padding='pre',\n",
    "                                                       maxlen=maxlen)\n",
    "X_test = tf.keras.preprocessing.sequence.pad_sequences(X_test,\n",
    "                                                       value=word_to_index[\"<PAD>\"],\n",
    "                                                       padding='pre', \n",
    "                                                       maxlen=maxlen)\n",
    "\n",
    "\n",
    "output = embedding(X_train)\n",
    "print(output) #shape=(146182, 6, 4)가 나온다.146182개의 문장의 최대길이가 maxlen 셋팅해준대로 20이다.  "
   ]
  },
  {
   "cell_type": "code",
   "execution_count": 12,
   "id": "0906637e",
   "metadata": {},
   "outputs": [
    {
     "data": {
      "text/plain": [
       "(146182, 41)"
      ]
     },
     "execution_count": 12,
     "metadata": {},
     "output_type": "execute_result"
    }
   ],
   "source": [
    "X_train.shape "
   ]
  },
  {
   "cell_type": "markdown",
   "id": "2ffb58f2",
   "metadata": {},
   "source": [
    "### 모델 만들기"
   ]
  },
  {
   "cell_type": "code",
   "execution_count": 13,
   "id": "c65b5b08",
   "metadata": {},
   "outputs": [
    {
     "name": "stdout",
     "output_type": "stream",
     "text": [
      "Model: \"sequential\"\n",
      "_________________________________________________________________\n",
      "Layer (type)                 Output Shape              Param #   \n",
      "=================================================================\n",
      "embedding_1 (Embedding)      (None, None, 10)          100000    \n",
      "_________________________________________________________________\n",
      "lstm (LSTM)                  (None, 8)                 608       \n",
      "_________________________________________________________________\n",
      "dense (Dense)                (None, 8)                 72        \n",
      "_________________________________________________________________\n",
      "dense_1 (Dense)              (None, 1)                 9         \n",
      "=================================================================\n",
      "Total params: 100,689\n",
      "Trainable params: 100,689\n",
      "Non-trainable params: 0\n",
      "_________________________________________________________________\n"
     ]
    }
   ],
   "source": [
    "vocab_size = 10000  #10000개의 사전 단어\n",
    "word_vector_dim = 10  # 단어 하나를 표현하는 임베딩 벡터의 차원수입니다. \n",
    "\n",
    "model = tf.keras.Sequential()\n",
    "model.add(tf.keras.layers.Embedding(vocab_size, word_vector_dim, input_shape=(None,)))\n",
    "model.add(tf.keras.layers.LSTM(8))   # 가장 널리 쓰이는 RNN인 LSTM 레이어를 사용하였습니다. 이때 LSTM state 벡터의 차원수는 8로 하였습니다. (변경 가능)\n",
    "model.add(tf.keras.layers.Dense(8, activation='relu'))\n",
    "model.add(tf.keras.layers.Dense(1, activation='sigmoid'))  # 최종 출력은 긍정/부정을 나타내는 1dim 입니다.\n",
    "\n",
    "model.summary()\n"
   ]
  },
  {
   "cell_type": "code",
   "execution_count": 14,
   "id": "1e88615d",
   "metadata": {},
   "outputs": [
    {
     "name": "stdout",
     "output_type": "stream",
     "text": [
      "(131182, 41)\n",
      "(131182,)\n"
     ]
    }
   ],
   "source": [
    "x_validation = X_train[:15000]   # 146182 중 약 10% 정도인 15000건을 validation 용도로 사용\n",
    "y_validation = y_train[:15000]\n",
    "\n",
    "#나머지를 다시 train 용도로 \n",
    "partial_X_train = X_train[15000:]  \n",
    "partial_y_train = y_train[15000:]\n",
    "\n",
    "print(partial_X_train.shape)\n",
    "print(partial_y_train.shape)"
   ]
  },
  {
   "cell_type": "code",
   "execution_count": 15,
   "id": "e6859385",
   "metadata": {},
   "outputs": [],
   "source": [
    "model.compile(optimizer='adam', loss='binary_crossentropy',metrics=['accuracy'])\n",
    "\n",
    "epochs=10"
   ]
  },
  {
   "cell_type": "code",
   "execution_count": 16,
   "id": "74972aa3",
   "metadata": {},
   "outputs": [
    {
     "name": "stdout",
     "output_type": "stream",
     "text": [
      "Epoch 1/10\n",
      "257/257 [==============================] - 5s 7ms/step - loss: 0.5336 - accuracy: 0.7530 - val_loss: 0.3773 - val_accuracy: 0.8411\n",
      "Epoch 2/10\n",
      "257/257 [==============================] - 1s 5ms/step - loss: 0.3491 - accuracy: 0.8528 - val_loss: 0.3434 - val_accuracy: 0.8508\n",
      "Epoch 3/10\n",
      "257/257 [==============================] - 1s 6ms/step - loss: 0.3221 - accuracy: 0.8658 - val_loss: 0.3428 - val_accuracy: 0.8497\n",
      "Epoch 4/10\n",
      "257/257 [==============================] - 1s 5ms/step - loss: 0.3107 - accuracy: 0.8710 - val_loss: 0.3417 - val_accuracy: 0.8519\n",
      "Epoch 5/10\n",
      "257/257 [==============================] - 1s 5ms/step - loss: 0.3020 - accuracy: 0.8750 - val_loss: 0.3422 - val_accuracy: 0.8499\n",
      "Epoch 6/10\n",
      "257/257 [==============================] - 1s 5ms/step - loss: 0.2946 - accuracy: 0.8782 - val_loss: 0.3425 - val_accuracy: 0.8529\n",
      "Epoch 7/10\n",
      "257/257 [==============================] - 1s 5ms/step - loss: 0.2871 - accuracy: 0.8811 - val_loss: 0.3411 - val_accuracy: 0.8527\n",
      "Epoch 8/10\n",
      "257/257 [==============================] - 1s 5ms/step - loss: 0.2797 - accuracy: 0.8848 - val_loss: 0.3441 - val_accuracy: 0.8541\n",
      "Epoch 9/10\n",
      "257/257 [==============================] - 1s 5ms/step - loss: 0.2716 - accuracy: 0.8876 - val_loss: 0.3489 - val_accuracy: 0.8539\n",
      "Epoch 10/10\n",
      "257/257 [==============================] - 1s 5ms/step - loss: 0.2630 - accuracy: 0.8922 - val_loss: 0.3533 - val_accuracy: 0.8530\n"
     ]
    }
   ],
   "source": [
    "history = model.fit(partial_X_train,partial_y_train,epochs=epochs,batch_size=512,validation_data=(x_validation, y_validation),verbose=1)"
   ]
  },
  {
   "cell_type": "code",
   "execution_count": 17,
   "id": "68c6df61",
   "metadata": {},
   "outputs": [
    {
     "name": "stdout",
     "output_type": "stream",
     "text": [
      "dict_keys(['loss', 'accuracy', 'val_loss', 'val_accuracy'])\n"
     ]
    }
   ],
   "source": [
    "print(history.history.keys())"
   ]
  },
  {
   "cell_type": "code",
   "execution_count": 18,
   "id": "15641a52",
   "metadata": {},
   "outputs": [
    {
     "data": {
      "text/plain": [
       "array([[   0,    0,    0, ...,    0,  832,  130],\n",
       "       [   0,    0,    0, ...,    0,    0,    2],\n",
       "       [   0,    0,    0, ..., 3557,   73,  917],\n",
       "       ...,\n",
       "       [   0,    0,    0, ...,    8,   12, 3424],\n",
       "       [   0,    0,    0, ...,   67,  323,   43],\n",
       "       [   0,    0,    0, ...,  179,   63, 1058]], dtype=int32)"
      ]
     },
     "execution_count": 18,
     "metadata": {},
     "output_type": "execute_result"
    }
   ],
   "source": [
    "X_test"
   ]
  },
  {
   "cell_type": "code",
   "execution_count": 19,
   "id": "19400eae",
   "metadata": {},
   "outputs": [
    {
     "name": "stdout",
     "output_type": "stream",
     "text": [
      "1537/1537 - 3s - loss: 0.3656 - accuracy: 0.8471\n",
      "[0.36557537317276, 0.847102165222168]\n"
     ]
    }
   ],
   "source": [
    "results = model.evaluate(X_test,  y_test, verbose=2)\n",
    "\n",
    "print(results)"
   ]
  },
  {
   "cell_type": "code",
   "execution_count": 20,
   "id": "26f99f55",
   "metadata": {},
   "outputs": [
    {
     "data": {
      "image/png": "[encoded data removed]",
      "text/plain": [
       "<IPython.core.display.Image object>"
      ]
     },
     "execution_count": 20,
     "metadata": {},
     "output_type": "execute_result"
    }
   ],
   "source": [
    "from keras.utils.vis_utils import plot_model #순서도로 시각화 해주는 기능이 있어 실습해보았다\n",
    "plot_model(model, to_file='model_plot.png', show_shapes=True, show_layer_names=True)"
   ]
  },
  {
   "cell_type": "code",
   "execution_count": 21,
   "id": "8a6afcdf",
   "metadata": {},
   "outputs": [
    {
     "data": {
      "image/png": "[encoded data removed]",
      "text/plain": [
       "<Figure size 432x288 with 1 Axes>"
      ]
     },
     "metadata": {
      "needs_background": "light"
     },
     "output_type": "display_data"
    }
   ],
   "source": [
    "plt.plot(history.history['accuracy'])\n",
    "plt.plot(history.history['val_accuracy'])\n",
    "plt.title('model accuracy')\n",
    "plt.ylabel('accuracy')\n",
    "plt.xlabel('epoch')\n",
    "plt.legend(['train', 'test'], loc='upper left')\n",
    "plt.show()"
   ]
  },
  {
   "cell_type": "code",
   "execution_count": 22,
   "id": "14c15626",
   "metadata": {},
   "outputs": [
    {
     "data": {
      "image/png": "[encoded data removed]",
      "text/plain": [
       "<Figure size 432x288 with 1 Axes>"
      ]
     },
     "metadata": {
      "needs_background": "light"
     },
     "output_type": "display_data"
    }
   ],
   "source": [
    "plt.plot(history.history['loss'])\n",
    "plt.plot(history.history['val_loss'])\n",
    "plt.title('model loss')\n",
    "plt.ylabel('loss')\n",
    "plt.xlabel('epoch')\n",
    "plt.legend(['train', 'test'], loc='upper left')\n",
    "plt.show()"
   ]
  },
  {
   "cell_type": "code",
   "execution_count": 23,
   "id": "042be4df",
   "metadata": {},
   "outputs": [
    {
     "name": "stdout",
     "output_type": "stream",
     "text": [
      "Model: \"sequential_1\"\n",
      "_________________________________________________________________\n",
      "Layer (type)                 Output Shape              Param #   \n",
      "=================================================================\n",
      "embedding_2 (Embedding)      (None, None, 16)          160000    \n",
      "_________________________________________________________________\n",
      "conv1d (Conv1D)              (None, None, 16)          272       \n",
      "_________________________________________________________________\n",
      "max_pooling1d (MaxPooling1D) (None, None, 16)          0         \n",
      "_________________________________________________________________\n",
      "conv1d_1 (Conv1D)            (None, None, 16)          272       \n",
      "_________________________________________________________________\n",
      "global_max_pooling1d (Global (None, 16)                0         \n",
      "_________________________________________________________________\n",
      "dense_2 (Dense)              (None, 8)                 136       \n",
      "_________________________________________________________________\n",
      "dense_3 (Dense)              (None, 1)                 9         \n",
      "=================================================================\n",
      "Total params: 160,689\n",
      "Trainable params: 160,689\n",
      "Non-trainable params: 0\n",
      "_________________________________________________________________\n"
     ]
    }
   ],
   "source": [
    "#다른 모델 돌려보기\n",
    "\n",
    "vocab_size = 10000  # 어휘 사전의 크기\n",
    "word_vector_dim = 16   # 단어 하나를 표현하는 임베딩 벡터의 차원 수입니다. \n",
    "\n",
    "model = tf.keras.Sequential()\n",
    "model.add(tf.keras.layers.Embedding(vocab_size, word_vector_dim, input_shape=(None,)))\n",
    "model.add(tf.keras.layers.Conv1D(16, 1, activation='relu'))\n",
    "model.add(tf.keras.layers.MaxPooling1D(5))\n",
    "model.add(tf.keras.layers.Conv1D(16, 1, activation='relu'))\n",
    "model.add(tf.keras.layers.GlobalMaxPooling1D())\n",
    "model.add(tf.keras.layers.Dense(8, activation='relu'))\n",
    "model.add(tf.keras.layers.Dense(1, activation='sigmoid')) \n",
    "\n",
    "model.summary()\n",
    "\n"
   ]
  },
  {
   "cell_type": "code",
   "execution_count": 24,
   "id": "8ac2dc31",
   "metadata": {},
   "outputs": [],
   "source": [
    "model.compile(optimizer='adam', loss='binary_crossentropy',metrics=['accuracy'])\n",
    "\n",
    "epochs=20"
   ]
  },
  {
   "cell_type": "code",
   "execution_count": 25,
   "id": "fdf1c2ab",
   "metadata": {},
   "outputs": [
    {
     "name": "stdout",
     "output_type": "stream",
     "text": [
      "Epoch 1/20\n",
      "257/257 [==============================] - 3s 5ms/step - loss: 0.5073 - accuracy: 0.7614 - val_loss: 0.3840 - val_accuracy: 0.8287\n",
      "Epoch 2/20\n",
      "257/257 [==============================] - 1s 4ms/step - loss: 0.3537 - accuracy: 0.8464 - val_loss: 0.3657 - val_accuracy: 0.8389\n",
      "Epoch 3/20\n",
      "257/257 [==============================] - 1s 4ms/step - loss: 0.3214 - accuracy: 0.8645 - val_loss: 0.3675 - val_accuracy: 0.8371\n",
      "Epoch 4/20\n",
      "257/257 [==============================] - 1s 4ms/step - loss: 0.3010 - accuracy: 0.8749 - val_loss: 0.3727 - val_accuracy: 0.8347\n",
      "Epoch 5/20\n",
      "257/257 [==============================] - 1s 4ms/step - loss: 0.2843 - accuracy: 0.8835 - val_loss: 0.3777 - val_accuracy: 0.8343\n",
      "Epoch 6/20\n",
      "257/257 [==============================] - 1s 4ms/step - loss: 0.2701 - accuracy: 0.8906 - val_loss: 0.3835 - val_accuracy: 0.8327\n",
      "Epoch 7/20\n",
      "257/257 [==============================] - 1s 4ms/step - loss: 0.2558 - accuracy: 0.8975 - val_loss: 0.3943 - val_accuracy: 0.8330\n",
      "Epoch 8/20\n",
      "257/257 [==============================] - 1s 4ms/step - loss: 0.2428 - accuracy: 0.9047 - val_loss: 0.4025 - val_accuracy: 0.8309\n",
      "Epoch 9/20\n",
      "257/257 [==============================] - 1s 4ms/step - loss: 0.2303 - accuracy: 0.9106 - val_loss: 0.4214 - val_accuracy: 0.8284\n",
      "Epoch 10/20\n",
      "257/257 [==============================] - 1s 4ms/step - loss: 0.2179 - accuracy: 0.9174 - val_loss: 0.4328 - val_accuracy: 0.8278\n",
      "Epoch 11/20\n",
      "257/257 [==============================] - 1s 4ms/step - loss: 0.2070 - accuracy: 0.9228 - val_loss: 0.4412 - val_accuracy: 0.8259\n",
      "Epoch 12/20\n",
      "257/257 [==============================] - 1s 4ms/step - loss: 0.1958 - accuracy: 0.9279 - val_loss: 0.4609 - val_accuracy: 0.8245\n",
      "Epoch 13/20\n",
      "257/257 [==============================] - 1s 4ms/step - loss: 0.1860 - accuracy: 0.9323 - val_loss: 0.4776 - val_accuracy: 0.8230\n",
      "Epoch 14/20\n",
      "257/257 [==============================] - 1s 4ms/step - loss: 0.1767 - accuracy: 0.9367 - val_loss: 0.4912 - val_accuracy: 0.8211\n",
      "Epoch 15/20\n",
      "257/257 [==============================] - 1s 4ms/step - loss: 0.1679 - accuracy: 0.9407 - val_loss: 0.5078 - val_accuracy: 0.8202\n",
      "Epoch 16/20\n",
      "257/257 [==============================] - 1s 4ms/step - loss: 0.1598 - accuracy: 0.9440 - val_loss: 0.5274 - val_accuracy: 0.8191\n",
      "Epoch 17/20\n",
      "257/257 [==============================] - 1s 4ms/step - loss: 0.1519 - accuracy: 0.9475 - val_loss: 0.5503 - val_accuracy: 0.8169\n",
      "Epoch 18/20\n",
      "257/257 [==============================] - 1s 4ms/step - loss: 0.1459 - accuracy: 0.9498 - val_loss: 0.5606 - val_accuracy: 0.8164\n",
      "Epoch 19/20\n",
      "257/257 [==============================] - 1s 4ms/step - loss: 0.1397 - accuracy: 0.9520 - val_loss: 0.5892 - val_accuracy: 0.8139\n",
      "Epoch 20/20\n",
      "257/257 [==============================] - 1s 4ms/step - loss: 0.1344 - accuracy: 0.9543 - val_loss: 0.6137 - val_accuracy: 0.8127\n"
     ]
    }
   ],
   "source": [
    "history = model.fit(partial_X_train,partial_y_train,epochs=epochs,batch_size=512,validation_data=(x_validation, y_validation),verbose=1)\n"
   ]
  },
  {
   "cell_type": "code",
   "execution_count": 26,
   "id": "996d73ba",
   "metadata": {},
   "outputs": [
    {
     "name": "stdout",
     "output_type": "stream",
     "text": [
      "1537/1537 - 2s - loss: 0.6165 - accuracy: 0.8105\n",
      "[0.6165074110031128, 0.810545802116394]\n"
     ]
    }
   ],
   "source": [
    "results = model.evaluate(X_test,  y_test, verbose=2)\n",
    "\n",
    "print(results)"
   ]
  },
  {
   "cell_type": "code",
   "execution_count": 27,
   "id": "0c38d506",
   "metadata": {},
   "outputs": [
    {
     "data": {
      "image/png": "[encoded data removed]",
      "text/plain": [
       "<Figure size 432x288 with 1 Axes>"
      ]
     },
     "metadata": {
      "needs_background": "light"
     },
     "output_type": "display_data"
    }
   ],
   "source": [
    "plt.plot(history.history['accuracy'])\n",
    "plt.plot(history.history['val_accuracy'])\n",
    "plt.title('model accuracy')\n",
    "plt.ylabel('accuracy')\n",
    "plt.xlabel('epoch')\n",
    "plt.legend(['train', 'test'], loc='upper left')\n",
    "plt.show()"
   ]
  },
  {
   "cell_type": "code",
   "execution_count": 28,
   "id": "40887f09",
   "metadata": {},
   "outputs": [
    {
     "data": {
      "image/png": "[encoded data removed]",
      "text/plain": [
       "<Figure size 432x288 with 1 Axes>"
      ]
     },
     "metadata": {
      "needs_background": "light"
     },
     "output_type": "display_data"
    }
   ],
   "source": [
    "plt.plot(history.history['loss'])\n",
    "plt.plot(history.history['val_loss'])\n",
    "plt.title('model loss')\n",
    "plt.ylabel('loss')\n",
    "plt.xlabel('epoch')\n",
    "plt.legend(['train', 'test'], loc='upper left')\n",
    "plt.show()"
   ]
  },
  {
   "cell_type": "code",
   "execution_count": 29,
   "id": "ab2518c7",
   "metadata": {},
   "outputs": [
    {
     "name": "stdout",
     "output_type": "stream",
     "text": [
      "Model: \"sequential_2\"\n",
      "_________________________________________________________________\n",
      "Layer (type)                 Output Shape              Param #   \n",
      "=================================================================\n",
      "embedding_3 (Embedding)      (None, None, 400)         4000000   \n",
      "_________________________________________________________________\n",
      "global_max_pooling1d_1 (Glob (None, 400)               0         \n",
      "_________________________________________________________________\n",
      "dense_4 (Dense)              (None, 8)                 3208      \n",
      "_________________________________________________________________\n",
      "dense_5 (Dense)              (None, 1)                 9         \n",
      "=================================================================\n",
      "Total params: 4,003,217\n",
      "Trainable params: 4,003,217\n",
      "Non-trainable params: 0\n",
      "_________________________________________________________________\n"
     ]
    }
   ],
   "source": [
    "#또 다른 모델 시도하기\n",
    "\n",
    "vocab_size = 10000  # 어휘 사전의 크기입니다(10000개의 단어)\n",
    "word_vector_dim = 400   # 단어 하나를 표현하는 임베딩 벡터의 차원 수입니다. \n",
    "\n",
    "model = tf.keras.Sequential()\n",
    "model.add(tf.keras.layers.Embedding(vocab_size, word_vector_dim, input_shape=(None,)))\n",
    "model.add(tf.keras.layers.GlobalMaxPooling1D())\n",
    "model.add(tf.keras.layers.Dense(8, activation='relu'))\n",
    "model.add(tf.keras.layers.Dense(1, activation='sigmoid'))  \n",
    "\n",
    "model.summary()"
   ]
  },
  {
   "cell_type": "code",
   "execution_count": 30,
   "id": "6046fd06",
   "metadata": {},
   "outputs": [],
   "source": [
    "model.compile(optimizer='adam', loss='binary_crossentropy',metrics=['accuracy'])\n",
    "\n",
    "epochs=20"
   ]
  },
  {
   "cell_type": "code",
   "execution_count": 31,
   "id": "de1780bb",
   "metadata": {},
   "outputs": [
    {
     "name": "stdout",
     "output_type": "stream",
     "text": [
      "Epoch 1/20\n",
      "257/257 [==============================] - 2s 7ms/step - loss: 0.4452 - accuracy: 0.8085 - val_loss: 0.3362 - val_accuracy: 0.8507\n",
      "Epoch 2/20\n",
      "257/257 [==============================] - 2s 6ms/step - loss: 0.3035 - accuracy: 0.8729 - val_loss: 0.3274 - val_accuracy: 0.8573\n",
      "Epoch 3/20\n",
      "257/257 [==============================] - 2s 6ms/step - loss: 0.2539 - accuracy: 0.8978 - val_loss: 0.3356 - val_accuracy: 0.8564\n",
      "Epoch 4/20\n",
      "257/257 [==============================] - 2s 6ms/step - loss: 0.2074 - accuracy: 0.9214 - val_loss: 0.3558 - val_accuracy: 0.8545\n",
      "Epoch 5/20\n",
      "257/257 [==============================] - 2s 6ms/step - loss: 0.1581 - accuracy: 0.9444 - val_loss: 0.3834 - val_accuracy: 0.8546\n",
      "Epoch 6/20\n",
      "257/257 [==============================] - 2s 6ms/step - loss: 0.1104 - accuracy: 0.9662 - val_loss: 0.4282 - val_accuracy: 0.8506\n",
      "Epoch 7/20\n",
      "257/257 [==============================] - 2s 6ms/step - loss: 0.0717 - accuracy: 0.9808 - val_loss: 0.4709 - val_accuracy: 0.8491\n",
      "Epoch 8/20\n",
      "257/257 [==============================] - 2s 6ms/step - loss: 0.0467 - accuracy: 0.9891 - val_loss: 0.5099 - val_accuracy: 0.8485\n",
      "Epoch 9/20\n",
      "257/257 [==============================] - 2s 6ms/step - loss: 0.0325 - accuracy: 0.9926 - val_loss: 0.5484 - val_accuracy: 0.8479\n",
      "Epoch 10/20\n",
      "257/257 [==============================] - 2s 6ms/step - loss: 0.0242 - accuracy: 0.9942 - val_loss: 0.5831 - val_accuracy: 0.8457\n",
      "Epoch 11/20\n",
      "257/257 [==============================] - 2s 6ms/step - loss: 0.0188 - accuracy: 0.9950 - val_loss: 0.6085 - val_accuracy: 0.8455\n",
      "Epoch 12/20\n",
      "257/257 [==============================] - 2s 6ms/step - loss: 0.0153 - accuracy: 0.9955 - val_loss: 0.6479 - val_accuracy: 0.8443\n",
      "Epoch 13/20\n",
      "257/257 [==============================] - 2s 6ms/step - loss: 0.0135 - accuracy: 0.9958 - val_loss: 0.6634 - val_accuracy: 0.8425\n",
      "Epoch 14/20\n",
      "257/257 [==============================] - 2s 6ms/step - loss: 0.0122 - accuracy: 0.9960 - val_loss: 0.6831 - val_accuracy: 0.8453\n",
      "Epoch 15/20\n",
      "257/257 [==============================] - 2s 6ms/step - loss: 0.0110 - accuracy: 0.9960 - val_loss: 0.7035 - val_accuracy: 0.8463\n",
      "Epoch 16/20\n",
      "257/257 [==============================] - 2s 6ms/step - loss: 0.0098 - accuracy: 0.9964 - val_loss: 0.7403 - val_accuracy: 0.8453\n",
      "Epoch 17/20\n",
      "257/257 [==============================] - 2s 6ms/step - loss: 0.0096 - accuracy: 0.9963 - val_loss: 0.7388 - val_accuracy: 0.8461\n",
      "Epoch 18/20\n",
      "257/257 [==============================] - 2s 6ms/step - loss: 0.0085 - accuracy: 0.9966 - val_loss: 0.7611 - val_accuracy: 0.8449\n",
      "Epoch 19/20\n",
      "257/257 [==============================] - 2s 6ms/step - loss: 0.0081 - accuracy: 0.9966 - val_loss: 0.7839 - val_accuracy: 0.8447\n",
      "Epoch 20/20\n",
      "257/257 [==============================] - 2s 6ms/step - loss: 0.0079 - accuracy: 0.9966 - val_loss: 0.8018 - val_accuracy: 0.8426\n"
     ]
    }
   ],
   "source": [
    "history = model.fit(partial_X_train,partial_y_train,epochs=epochs,batch_size=512,validation_data=(x_validation, y_validation),verbose=1)"
   ]
  },
  {
   "cell_type": "code",
   "execution_count": 32,
   "id": "4a3724a8",
   "metadata": {},
   "outputs": [
    {
     "name": "stdout",
     "output_type": "stream",
     "text": [
      "1537/1537 - 2s - loss: 0.8210 - accuracy: 0.8408\n",
      "[0.8210379481315613, 0.8407958149909973]\n"
     ]
    }
   ],
   "source": [
    "results = model.evaluate(X_test,  y_test, verbose=2)\n",
    "\n",
    "print(results)"
   ]
  },
  {
   "cell_type": "code",
   "execution_count": 33,
   "id": "23448a1a",
   "metadata": {},
   "outputs": [
    {
     "data": {
      "image/png": "[encoded data removed]",
      "text/plain": [
       "<Figure size 432x288 with 1 Axes>"
      ]
     },
     "metadata": {
      "needs_background": "light"
     },
     "output_type": "display_data"
    }
   ],
   "source": [
    "plt.plot(history.history['accuracy'])\n",
    "plt.plot(history.history['val_accuracy'])\n",
    "plt.title('model accuracy')\n",
    "plt.ylabel('accuracy')\n",
    "plt.xlabel('epoch')\n",
    "plt.legend(['train', 'test'], loc='upper left')\n",
    "plt.show()"
   ]
  },
  {
   "cell_type": "code",
   "execution_count": 34,
   "id": "361861da",
   "metadata": {},
   "outputs": [
    {
     "data": {
      "image/png": "[encoded data removed]",
      "text/plain": [
       "<Figure size 432x288 with 1 Axes>"
      ]
     },
     "metadata": {
      "needs_background": "light"
     },
     "output_type": "display_data"
    }
   ],
   "source": [
    "plt.plot(history.history['loss'])\n",
    "plt.plot(history.history['val_loss'])\n",
    "plt.title('model loss')\n",
    "plt.ylabel('loss')\n",
    "plt.xlabel('epoch')\n",
    "plt.legend(['train', 'test'], loc='upper left')\n",
    "plt.show()"
   ]
  },
  {
   "cell_type": "code",
   "execution_count": 35,
   "id": "428e1eb5",
   "metadata": {},
   "outputs": [
    {
     "name": "stdout",
     "output_type": "stream",
     "text": [
      "(10000, 400)\n"
     ]
    }
   ],
   "source": [
    "embedding_layer = model.layers[0]\n",
    "weights = embedding_layer.get_weights()[0]\n",
    "print(weights.shape)    # shape: (vocab_size, embedding_dim)"
   ]
  },
  {
   "cell_type": "code",
   "execution_count": 36,
   "id": "4e7963c2",
   "metadata": {},
   "outputs": [],
   "source": [
    "# 학습한 Embedding 파라미터를 파일에 써서 저장합니다. \n",
    "word2vec_file_path = os.getenv('HOME')+'/aiffel/sentiment_classification/data/word2vec.txt'\n",
    "f = open(word2vec_file_path, 'w')\n",
    "f.write('{} {}\\n'.format(vocab_size-4, word_vector_dim))  # 몇개의 벡터를 얼마 사이즈로 기재할지 타이틀을 씁니다.\n",
    "\n",
    "# 단어 개수(에서 특수문자 4개는 제외하고)만큼의 워드 벡터를 파일에 기록합니다. \n",
    "vectors = model.get_weights()[0]\n",
    "for i in range(4,vocab_size):\n",
    "    f.write('{} {}\\n'.format(index_to_word[i], ' '.join(map(str, list(vectors[i, :])))))\n",
    "f.close()"
   ]
  },
  {
   "cell_type": "code",
   "execution_count": 37,
   "id": "cde70f99",
   "metadata": {},
   "outputs": [
    {
     "data": {
      "text/plain": [
       "array([ 9.96034443e-02,  1.74057141e-01, -3.22871283e-02, -3.57758813e-02,\n",
       "        1.12056956e-01,  1.20552525e-01,  2.00526595e-01, -1.39714144e-02,\n",
       "       -4.35667038e-02, -2.32877978e-03, -2.41924934e-02,  4.84228618e-02,\n",
       "        3.73703204e-02, -6.70993775e-02,  2.04373766e-02,  2.58330256e-02,\n",
       "        1.13729268e-01,  1.12248063e-01,  1.77698657e-01, -1.68265437e-03,\n",
       "        1.44990116e-01,  6.24165731e-03,  8.11260864e-02,  1.28112689e-01,\n",
       "       -1.52003756e-02,  1.36486396e-01, -1.62255613e-03, -7.64443725e-03,\n",
       "       -6.94201812e-02,  1.61785726e-02, -2.59271841e-02,  6.69630617e-03,\n",
       "        9.78193209e-02, -8.48330185e-03, -2.30980199e-02, -2.80398992e-03,\n",
       "        6.47311136e-02, -4.24951166e-02, -4.15162928e-02, -2.29281951e-02,\n",
       "        1.53260097e-01,  1.07135504e-01, -5.49122971e-03,  1.37654409e-01,\n",
       "        3.06647755e-02, -2.96630729e-02,  4.64671180e-02,  7.28683127e-03,\n",
       "        4.80774930e-03,  2.04452723e-01, -3.03120743e-02,  1.69523120e-01,\n",
       "       -5.92227913e-02,  9.14043095e-03, -4.97293919e-02,  8.84487480e-02,\n",
       "       -6.23917580e-02,  1.38604090e-01,  3.94287147e-03,  7.94012025e-02,\n",
       "       -8.03073645e-02,  6.43816441e-02, -2.58838069e-02,  1.12858787e-01,\n",
       "       -3.25758718e-02,  1.08264215e-01, -1.82966795e-02, -5.58467954e-03,\n",
       "       -5.36305904e-02,  1.98319331e-01,  1.42230093e-01,  2.32777726e-02,\n",
       "       -4.12132731e-03, -7.81563595e-02, -4.51549776e-02,  8.76521990e-02,\n",
       "       -6.83543533e-02, -4.75740470e-02,  9.11824033e-02, -5.13616279e-02,\n",
       "        1.14872411e-01,  1.35886192e-01, -7.46116266e-02,  2.02778801e-01,\n",
       "        3.49706598e-02,  1.36258695e-02,  1.56784549e-01, -1.93624981e-02,\n",
       "       -1.75201297e-02,  6.81364983e-02,  4.23358567e-02,  9.47530381e-03,\n",
       "       -6.22095773e-03,  1.37323201e-01,  3.96485701e-02, -4.53689434e-02,\n",
       "        9.61949527e-02, -9.84866545e-03,  1.10089302e-03, -9.27171186e-02,\n",
       "        5.35552157e-04,  2.49035396e-02,  1.48702774e-03,  2.83542518e-02,\n",
       "        1.11523189e-01,  1.38449430e-01,  9.82132461e-03, -4.43977490e-02,\n",
       "       -8.51400048e-02,  1.60507672e-02, -1.26969181e-02, -3.87150049e-02,\n",
       "        5.58315180e-02, -2.81909853e-03,  5.63407578e-02, -4.79288809e-02,\n",
       "       -1.18096732e-03, -6.66034147e-02,  6.56224638e-02, -2.07456946e-02,\n",
       "       -6.40309677e-02, -7.38909915e-02,  1.14330826e-02, -2.23952197e-02,\n",
       "        1.31512925e-01,  9.51115191e-02,  1.46462962e-01,  3.09277885e-02,\n",
       "       -1.37986168e-02,  1.21642582e-01,  1.57192126e-02, -5.03113754e-02,\n",
       "        4.72427532e-03,  1.55057222e-01,  1.33113444e-01,  6.33539557e-02,\n",
       "       -7.10248947e-02,  7.64025152e-02, -4.51244488e-02, -6.02131896e-02,\n",
       "       -8.10976923e-02, -7.15668648e-02,  1.76673189e-01, -9.83396824e-03,\n",
       "        1.24541312e-01,  8.76454413e-02,  7.44909719e-02,  6.92681819e-02,\n",
       "       -3.16119902e-02,  1.26553655e-01, -3.31674819e-03, -1.60627980e-02,\n",
       "        1.17434688e-01,  7.96847790e-02,  4.61870804e-02,  7.76956454e-02,\n",
       "        7.36417016e-03,  1.44040018e-01, -5.99673353e-02,  2.21397832e-01,\n",
       "        3.80092598e-02,  7.77008459e-02, -1.75971389e-02, -5.19007333e-02,\n",
       "        1.33679807e-01,  5.93995256e-03,  1.22865802e-03, -1.21385129e-02,\n",
       "       -4.95978817e-02, -5.66348545e-02,  2.26276871e-02,  1.39462873e-01,\n",
       "       -1.71051566e-02,  1.59241468e-01,  1.13933221e-01, -2.74880156e-02,\n",
       "       -2.92293113e-02,  1.00128324e-04,  3.35502103e-02,  1.42280921e-01,\n",
       "       -2.96217799e-02,  9.86613408e-02,  7.01448023e-02, -8.81393533e-03,\n",
       "        8.94814581e-02,  8.75223204e-02,  1.40655309e-01, -7.11648092e-02,\n",
       "       -1.98802422e-03,  1.83930192e-02,  1.43644542e-01,  4.90627252e-03,\n",
       "       -2.98674963e-02,  9.43817273e-02, -1.89603586e-02, -8.45829397e-03,\n",
       "        1.52270362e-01, -1.07538132e-02,  1.57291457e-01, -6.91205263e-02,\n",
       "        1.01612449e-01, -4.91622351e-02,  1.58876497e-02, -4.12607118e-02,\n",
       "       -9.47367400e-04, -3.90748382e-02, -3.47021110e-02, -6.87523838e-03,\n",
       "        1.52845159e-01,  1.77218579e-02, -4.23545018e-02, -8.03908557e-02,\n",
       "       -2.47172415e-02, -4.68939431e-02,  1.21471077e-01,  3.64126191e-02,\n",
       "       -2.56785173e-02,  4.78819311e-02,  3.97385051e-03,  1.63638871e-02,\n",
       "       -5.32848621e-03,  1.49679501e-02, -2.52362341e-02,  4.63090464e-02,\n",
       "        4.28664126e-02,  6.58120885e-02, -8.34957734e-02, -6.67994544e-02,\n",
       "        2.29904465e-02,  1.07047834e-01,  1.26440749e-01, -4.35409658e-02,\n",
       "        9.60528776e-02,  1.24077901e-01, -4.02415022e-02,  1.21806115e-01,\n",
       "       -4.08302881e-02,  1.54112518e-01,  1.06022000e-01,  1.72903627e-01,\n",
       "        1.02194153e-01,  2.05893759e-02,  9.96981114e-02, -3.37370224e-02,\n",
       "       -4.52703610e-02,  2.35028621e-02, -2.56455299e-02,  6.92424923e-02,\n",
       "       -3.03522684e-03, -4.15490158e-02,  7.85755217e-02, -1.57818962e-02,\n",
       "        9.16931778e-03,  8.07598531e-02,  1.35318175e-01, -8.30399245e-02,\n",
       "        2.04287730e-02,  7.02295750e-02, -3.11660059e-02, -2.62692175e-03,\n",
       "       -1.99234653e-02,  1.62114352e-01,  1.29488766e-01, -3.87888700e-02,\n",
       "       -1.75754055e-02,  1.37922749e-01,  5.19093592e-04,  4.00898755e-02,\n",
       "        4.63220887e-02, -3.12774517e-02,  4.96280305e-02, -2.62352955e-02,\n",
       "        7.45597631e-02,  1.60886779e-01,  4.83760238e-03, -5.42699033e-03,\n",
       "        6.34903610e-02,  1.07117832e-01,  3.90487374e-03, -4.33070399e-03,\n",
       "        1.05613090e-01,  1.18105318e-02, -3.34019624e-02,  5.76407984e-02,\n",
       "       -3.99487838e-02, -3.37192491e-02, -3.68339755e-02,  7.01699406e-02,\n",
       "        1.10908769e-01, -2.05615126e-02,  2.65178774e-02,  1.82886962e-02,\n",
       "       -3.08902897e-02, -1.32690677e-02, -6.27351403e-02,  3.18933465e-02,\n",
       "        1.64942041e-01,  7.62034282e-02, -6.38172552e-02, -1.96591602e-03,\n",
       "        1.46140317e-02, -8.22860003e-03,  6.87286779e-02, -2.26878077e-02,\n",
       "        4.80145887e-02,  1.56645060e-01, -2.61407867e-02,  1.58765391e-02,\n",
       "        1.03306621e-01, -5.29552102e-02,  1.29044026e-01,  8.40988532e-02,\n",
       "       -3.34957466e-02,  9.75415260e-02,  1.42415822e-01, -3.04074287e-02,\n",
       "        2.26920526e-02, -6.24425225e-02,  1.33851305e-01, -5.54202870e-03,\n",
       "        1.39920756e-01, -6.10447954e-03,  1.04653828e-01, -7.60795772e-02,\n",
       "       -4.91803186e-03, -1.37294047e-02, -5.71266524e-02, -2.67522894e-02,\n",
       "       -2.73917913e-02,  3.23465536e-03, -2.23578233e-02,  6.16177879e-02,\n",
       "        5.69425113e-02,  1.03278629e-01,  4.85528745e-02, -8.20333734e-02,\n",
       "       -7.76944086e-02,  1.25805631e-01,  2.36124210e-02, -7.56358844e-04,\n",
       "        2.32003517e-02, -2.16033217e-02,  1.01805270e-01, -5.73323369e-02,\n",
       "       -3.96964327e-02, -2.34702118e-02,  1.66903660e-02,  8.23080540e-02,\n",
       "        1.22310095e-01, -2.10791314e-03,  1.16151469e-02,  1.86450407e-02,\n",
       "       -1.59149356e-02,  2.79773101e-02,  6.90562725e-02,  1.14163384e-02,\n",
       "       -3.26677226e-02, -1.63035206e-02,  1.17081732e-01,  1.24534532e-01,\n",
       "       -9.28679388e-03,  7.59080192e-03,  1.21376687e-03,  1.81064829e-02,\n",
       "       -7.84333348e-02,  2.31537446e-02, -7.87915066e-02,  4.74851206e-02,\n",
       "        4.03660238e-02, -6.38563782e-02,  1.94775481e-02, -3.40371393e-02,\n",
       "        2.90679839e-02,  1.26438618e-01,  6.78365380e-02,  4.80581857e-02,\n",
       "        5.02281189e-02, -3.68039571e-02,  2.31111366e-02, -3.86366472e-02,\n",
       "       -2.90647242e-03, -3.17457914e-02,  5.47605455e-02,  2.74776435e-03,\n",
       "        1.48994476e-01,  1.41407982e-01,  1.52684495e-01, -2.02299356e-02,\n",
       "       -7.71649778e-02, -2.25756653e-02, -8.91731994e-04,  1.45772576e-01,\n",
       "        1.29837424e-01, -4.27841507e-02, -3.08187082e-02, -5.22435550e-03,\n",
       "       -3.79364938e-02,  3.61487307e-02,  5.02079725e-03, -1.40708312e-02],\n",
       "      dtype=float32)"
      ]
     },
     "execution_count": 37,
     "metadata": {},
     "output_type": "execute_result"
    }
   ],
   "source": [
    "from gensim.models.keyedvectors import Word2VecKeyedVectors\n",
    "\n",
    "word_vectors = Word2VecKeyedVectors.load_word2vec_format(word2vec_file_path, binary=False)\n",
    "vector = word_vectors['love']\n",
    "vector"
   ]
  },
  {
   "cell_type": "code",
   "execution_count": 38,
   "id": "cf20f418",
   "metadata": {},
   "outputs": [
    {
     "data": {
      "text/plain": [
       "[('잼따', 0.7262195944786072),\n",
       " ('멋져요', 0.7155186533927917),\n",
       " ('아름다워요', 0.7105897665023804),\n",
       " ('조음', 0.7059292793273926),\n",
       " ('！', 0.7032471299171448),\n",
       " ('great', 0.6873793005943298),\n",
       " ('슬퍼요', 0.6866161823272705),\n",
       " ('♥♥♥♥', 0.6850271224975586),\n",
       " ('고마워요', 0.6717073917388916),\n",
       " ('이제서야', 0.6644280552864075)]"
      ]
     },
     "execution_count": 38,
     "metadata": {},
     "output_type": "execute_result"
    }
   ],
   "source": [
    "word_vectors.similar_by_word(\"love\")"
   ]
  },
  {
   "cell_type": "code",
   "execution_count": 39,
   "id": "4f6e0d02",
   "metadata": {},
   "outputs": [
    {
     "data": {
      "text/plain": [
       "array([ 1.07421875e-01, -2.01171875e-01,  1.23046875e-01,  2.11914062e-01,\n",
       "       -9.13085938e-02,  2.16796875e-01, -1.31835938e-01,  8.30078125e-02,\n",
       "        2.02148438e-01,  4.78515625e-02,  3.66210938e-02, -2.45361328e-02,\n",
       "        2.39257812e-02, -1.60156250e-01, -2.61230469e-02,  9.71679688e-02,\n",
       "       -6.34765625e-02,  1.84570312e-01,  1.70898438e-01, -1.63085938e-01,\n",
       "       -1.09375000e-01,  1.49414062e-01, -4.65393066e-04,  9.61914062e-02,\n",
       "        1.68945312e-01,  2.60925293e-03,  8.93554688e-02,  6.49414062e-02,\n",
       "        3.56445312e-02, -6.93359375e-02, -1.46484375e-01, -1.21093750e-01,\n",
       "       -2.27539062e-01,  2.45361328e-02, -1.24511719e-01, -3.18359375e-01,\n",
       "       -2.20703125e-01,  1.30859375e-01,  3.66210938e-02, -3.63769531e-02,\n",
       "       -1.13281250e-01,  1.95312500e-01,  9.76562500e-02,  1.26953125e-01,\n",
       "        6.59179688e-02,  6.93359375e-02,  1.02539062e-02,  1.75781250e-01,\n",
       "       -1.68945312e-01,  1.21307373e-03, -2.98828125e-01, -1.15234375e-01,\n",
       "        5.66406250e-02, -1.77734375e-01, -2.08984375e-01,  1.76757812e-01,\n",
       "        2.38037109e-02, -2.57812500e-01, -4.46777344e-02,  1.88476562e-01,\n",
       "        5.51757812e-02,  5.02929688e-02, -1.06933594e-01,  1.89453125e-01,\n",
       "       -1.16210938e-01,  8.49609375e-02, -1.71875000e-01,  2.45117188e-01,\n",
       "       -1.73828125e-01, -8.30078125e-03,  4.56542969e-02, -1.61132812e-02,\n",
       "        1.86523438e-01, -6.05468750e-02, -4.17480469e-02,  1.82617188e-01,\n",
       "        2.20703125e-01, -1.22558594e-01, -2.55126953e-02, -3.08593750e-01,\n",
       "        9.13085938e-02,  1.60156250e-01,  1.70898438e-01,  1.19628906e-01,\n",
       "        7.08007812e-02, -2.64892578e-02, -3.08837891e-02,  4.06250000e-01,\n",
       "       -1.01562500e-01,  5.71289062e-02, -7.26318359e-03, -9.17968750e-02,\n",
       "       -1.50390625e-01, -2.55859375e-01,  2.16796875e-01, -3.63769531e-02,\n",
       "        2.24609375e-01,  8.00781250e-02,  1.56250000e-01,  5.27343750e-02,\n",
       "        1.50390625e-01, -1.14746094e-01, -8.64257812e-02,  1.19140625e-01,\n",
       "       -7.17773438e-02,  2.73437500e-01, -1.64062500e-01,  7.29370117e-03,\n",
       "        4.21875000e-01, -1.12792969e-01, -1.35742188e-01, -1.31835938e-01,\n",
       "       -1.37695312e-01, -7.66601562e-02,  6.25000000e-02,  4.98046875e-02,\n",
       "       -1.91406250e-01, -6.03027344e-02,  2.27539062e-01,  5.88378906e-02,\n",
       "       -3.24218750e-01,  5.41992188e-02, -1.35742188e-01,  8.17871094e-03,\n",
       "       -5.24902344e-02, -1.74713135e-03, -9.81445312e-02, -2.86865234e-02,\n",
       "        3.61328125e-02,  2.15820312e-01,  5.98144531e-02, -3.08593750e-01,\n",
       "       -2.27539062e-01,  2.61718750e-01,  9.86328125e-02, -5.07812500e-02,\n",
       "        1.78222656e-02,  1.31835938e-01, -5.35156250e-01, -1.81640625e-01,\n",
       "        1.38671875e-01, -3.10546875e-01, -9.71679688e-02,  1.31835938e-01,\n",
       "       -1.16210938e-01,  7.03125000e-02,  2.85156250e-01,  3.51562500e-02,\n",
       "       -1.01562500e-01, -3.75976562e-02,  1.41601562e-01,  1.42578125e-01,\n",
       "       -5.68847656e-02,  2.65625000e-01, -2.09960938e-01,  9.64355469e-03,\n",
       "       -6.68945312e-02, -4.83398438e-02, -6.10351562e-02,  2.45117188e-01,\n",
       "       -9.66796875e-02,  1.78222656e-02, -1.27929688e-01, -4.78515625e-02,\n",
       "       -7.26318359e-03,  1.79687500e-01,  2.78320312e-02, -2.10937500e-01,\n",
       "       -1.43554688e-01, -1.27929688e-01,  1.73339844e-02, -3.60107422e-03,\n",
       "       -2.04101562e-01,  3.63159180e-03, -1.19628906e-01, -6.15234375e-02,\n",
       "        5.93261719e-02, -3.23486328e-03, -1.70898438e-01, -3.14941406e-02,\n",
       "       -8.88671875e-02, -2.89062500e-01,  3.44238281e-02, -1.87500000e-01,\n",
       "        2.94921875e-01,  1.58203125e-01, -1.19628906e-01,  7.61718750e-02,\n",
       "        6.39648438e-02, -4.68750000e-02, -6.83593750e-02,  1.21459961e-02,\n",
       "       -1.44531250e-01,  4.54101562e-02,  3.68652344e-02,  3.88671875e-01,\n",
       "        1.45507812e-01, -2.55859375e-01, -4.46777344e-02, -1.33789062e-01,\n",
       "       -1.38671875e-01,  6.59179688e-02,  1.37695312e-01,  1.14746094e-01,\n",
       "        2.03125000e-01, -4.78515625e-02,  1.80664062e-02, -8.54492188e-02,\n",
       "       -2.48046875e-01, -3.39843750e-01, -2.83203125e-02,  1.05468750e-01,\n",
       "       -2.14843750e-01, -8.74023438e-02,  7.12890625e-02,  1.87500000e-01,\n",
       "       -1.12304688e-01,  2.73437500e-01, -3.26171875e-01, -1.77734375e-01,\n",
       "       -4.24804688e-02, -2.69531250e-01,  6.64062500e-02, -6.88476562e-02,\n",
       "       -1.99218750e-01, -7.03125000e-02, -2.43164062e-01, -3.66210938e-02,\n",
       "       -7.37304688e-02, -1.77734375e-01,  9.17968750e-02, -1.25000000e-01,\n",
       "       -1.65039062e-01, -3.57421875e-01, -2.85156250e-01, -1.66992188e-01,\n",
       "        1.97265625e-01, -1.53320312e-01,  2.31933594e-02,  2.06054688e-01,\n",
       "        1.80664062e-01, -2.74658203e-02, -1.92382812e-01, -9.61914062e-02,\n",
       "       -1.06811523e-02, -4.73632812e-02,  6.54296875e-02, -1.25732422e-02,\n",
       "        1.78222656e-02, -8.00781250e-02, -2.59765625e-01,  9.37500000e-02,\n",
       "       -7.81250000e-02,  4.68750000e-02, -2.22167969e-02,  1.86767578e-02,\n",
       "        3.11279297e-02,  1.04980469e-02, -1.69921875e-01,  2.58789062e-02,\n",
       "       -3.41796875e-02, -1.44042969e-02, -5.46875000e-02, -8.78906250e-02,\n",
       "        1.96838379e-03,  2.23632812e-01, -1.36718750e-01,  1.75781250e-01,\n",
       "       -1.63085938e-01,  1.87500000e-01,  3.44238281e-02, -5.63964844e-02,\n",
       "       -2.27689743e-05,  4.27246094e-02,  5.81054688e-02, -1.07910156e-01,\n",
       "       -3.88183594e-02, -2.69531250e-01,  3.34472656e-02,  9.81445312e-02,\n",
       "        5.63964844e-02,  2.23632812e-01, -5.49316406e-02,  1.46484375e-01,\n",
       "        5.93261719e-02, -2.19726562e-01,  6.39648438e-02,  1.66015625e-02,\n",
       "        4.56542969e-02,  3.26171875e-01, -3.80859375e-01,  1.70898438e-01,\n",
       "        5.66406250e-02, -1.04492188e-01,  1.38671875e-01, -1.57226562e-01,\n",
       "        3.23486328e-03, -4.80957031e-02, -2.48046875e-01, -6.20117188e-02],\n",
       "      dtype=float32)"
      ]
     },
     "execution_count": 39,
     "metadata": {},
     "output_type": "execute_result"
    }
   ],
   "source": [
    "from gensim.models import KeyedVectors\n",
    "\n",
    "word2vec_path = os.getenv('HOME')+'/aiffel/sentiment_classification/data/GoogleNews-vectors-negative300.bin.gz'\n",
    "word2vec = KeyedVectors.load_word2vec_format(word2vec_path, binary=True, limit=1000000)\n",
    "vector = word2vec['computer']\n",
    "vector \n",
    "\n"
   ]
  },
  {
   "cell_type": "code",
   "execution_count": 40,
   "id": "58d23470",
   "metadata": {},
   "outputs": [
    {
     "data": {
      "text/plain": [
       "[('loved', 0.6907791495323181),\n",
       " ('adore', 0.6816873550415039),\n",
       " ('loves', 0.661863386631012),\n",
       " ('passion', 0.6100708842277527),\n",
       " ('hate', 0.600395679473877),\n",
       " ('loving', 0.5886635780334473),\n",
       " ('affection', 0.5664337873458862),\n",
       " ('undying_love', 0.5547304749488831),\n",
       " ('absolutely_adore', 0.5536840558052063),\n",
       " ('adores', 0.5440906882286072)]"
      ]
     },
     "execution_count": 40,
     "metadata": {},
     "output_type": "execute_result"
    }
   ],
   "source": [
    "word2vec.similar_by_word(\"love\")"
   ]
  },
  {
   "cell_type": "code",
   "execution_count": 41,
   "id": "8ef731ee",
   "metadata": {},
   "outputs": [],
   "source": [
    "vocab_size = 10000    # 어휘 사전의 크기입니다(10,000개의 단어)\n",
    "word_vector_dim = 300  # 워드 벡터의 차원수\n",
    "embedding_matrix = np.random.rand(vocab_size, word_vector_dim)\n",
    "\n",
    "# embedding_matrix에 Word2Vec 워드 벡터를 단어 하나씩마다 차례차례 카피한다.\n",
    "for i in range(4,vocab_size):\n",
    "    if index_to_word[i] in word2vec:\n",
    "        embedding_matrix[i] = word2vec[index_to_word[i]]"
   ]
  },
  {
   "cell_type": "code",
   "execution_count": 42,
   "id": "cd66eca6",
   "metadata": {},
   "outputs": [
    {
     "name": "stdout",
     "output_type": "stream",
     "text": [
      "Model: \"sequential_3\"\n",
      "_________________________________________________________________\n",
      "Layer (type)                 Output Shape              Param #   \n",
      "=================================================================\n",
      "embedding_4 (Embedding)      (None, 41, 300)           3000000   \n",
      "_________________________________________________________________\n",
      "conv1d_2 (Conv1D)            (None, 35, 16)            33616     \n",
      "_________________________________________________________________\n",
      "max_pooling1d_1 (MaxPooling1 (None, 7, 16)             0         \n",
      "_________________________________________________________________\n",
      "conv1d_3 (Conv1D)            (None, 1, 16)             1808      \n",
      "_________________________________________________________________\n",
      "global_max_pooling1d_2 (Glob (None, 16)                0         \n",
      "_________________________________________________________________\n",
      "dense_6 (Dense)              (None, 8)                 136       \n",
      "_________________________________________________________________\n",
      "dense_7 (Dense)              (None, 1)                 9         \n",
      "=================================================================\n",
      "Total params: 3,035,569\n",
      "Trainable params: 3,035,569\n",
      "Non-trainable params: 0\n",
      "_________________________________________________________________\n"
     ]
    }
   ],
   "source": [
    "from tensorflow.keras.initializers import Constant\n",
    "\n",
    "vocab_size = 10000    # 어휘 사전의 크기입니다(10,000개의 단어)\n",
    "word_vector_dim = 300  # 워드 벡터의 차원 수 \n",
    "\n",
    "# 모델 구성\n",
    "model = tf.keras.Sequential()\n",
    "model.add(tf.keras.layers.Embedding(vocab_size, \n",
    "                                 word_vector_dim, \n",
    "                                 embeddings_initializer=Constant(embedding_matrix),  # 카피한 임베딩을 여기서 활용\n",
    "                                 input_length=maxlen, \n",
    "                                 trainable=True))   # trainable을 True로 주면 Fine-tuning\n",
    "model.add(tf.keras.layers.Conv1D(16, 7, activation='relu'))\n",
    "model.add(tf.keras.layers.MaxPooling1D(5))\n",
    "model.add(tf.keras.layers.Conv1D(16, 7, activation='relu'))\n",
    "model.add(tf.keras.layers.GlobalMaxPooling1D())\n",
    "model.add(tf.keras.layers.Dense(8, activation='relu'))\n",
    "model.add(tf.keras.layers.Dense(1, activation='sigmoid')) \n",
    "\n",
    "model.summary()"
   ]
  },
  {
   "cell_type": "code",
   "execution_count": 43,
   "id": "4b01149b",
   "metadata": {},
   "outputs": [
    {
     "name": "stdout",
     "output_type": "stream",
     "text": [
      "Epoch 1/10\n",
      "257/257 [==============================] - 3s 9ms/step - loss: 0.6933 - accuracy: 0.4980 - val_loss: 0.6931 - val_accuracy: 0.5045\n",
      "Epoch 2/10\n",
      "257/257 [==============================] - 2s 7ms/step - loss: 0.6931 - accuracy: 0.5014 - val_loss: 0.6931 - val_accuracy: 0.5045\n",
      "Epoch 3/10\n",
      "257/257 [==============================] - 2s 7ms/step - loss: 0.6932 - accuracy: 0.5008 - val_loss: 0.6931 - val_accuracy: 0.5045\n",
      "Epoch 4/10\n",
      "257/257 [==============================] - 2s 7ms/step - loss: 0.6932 - accuracy: 0.5014 - val_loss: 0.6931 - val_accuracy: 0.5045\n",
      "Epoch 5/10\n",
      "257/257 [==============================] - 2s 7ms/step - loss: 0.6932 - accuracy: 0.5003 - val_loss: 0.6931 - val_accuracy: 0.5045\n",
      "Epoch 6/10\n",
      "257/257 [==============================] - 2s 7ms/step - loss: 0.6932 - accuracy: 0.4999 - val_loss: 0.6931 - val_accuracy: 0.5045\n",
      "Epoch 7/10\n",
      "257/257 [==============================] - 2s 7ms/step - loss: 0.6931 - accuracy: 0.5006 - val_loss: 0.6931 - val_accuracy: 0.5045\n",
      "Epoch 8/10\n",
      "257/257 [==============================] - 2s 7ms/step - loss: 0.6931 - accuracy: 0.4999 - val_loss: 0.6931 - val_accuracy: 0.5045\n",
      "Epoch 9/10\n",
      "257/257 [==============================] - 2s 7ms/step - loss: 0.6932 - accuracy: 0.5010 - val_loss: 0.6931 - val_accuracy: 0.5045\n",
      "Epoch 10/10\n",
      "257/257 [==============================] - 2s 7ms/step - loss: 0.6932 - accuracy: 0.5003 - val_loss: 0.6931 - val_accuracy: 0.5045\n"
     ]
    }
   ],
   "source": [
    "model.compile(optimizer='adam',\n",
    "              loss='binary_crossentropy',\n",
    "              metrics=['accuracy'])\n",
    "              \n",
    "epochs=10  # 몇 epoch를 훈련하면 좋을지 결과를 보면서 바꾸어 봅시다. \n",
    "\n",
    "history = model.fit(partial_X_train,\n",
    "                    partial_y_train,\n",
    "                    epochs=epochs,\n",
    "                    batch_size=512,\n",
    "                    validation_data=(x_validation, y_validation),\n",
    "                    verbose=1)"
   ]
  },
  {
   "cell_type": "code",
   "execution_count": 44,
   "id": "a5712ee7",
   "metadata": {},
   "outputs": [
    {
     "name": "stdout",
     "output_type": "stream",
     "text": [
      "1537/1537 - 3s - loss: 0.6932 - accuracy: 0.4973\n",
      "[0.6931893825531006, 0.4973045587539673]\n"
     ]
    }
   ],
   "source": [
    "results = model.evaluate(X_test,  y_test, verbose=2)\n",
    "\n",
    "print(results)"
   ]
  },
  {
   "cell_type": "markdown",
   "id": "887bfb8c",
   "metadata": {},
   "source": [
    "#### 회고: \n",
    "이번 exploration도 어려웠다. 설명에 없었던 history 사용해서 accuracy, loss 값을 그래프로 그리느라 시간을 많이 잡아먹었지만 이렇게 더 배우게 되는 것 같다. \n",
    "    Gensim은 한국어 ko.bin 다운로드까지 했는데 gensim 버전 낮추는 법을 못 찾아 한국어로 돌려보기는 아직 못해봤다. ㅠ \n",
    "    그리고 하이퍼파라미터 설정은 여전히 너무 어렵다. \n",
    "    한가지 더, 리뷰 데이터를 시계열 데이터로 바라보는 관점도 새로웠다.  "
   ]
  },
  {
   "cell_type": "code",
   "execution_count": null,
   "id": "5d2b490f",
   "metadata": {},
   "outputs": [],
   "source": []
  }
 ],
 "metadata": {
  "kernelspec": {
   "display_name": "Python 3 (ipykernel)",
   "language": "python",
   "name": "python3"
  },
  "language_info": {
   "codemirror_mode": {
    "name": "ipython",
    "version": 3
   },
   "file_extension": ".py",
   "mimetype": "text/x-python",
   "name": "python",
   "nbconvert_exporter": "python",
   "pygments_lexer": "ipython3",
   "version": "3.9.7"
  }
 },
 "nbformat": 4,
 "nbformat_minor": 5
}
